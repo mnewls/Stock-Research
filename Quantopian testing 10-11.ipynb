{
 "cells": [
  {
   "cell_type": "code",
   "execution_count": 26,
   "metadata": {},
   "outputs": [],
   "source": [
    "from quantopian.pipeline import Pipeline\n",
    "from quantopian.pipeline.factors import DailyReturns\n",
    "from quantopian.pipeline.factors import Returns\n",
    "from quantopian.pipeline.factors import RSI\n",
    "from quantopian.pipeline.factors import FastStochasticOscillator\n",
    "from quantopian.pipeline.factors import AverageDollarVolume\n",
    "from quantopian.pipeline.data.factset.estimates import PeriodicConsensus\n",
    "from quantopian.pipeline.factors import Aroon\n",
    "from quantopian.pipeline.factors import VWAP\n",
    "\n",
    "from quantopian.pipeline.data.morningstar import Fundamentals\n",
    "\n",
    "from quantopian.pipeline.data.builtin import USEquityPricing\n",
    "from quantopian.research import run_pipeline\n",
    "from quantopian.pipeline.filters import QTradableStocksUS\n",
    "from quantopian.pipeline.filters import Q500US\n",
    "\n",
    "from quantopian.pipeline.factors import MarketCap\n",
    "\n",
    "import sklearn as sk\n",
    "\n",
    "import matplotlib.pyplot as plt\n",
    "import numpy as np\n",
    "import pandas as pd\n"
   ]
  },
  {
   "cell_type": "code",
   "execution_count": null,
   "metadata": {},
   "outputs": [],
   "source": []
  },
  {
   "cell_type": "code",
   "execution_count": 47,
   "metadata": {},
   "outputs": [],
   "source": [
    "\n",
    "#p_e_ratio = Fundamentals.pe_ratio.latest\n",
    "#p_e_g_ratio = Fundamentals.peg_ratio.latest\n",
    "#sales_per_share = Fundamentals.sales_per_share.latest\n",
    "#debt_to_asset = Fundamentals.debtto_assets.latest\n",
    "#payout_ratio = Fundamentals.payout_ratio.latest\n",
    "#free_cash_flow = Fundamentals.free_cash_flow.latest\n",
    "#book_per_share = Fundamentals.book_value_per_share.latest\n",
    "#cash_return = Fundamentals.cash_return.latest\n",
    "#ROE = Fundamentals.roe.latest\n",
    "#ROA = Fundamentals.roa.latest\n",
    "OCF = Fundamentals.operating_cash_flow.latest\n",
    "prof_grade = Fundamentals.profitability_grade.latest\n",
    "delta_working_cap = Fundamentals.change_in_working_capital.latest\n",
    "quick_ratio = Fundamentals.quick_ratio.latest\n",
    "debt_to_eq = Fundamentals.long_term_debt_equity_ratio.latest\n",
    "net_prof = Fundamentals.normalized_net_profit_margin.latest\n",
    "tang_book = Fundamentals.tangible_book_value.latest\n",
    "growth_score = Fundamentals.growth_score.latest\n",
    "EBITDA = Fundamentals.ebitda.latest\n",
    "close_price = USEquityPricing.close.latest\n",
    "\n"
   ]
  },
  {
   "cell_type": "code",
   "execution_count": null,
   "metadata": {},
   "outputs": [],
   "source": [
    "'''drop: EWMA, MACD, PE, ROA, ROE, book/share, cash returns, debt/assets, free cash, payout, peg, sales / share'''"
   ]
  },
  {
   "cell_type": "code",
   "execution_count": 60,
   "metadata": {},
   "outputs": [
    {
     "data": {
      "application/vnd.jupyter.widget-view+json": {
       "model_id": "",
       "version_major": 2,
       "version_minor": 0
      },
      "text/plain": []
     },
     "metadata": {},
     "output_type": "display_data"
    },
    {
     "data": {
      "text/html": [
       "<b>Pipeline Execution Time:</b> 25.33 Seconds"
      ],
      "text/plain": [
       "<IPython.core.display.HTML object>"
      ]
     },
     "metadata": {},
     "output_type": "display_data"
    },
    {
     "name": "stdout",
     "output_type": "stream",
     "text": [
      "(12522, 13)\n"
     ]
    }
   ],
   "source": [
    "def make_pipeline():\n",
    "    \n",
    "    returns = Returns(inputs=[USEquityPricing.close], window_length = 30)\n",
    "    daily_returns = DailyReturns(inputs=[USEquityPricing.close])\n",
    "    # daily returns is increase per day\n",
    "    r_s_i = RSI(inputs=[USEquityPricing.close],window_length=30)\n",
    "    fast_stoch = FastStochasticOscillator(inputs=[USEquityPricing.close, USEquityPricing.low, USEquityPricing.high])\n",
    "    average_dollar = AverageDollarVolume(inputs=[USEquityPricing.close, USEquityPricing.volume], window_length=30)\n",
    "    #EPS = PeriodicConsensus.slice('EPS', 'qf', 1)\n",
    "    # investigate EPS\n",
    "    aroon = Aroon(inputs = [USEquityPricing.low, USEquityPricing.high], window_length = 30)\n",
    "    vwap = VWAP(inputs = [USEquityPricing.close, USEquityPricing.volume], window_length = 30)\n",
    "    \n",
    "    \n",
    "    top_dollar_vol = average_dollar.top(50)\n",
    "    \n",
    "    \n",
    "    Q_500 = Q500US()\n",
    "    \n",
    "    QTU = QTradableStocksUS()\n",
    "    market_cap = MarketCap()\n",
    "    top_500 = market_cap.top(500)\n",
    "    \n",
    "    pricing_not_null = close_price.notnull()\n",
    "    \n",
    "    my_uni = Q_500 & QTU & top_500 & pricing_not_null & top_dollar_vol\n",
    "    \n",
    "    \n",
    "    '''drop: EWMA, MACD, PE, ROA, ROE, book/share, cash returns, debt/assets, free cash, payout, peg, sales / share'''\n",
    "    return Pipeline(columns={\n",
    "        'returns':returns,\n",
    "        'daily returns':daily_returns,\n",
    "        'RSI':r_s_i,\n",
    "        'fast stoch':fast_stoch,\n",
    "        #'EPS':EPS, for some reason EPS does not work?\n",
    "        'OCF':OCF,\n",
    "        'prof grade':prof_grade,\n",
    "        'delta working capital':delta_working_cap,\n",
    "        'quick ratio':quick_ratio,\n",
    "        'debt to equity':debt_to_eq,\n",
    "        #'aroon':aroon,\n",
    "        'vwap':vwap,\n",
    "        'tangible book':tang_book,\n",
    "        'growth score':growth_score,\n",
    "        'ebitda':EBITDA\n",
    "    }, screen = my_uni)\n",
    "\n",
    "results = run_pipeline(make_pipeline(),'2018-01-01','2020-01-01')\n",
    "\n",
    "#print(results.head(20))\n",
    "print(results.shape)"
   ]
  },
  {
   "cell_type": "code",
   "execution_count": 61,
   "metadata": {},
   "outputs": [
    {
     "name": "stdout",
     "output_type": "stream",
     "text": [
      "12522\n"
     ]
    }
   ],
   "source": [
    "stonk_list = results.index.get_level_values(1)\n",
    "\n",
    "print(len(stonk_list))\n"
   ]
  },
  {
   "cell_type": "code",
   "execution_count": 62,
   "metadata": {},
   "outputs": [
    {
     "name": "stdout",
     "output_type": "stream",
     "text": [
      "(504, 13)\n"
     ]
    }
   ],
   "source": [
    "test_size = results.xs(symbols(\"AAPL\"), level = 1)\n",
    "\n",
    "print(test_size.shape)"
   ]
  },
  {
   "cell_type": "code",
   "execution_count": null,
   "metadata": {},
   "outputs": [],
   "source": []
  },
  {
   "cell_type": "code",
   "execution_count": 63,
   "metadata": {},
   "outputs": [],
   "source": [
    "corr_mat = []\n",
    "\n",
    "for stonk in stonk_list:\n",
    "    \n",
    "    this_res = results.xs(stonk, level = 1)\n",
    "\n",
    "    test_corr = this_res.corr()\n",
    "\n",
    "    corr_returns = test_corr['daily returns']\n",
    "    \n",
    "    corr_frame = corr_returns.to_frame()\n",
    "    \n",
    "    corr_frame_named = corr_frame.rename(columns={'daily returns': stonk})\n",
    "    \n",
    "    corr_mat.append(corr_frame_named)\n",
    "    \n",
    "    #print(corr_mat)\n",
    "\n",
    "    #print(corr_frame_returns)\n",
    "    \n",
    "#print(corr_mat)\n",
    "\n",
    "#this is where I am having problems filtering the dataframe by the 'level_1' tag of 'AME'"
   ]
  },
  {
   "cell_type": "code",
   "execution_count": 64,
   "metadata": {},
   "outputs": [],
   "source": [
    "corr_mat_frame = pd.concat(corr_mat, axis = 1)"
   ]
  },
  {
   "cell_type": "code",
   "execution_count": 65,
   "metadata": {},
   "outputs": [],
   "source": [
    "corr_mat_frame['avg'] = corr_mat_frame.mean(axis=1)"
   ]
  },
  {
   "cell_type": "code",
   "execution_count": 66,
   "metadata": {},
   "outputs": [
    {
     "name": "stdout",
     "output_type": "stream",
     "text": [
      "OCF                      0.009899\n",
      "RSI                      0.165042\n",
      "daily returns            1.000000\n",
      "debt to equity          -0.004209\n",
      "delta working capital    0.011363\n",
      "ebitda                   0.002980\n",
      "fast stoch               0.433827\n",
      "growth score             0.001143\n",
      "quick ratio              0.001991\n",
      "returns                  0.168598\n",
      "tangible book            0.003262\n",
      "vwap                    -0.070385\n",
      "Name: avg, dtype: float64\n"
     ]
    }
   ],
   "source": [
    "print(corr_mat_frame['avg'])"
   ]
  },
  {
   "cell_type": "code",
   "execution_count": 13,
   "metadata": {},
   "outputs": [],
   "source": [
    "'''drop: EWMA, MACD, PE, ROA, ROE, book/share, cash returns, debt/assets, free cash, payout, peg, sales / share'''\n",
    "\n",
    "\n",
    "#print(corr_mat_frame.head(20))"
   ]
  },
  {
   "cell_type": "code",
   "execution_count": null,
   "metadata": {},
   "outputs": [],
   "source": [
    "import qgrid  \n",
    "q_grid_widget = qgrid.show_grid(corr_mat_frame)\n",
    "q_grid_widget\n",
    "    "
   ]
  },
  {
   "cell_type": "code",
   "execution_count": null,
   "metadata": {},
   "outputs": [],
   "source": [
    "updated_results = q_grid_widget.get_changed_df()\n",
    "\n",
    "updated_results = updated_results.fillna(value=0)\n",
    "\n",
    "#print(updated_results)"
   ]
  },
  {
   "cell_type": "code",
   "execution_count": null,
   "metadata": {},
   "outputs": [],
   "source": [
    "import numpy as np\n",
    "import matplotlib.pyplot as plt\n",
    "#import matplotlib.pylab as plt\n",
    "\n",
    "print(type(updated_results))\n",
    "\n",
    "print(updated_results.corr())\n"
   ]
  },
  {
   "cell_type": "code",
   "execution_count": null,
   "metadata": {},
   "outputs": [],
   "source": [
    "def show_heatmap(data):\n",
    "    plt.matshow(data.corr())\n",
    "    plt.xticks(range(data.shape[1]), data.columns, fontsize=14, rotation=90)\n",
    "    plt.gca().xaxis.tick_bottom()\n",
    "    plt.yticks(range(data.shape[1]), data.columns, fontsize=14)\n",
    "\n",
    "    cb = plt.colorbar()\n",
    "    cb.ax.tick_params(labelsize=14)\n",
    "    plt.title(\"Feature Correlation Heatmap\", fontsize=14)\n",
    "    plt.show()"
   ]
  },
  {
   "cell_type": "code",
   "execution_count": null,
   "metadata": {},
   "outputs": [],
   "source": [
    "show_heatmap(updated_results)"
   ]
  },
  {
   "cell_type": "code",
   "execution_count": null,
   "metadata": {},
   "outputs": [],
   "source": []
  }
 ],
 "metadata": {
  "kernelspec": {
   "display_name": "Python 3.5",
   "language": "python",
   "name": "py35"
  },
  "language_info": {
   "codemirror_mode": {
    "name": "ipython",
    "version": 3
   },
   "file_extension": ".py",
   "mimetype": "text/x-python",
   "name": "python",
   "nbconvert_exporter": "python",
   "pygments_lexer": "ipython3",
   "version": "3.5.10"
  }
 },
 "nbformat": 4,
 "nbformat_minor": 2
}
