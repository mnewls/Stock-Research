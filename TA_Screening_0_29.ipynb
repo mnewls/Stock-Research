{
 "cells": [
  {
   "cell_type": "code",
   "execution_count": 2,
   "id": "purple-youth",
   "metadata": {},
   "outputs": [],
   "source": [
    "from pandas_datareader import data as pdr\n",
    "from yahoo_fin import stock_info as si\n",
    "import yfinance as yf\n",
    "import pandas as pd\n",
    "import datetime\n",
    "import time\n",
    "import talib\n",
    "from talib import *\n",
    "import matplotlib.pyplot as plt\n",
    "from sklearn.preprocessing import StandardScaler\n",
    "from xgboost import XGBRegressor\n",
    "from xgboost import XGBClassifier\n",
    "import xgboost as xgb\n",
    "import math\n",
    "import numpy as np\n",
    "from sklearn.decomposition import PCA\n",
    "import pickle\n",
    "import os\n",
    "os.environ[\"PATH\"] += os.pathsep + r'C:\\Program Files\\Graphviz\\bin'\n",
    "yf.pdr_override()"
   ]
  },
  {
   "cell_type": "code",
   "execution_count": 3,
   "id": "gentle-anime",
   "metadata": {},
   "outputs": [],
   "source": [
    "from LSSVMRegression import LSSVMRegression"
   ]
  },
  {
   "cell_type": "code",
   "execution_count": null,
   "id": "dense-deadline",
   "metadata": {},
   "outputs": [],
   "source": []
  },
  {
   "cell_type": "code",
   "execution_count": null,
   "id": "moved-verification",
   "metadata": {},
   "outputs": [],
   "source": []
  },
  {
   "cell_type": "code",
   "execution_count": 4,
   "id": "nuclear-diversity",
   "metadata": {},
   "outputs": [],
   "source": [
    "def add_indicators():\n",
    "        \n",
    "    R_S_I = RSI(df['Adj Close'], timeperiod=slow)\n",
    "    E_M_A = EMA(df['Adj Close'], timeperiod=fast)\n",
    "    macd, macdsig, macdhist = MACD(df['Adj Close'], fastperiod=fast, slowperiod=slow, signalperiod=really_fast)\n",
    "    mfi = MFI(df['High'], df['Low'], df['Adj Close'],df['Volume'],timeperiod=fast)\n",
    "    slowk, slowd = STOCH(df['High'], df['Low'], df['Adj Close'], fastk_period=fast, slowk_period=slow, slowk_matype=0, slowd_period=slow, slowd_matype=0)\n",
    "    \n",
    "    #\n",
    "    #\n",
    "    #\n",
    "    \n",
    "    df['ema'] = E_M_A\n",
    "    df['rsi'] = R_S_I\n",
    "    df['macd'] = macd\n",
    "    df['macdsig'] = macdsig\n",
    "    df['macdhist'] = macdhist\n",
    "    df['mfi'] = mfi\n",
    "    df['slowK'] = slowk\n",
    "    df['slowD'] = slowd\n",
    "    \n",
    "    \n",
    "    \n",
    "    ####\n",
    "    \n",
    "    \n",
    "\n",
    "    #76 vars\n",
    "\n",
    "    #are_all_zero = (test_TA == 0).all()\n",
    "    #true if all values are 0\n",
    "    #false if contain a non 0'''\n",
    "\n",
    "    df.drop(['Close'], axis =1, inplace = True)\n",
    "\n",
    "    "
   ]
  },
  {
   "cell_type": "code",
   "execution_count": 5,
   "id": "suspected-conspiracy",
   "metadata": {},
   "outputs": [],
   "source": [
    "def add_lag(num_lag_cols, this_df):\n",
    "    \n",
    "    tic = time.perf_counter()\n",
    "    \n",
    "    '''df['ema'] = E_M_A\n",
    "    df['rsi'] = R_S_I\n",
    "    df['macd'] = macd\n",
    "    df['macdsig'] = macdsig\n",
    "    df['macdhist'] = macdhist\n",
    "    df['mfi'] = mfi\n",
    "    df['slowK'] = slowk\n",
    "    df['slowD'] = slowd'''\n",
    "    \n",
    "    lag_cols = ['open',\n",
    "                 'high',\n",
    "                 'low',\n",
    "                 'adj_close',\n",
    "                 'volume',\n",
    "                 'ema',\n",
    "                 'rsi',\n",
    "                 'macd',\n",
    "                 'macdsig',\n",
    "                 'macdhist',\n",
    "                 'mfi',\n",
    "                 'slowk',\n",
    "                 'slowd']\n",
    "\n",
    "    shift_range = [x+1 for x in range(num_lag_cols)]\n",
    "\n",
    "    for shift in shift_range:\n",
    "        train_shift = this_df[merging_keys + lag_cols].copy()\n",
    "\n",
    "        # E.g. order_day of 0 becomes 1, for shift = 1.\n",
    "        # So when this is merged with order_day of 1 in df, this will represent lag of 1.\n",
    "        train_shift['order_day'] = train_shift['order_day'] + shift\n",
    "\n",
    "        foo = lambda x: '{}_lag_{}'.format(x, shift) if x in lag_cols else x\n",
    "        train_shift = train_shift.rename(columns=foo)\n",
    "\n",
    "        this_df = pd.merge(this_df, train_shift, on=merging_keys, how='left') #.fillna(0)\n",
    "\n",
    "    del train_shift\n",
    "    \n",
    "    toc = time.perf_counter()\n",
    "\n",
    "    tic_toc = (toc - tic) / 60\n",
    "\n",
    "    print(f\"completed lagging in {tic_toc:0.4f} min\")\n",
    "    \n",
    "\n",
    "    return this_df"
   ]
  },
  {
   "cell_type": "code",
   "execution_count": 6,
   "id": "practical-reason",
   "metadata": {},
   "outputs": [],
   "source": [
    "def add_scale(num_interval_lag):\n",
    "\n",
    "    cols_to_scale = ['open',#\n",
    "                     'high',#\n",
    "                     'low',#\n",
    "                     'adj_close',#\n",
    "                     'volume',#\n",
    "                     'ema',#\n",
    "                     'rsi',#\n",
    "                     'macd',#\n",
    "                     'macdsig',#\n",
    "                     'macdhist',#\n",
    "                     'mfi',#\n",
    "                     'slowk',#\n",
    "                     'slowd']#\n",
    "                    \n",
    "\n",
    "    for i in range(1,num_interval_lag+1):\n",
    "        cols_to_scale.append(\"ema_lag_\"+str(i))\n",
    "        cols_to_scale.append(\"slowk_lag_\"+str(i))\n",
    "        cols_to_scale.append(\"slowd_lag_\"+str(i))\n",
    "        cols_to_scale.append(\"rsi_lag_\"+str(i))\n",
    "\n",
    "        cols_to_scale.append(\"volume_lag_\"+str(i))\n",
    "\n",
    "        cols_to_scale.append(\"adj_close_lag_\"+str(i))\n",
    "        \n",
    "        cols_to_scale.append(\"open_lag_\"+str(i))\n",
    "        cols_to_scale.append(\"high_lag_\"+str(i))\n",
    "        cols_to_scale.append(\"low_lag_\"+str(i))\n",
    "\n",
    "        cols_to_scale.append(\"macd_lag_\"+str(i))\n",
    "        cols_to_scale.append(\"macdsig_lag_\"+str(i))\n",
    "        cols_to_scale.append(\"macdhist_lag_\"+str(i))\n",
    "\n",
    "        cols_to_scale.append(\"mfi_lag_\"+str(i))\n",
    "      \n",
    "    return cols_to_scale"
   ]
  },
  {
   "cell_type": "code",
   "execution_count": 7,
   "id": "improving-development",
   "metadata": {},
   "outputs": [
    {
     "name": "stdout",
     "output_type": "stream",
     "text": [
      "[*********************100%***********************]  1 of 1 completed\n"
     ]
    }
   ],
   "source": [
    "stock = 'MSFT'\n",
    "\n",
    "start_date = datetime.datetime.now() - datetime.timedelta(days=59)\n",
    "\n",
    "end_date = datetime.datetime.now()\n",
    "\n",
    "df = pdr.get_data_yahoo(stock, start=start_date, end=end_date, interval = \"2m\", prepost = True)\n",
    "\n",
    "#df = pdr.get_data_yahoo(stock, period = \"max\", interval = \"1d\", prepost = True)\n",
    "\n",
    "#df.index = df.index.tz_localize(None)\n",
    "\n",
    "'''#2 min ticker\n",
    "# 30 intervals = 1 hour << OLD\n",
    "# 195 intervals = trading day'''\n",
    "                                            # there are more intervals that we can use / change\n",
    "really_fast = 30\n",
    "fast = 60\n",
    "slow = 90\n",
    "\n",
    "add_indicators()\n",
    "\n",
    "# Convert Date column to datetime\n",
    "df.reset_index(level=0, inplace=True)\n",
    "\n",
    "# Change all column headings to be lower case, and remove spacing\n",
    "df.columns = [str(x).lower().replace(' ', '_') for x in df.columns]\n",
    "\n",
    "df['order_day'] = [x for x in list(range(len(df)))]\n",
    "# merging_keys\n",
    "\n",
    "\n",
    "# Get difference between high and low of each day"
   ]
  },
  {
   "cell_type": "code",
   "execution_count": 8,
   "id": "level-armor",
   "metadata": {},
   "outputs": [],
   "source": [
    "col_list = df.columns.to_list()\n",
    "col_list.remove('datetime')"
   ]
  },
  {
   "cell_type": "code",
   "execution_count": 9,
   "id": "later-homework",
   "metadata": {},
   "outputs": [
    {
     "data": {
      "text/plain": [
       "['open',\n",
       " 'high',\n",
       " 'low',\n",
       " 'adj_close',\n",
       " 'volume',\n",
       " 'ema',\n",
       " 'rsi',\n",
       " 'macd',\n",
       " 'macdsig',\n",
       " 'macdhist',\n",
       " 'mfi',\n",
       " 'slowk',\n",
       " 'slowd',\n",
       " 'order_day']"
      ]
     },
     "execution_count": 9,
     "metadata": {},
     "output_type": "execute_result"
    }
   ],
   "source": [
    "col_list"
   ]
  },
  {
   "cell_type": "code",
   "execution_count": null,
   "id": "residential-sheet",
   "metadata": {},
   "outputs": [],
   "source": []
  },
  {
   "cell_type": "code",
   "execution_count": 10,
   "id": "legitimate-orleans",
   "metadata": {},
   "outputs": [
    {
     "name": "stdout",
     "output_type": "stream",
     "text": [
      "completed lagging in 0.0310 min\n"
     ]
    }
   ],
   "source": [
    "merging_keys = ['order_day']\n",
    "\n",
    "num_interval_lag = 30\n",
    "\n",
    "df = add_lag(num_interval_lag, df)\n",
    "\n",
    "#df['adj_close'] = df['adj_close'].shift(30)"
   ]
  },
  {
   "cell_type": "code",
   "execution_count": 11,
   "id": "permanent-turtle",
   "metadata": {},
   "outputs": [
    {
     "name": "stdout",
     "output_type": "stream",
     "text": [
      "(15166, 405)\n"
     ]
    }
   ],
   "source": [
    "print(df.shape)"
   ]
  },
  {
   "cell_type": "code",
   "execution_count": 12,
   "id": "quick-delight",
   "metadata": {},
   "outputs": [
    {
     "name": "stdout",
     "output_type": "stream",
     "text": [
      "                    datetime    open    high     low  adj_close  volume  ema  \\\n",
      "0  2021-01-13 19:02:00-05:00  216.56  216.60  216.50     216.60       0  NaN   \n",
      "1  2021-01-13 19:04:00-05:00  216.55  216.60  216.50     216.50       0  NaN   \n",
      "2  2021-01-13 19:08:00-05:00  216.50  216.65  216.50     216.65       0  NaN   \n",
      "3  2021-01-13 19:10:00-05:00  216.52  216.52  216.52     216.52       0  NaN   \n",
      "4  2021-01-13 19:12:00-05:00  216.79  216.79  216.56     216.64       0  NaN   \n",
      "5  2021-01-13 19:16:00-05:00  216.55  216.79  216.52     216.79       0  NaN   \n",
      "6  2021-01-13 19:18:00-05:00  216.79  216.79  216.52     216.79       0  NaN   \n",
      "7  2021-01-13 19:20:00-05:00  216.76  216.79  216.52     216.52       0  NaN   \n",
      "8  2021-01-13 19:22:00-05:00  216.79  216.79  216.64     216.64       0  NaN   \n",
      "9  2021-01-13 19:24:00-05:00  216.78  216.79  216.62     216.79       0  NaN   \n",
      "10 2021-01-13 19:26:00-05:00  216.79  216.79  216.54     216.79       0  NaN   \n",
      "11 2021-01-13 19:28:00-05:00  216.79  216.79  216.57     216.57       0  NaN   \n",
      "12 2021-01-13 19:30:00-05:00  216.57  216.70  216.57     216.70       0  NaN   \n",
      "13 2021-01-13 19:32:00-05:00  216.60  216.60  216.60     216.60       0  NaN   \n",
      "14 2021-01-13 19:34:00-05:00  216.60  216.60  216.60     216.60       0  NaN   \n",
      "15 2021-01-13 19:36:00-05:00  216.60  216.63  216.60     216.63       0  NaN   \n",
      "16 2021-01-13 19:38:00-05:00  216.60  216.60  216.60     216.60       0  NaN   \n",
      "17 2021-01-13 19:40:00-05:00  216.70  216.94  216.60     216.64       0  NaN   \n",
      "18 2021-01-13 19:42:00-05:00  216.93  216.99  216.93     216.99       0  NaN   \n",
      "19 2021-01-13 19:44:00-05:00  216.73  216.95  216.73     216.73       0  NaN   \n",
      "20 2021-01-13 19:46:00-05:00  216.90  216.97  216.90     216.97       0  NaN   \n",
      "21 2021-01-13 19:48:00-05:00  216.90  216.95  216.90     216.95       0  NaN   \n",
      "22 2021-01-13 19:50:00-05:00  216.89  216.90  216.89     216.90       0  NaN   \n",
      "23 2021-01-13 19:52:00-05:00  216.90  216.90  216.80     216.85       0  NaN   \n",
      "24 2021-01-13 19:54:00-05:00  216.82  216.90  216.73     216.81       0  NaN   \n",
      "25 2021-01-13 19:56:00-05:00  216.81  216.89  216.73     216.76       0  NaN   \n",
      "26 2021-01-13 19:58:00-05:00  216.81  216.97  216.81     216.97       0  NaN   \n",
      "27 2021-01-14 04:00:00-05:00  216.69  216.71  216.69     216.71       0  NaN   \n",
      "28 2021-01-14 04:02:00-05:00  216.34  216.34  215.85     215.85       0  NaN   \n",
      "29 2021-01-14 04:08:00-05:00  216.02  216.47  215.97     216.47       0  NaN   \n",
      "30 2021-01-14 04:10:00-05:00  216.43  216.43  216.40     216.40       0  NaN   \n",
      "31 2021-01-14 04:12:00-05:00  216.06  216.47  215.85     216.47       0  NaN   \n",
      "32 2021-01-14 04:14:00-05:00  216.40  216.71  216.40     216.61       0  NaN   \n",
      "33 2021-01-14 04:16:00-05:00  216.33  216.40  216.06     216.40       0  NaN   \n",
      "34 2021-01-14 04:18:00-05:00  216.07  216.07  216.05     216.05       0  NaN   \n",
      "35 2021-01-14 04:20:00-05:00  216.32  216.32  216.32     216.32       0  NaN   \n",
      "36 2021-01-14 04:22:00-05:00  216.05  216.05  216.00     216.00       0  NaN   \n",
      "37 2021-01-14 04:24:00-05:00  216.00  216.00  215.73     215.97       0  NaN   \n",
      "38 2021-01-14 04:26:00-05:00  215.86  216.26  215.86     216.26       0  NaN   \n",
      "39 2021-01-14 04:32:00-05:00  216.01  216.01  216.01     216.01       0  NaN   \n",
      "\n",
      "    rsi  macd  macdsig  ...  adj_close_lag_30  volume_lag_30  ema_lag_30  \\\n",
      "0   NaN   NaN      NaN  ...               NaN            NaN         NaN   \n",
      "1   NaN   NaN      NaN  ...               NaN            NaN         NaN   \n",
      "2   NaN   NaN      NaN  ...               NaN            NaN         NaN   \n",
      "3   NaN   NaN      NaN  ...               NaN            NaN         NaN   \n",
      "4   NaN   NaN      NaN  ...               NaN            NaN         NaN   \n",
      "5   NaN   NaN      NaN  ...               NaN            NaN         NaN   \n",
      "6   NaN   NaN      NaN  ...               NaN            NaN         NaN   \n",
      "7   NaN   NaN      NaN  ...               NaN            NaN         NaN   \n",
      "8   NaN   NaN      NaN  ...               NaN            NaN         NaN   \n",
      "9   NaN   NaN      NaN  ...               NaN            NaN         NaN   \n",
      "10  NaN   NaN      NaN  ...               NaN            NaN         NaN   \n",
      "11  NaN   NaN      NaN  ...               NaN            NaN         NaN   \n",
      "12  NaN   NaN      NaN  ...               NaN            NaN         NaN   \n",
      "13  NaN   NaN      NaN  ...               NaN            NaN         NaN   \n",
      "14  NaN   NaN      NaN  ...               NaN            NaN         NaN   \n",
      "15  NaN   NaN      NaN  ...               NaN            NaN         NaN   \n",
      "16  NaN   NaN      NaN  ...               NaN            NaN         NaN   \n",
      "17  NaN   NaN      NaN  ...               NaN            NaN         NaN   \n",
      "18  NaN   NaN      NaN  ...               NaN            NaN         NaN   \n",
      "19  NaN   NaN      NaN  ...               NaN            NaN         NaN   \n",
      "20  NaN   NaN      NaN  ...               NaN            NaN         NaN   \n",
      "21  NaN   NaN      NaN  ...               NaN            NaN         NaN   \n",
      "22  NaN   NaN      NaN  ...               NaN            NaN         NaN   \n",
      "23  NaN   NaN      NaN  ...               NaN            NaN         NaN   \n",
      "24  NaN   NaN      NaN  ...               NaN            NaN         NaN   \n",
      "25  NaN   NaN      NaN  ...               NaN            NaN         NaN   \n",
      "26  NaN   NaN      NaN  ...               NaN            NaN         NaN   \n",
      "27  NaN   NaN      NaN  ...               NaN            NaN         NaN   \n",
      "28  NaN   NaN      NaN  ...               NaN            NaN         NaN   \n",
      "29  NaN   NaN      NaN  ...               NaN            NaN         NaN   \n",
      "30  NaN   NaN      NaN  ...            216.60            0.0         NaN   \n",
      "31  NaN   NaN      NaN  ...            216.50            0.0         NaN   \n",
      "32  NaN   NaN      NaN  ...            216.65            0.0         NaN   \n",
      "33  NaN   NaN      NaN  ...            216.52            0.0         NaN   \n",
      "34  NaN   NaN      NaN  ...            216.64            0.0         NaN   \n",
      "35  NaN   NaN      NaN  ...            216.79            0.0         NaN   \n",
      "36  NaN   NaN      NaN  ...            216.79            0.0         NaN   \n",
      "37  NaN   NaN      NaN  ...            216.52            0.0         NaN   \n",
      "38  NaN   NaN      NaN  ...            216.64            0.0         NaN   \n",
      "39  NaN   NaN      NaN  ...            216.79            0.0         NaN   \n",
      "\n",
      "    rsi_lag_30  macd_lag_30  macdsig_lag_30  macdhist_lag_30  mfi_lag_30  \\\n",
      "0          NaN          NaN             NaN              NaN         NaN   \n",
      "1          NaN          NaN             NaN              NaN         NaN   \n",
      "2          NaN          NaN             NaN              NaN         NaN   \n",
      "3          NaN          NaN             NaN              NaN         NaN   \n",
      "4          NaN          NaN             NaN              NaN         NaN   \n",
      "5          NaN          NaN             NaN              NaN         NaN   \n",
      "6          NaN          NaN             NaN              NaN         NaN   \n",
      "7          NaN          NaN             NaN              NaN         NaN   \n",
      "8          NaN          NaN             NaN              NaN         NaN   \n",
      "9          NaN          NaN             NaN              NaN         NaN   \n",
      "10         NaN          NaN             NaN              NaN         NaN   \n",
      "11         NaN          NaN             NaN              NaN         NaN   \n",
      "12         NaN          NaN             NaN              NaN         NaN   \n",
      "13         NaN          NaN             NaN              NaN         NaN   \n",
      "14         NaN          NaN             NaN              NaN         NaN   \n",
      "15         NaN          NaN             NaN              NaN         NaN   \n",
      "16         NaN          NaN             NaN              NaN         NaN   \n",
      "17         NaN          NaN             NaN              NaN         NaN   \n",
      "18         NaN          NaN             NaN              NaN         NaN   \n",
      "19         NaN          NaN             NaN              NaN         NaN   \n",
      "20         NaN          NaN             NaN              NaN         NaN   \n",
      "21         NaN          NaN             NaN              NaN         NaN   \n",
      "22         NaN          NaN             NaN              NaN         NaN   \n",
      "23         NaN          NaN             NaN              NaN         NaN   \n",
      "24         NaN          NaN             NaN              NaN         NaN   \n",
      "25         NaN          NaN             NaN              NaN         NaN   \n",
      "26         NaN          NaN             NaN              NaN         NaN   \n",
      "27         NaN          NaN             NaN              NaN         NaN   \n",
      "28         NaN          NaN             NaN              NaN         NaN   \n",
      "29         NaN          NaN             NaN              NaN         NaN   \n",
      "30         NaN          NaN             NaN              NaN         NaN   \n",
      "31         NaN          NaN             NaN              NaN         NaN   \n",
      "32         NaN          NaN             NaN              NaN         NaN   \n",
      "33         NaN          NaN             NaN              NaN         NaN   \n",
      "34         NaN          NaN             NaN              NaN         NaN   \n",
      "35         NaN          NaN             NaN              NaN         NaN   \n",
      "36         NaN          NaN             NaN              NaN         NaN   \n",
      "37         NaN          NaN             NaN              NaN         NaN   \n",
      "38         NaN          NaN             NaN              NaN         NaN   \n",
      "39         NaN          NaN             NaN              NaN         NaN   \n",
      "\n",
      "    slowk_lag_30  slowd_lag_30  \n",
      "0            NaN           NaN  \n",
      "1            NaN           NaN  \n",
      "2            NaN           NaN  \n",
      "3            NaN           NaN  \n",
      "4            NaN           NaN  \n",
      "5            NaN           NaN  \n",
      "6            NaN           NaN  \n",
      "7            NaN           NaN  \n",
      "8            NaN           NaN  \n",
      "9            NaN           NaN  \n",
      "10           NaN           NaN  \n",
      "11           NaN           NaN  \n",
      "12           NaN           NaN  \n",
      "13           NaN           NaN  \n",
      "14           NaN           NaN  \n",
      "15           NaN           NaN  \n",
      "16           NaN           NaN  \n",
      "17           NaN           NaN  \n",
      "18           NaN           NaN  \n",
      "19           NaN           NaN  \n",
      "20           NaN           NaN  \n",
      "21           NaN           NaN  \n",
      "22           NaN           NaN  \n",
      "23           NaN           NaN  \n",
      "24           NaN           NaN  \n",
      "25           NaN           NaN  \n",
      "26           NaN           NaN  \n",
      "27           NaN           NaN  \n",
      "28           NaN           NaN  \n",
      "29           NaN           NaN  \n",
      "30           NaN           NaN  \n",
      "31           NaN           NaN  \n",
      "32           NaN           NaN  \n",
      "33           NaN           NaN  \n",
      "34           NaN           NaN  \n",
      "35           NaN           NaN  \n",
      "36           NaN           NaN  \n",
      "37           NaN           NaN  \n",
      "38           NaN           NaN  \n",
      "39           NaN           NaN  \n",
      "\n",
      "[40 rows x 405 columns]\n"
     ]
    }
   ],
   "source": [
    "print(df.head(40))"
   ]
  },
  {
   "cell_type": "code",
   "execution_count": 13,
   "id": "processed-hollywood",
   "metadata": {},
   "outputs": [],
   "source": [
    "window_size = 30\n",
    "\n",
    "df['adj_close'] = df['adj_close'].shift(-window_size)\n",
    "\n"
   ]
  },
  {
   "cell_type": "code",
   "execution_count": 14,
   "id": "running-roommate",
   "metadata": {},
   "outputs": [],
   "source": [
    "cols_to_rem = ['open',\n",
    "                 'high',\n",
    "                 'low',\n",
    "                 'volume',\n",
    "                 'ema',\n",
    "                 'rsi',\n",
    "                 'macd',\n",
    "                 'macdsig',\n",
    "                 'macdhist',\n",
    "                 'mfi',\n",
    "                 'slowk',\n",
    "                 'slowd',\n",
    "                 'order_day']"
   ]
  },
  {
   "cell_type": "code",
   "execution_count": 15,
   "id": "spiritual-comfort",
   "metadata": {},
   "outputs": [],
   "source": [
    "close_vals_list = df['adj_close']"
   ]
  },
  {
   "cell_type": "code",
   "execution_count": null,
   "id": "crucial-volume",
   "metadata": {},
   "outputs": [],
   "source": []
  },
  {
   "cell_type": "code",
   "execution_count": null,
   "id": "limiting-treasure",
   "metadata": {},
   "outputs": [],
   "source": []
  },
  {
   "cell_type": "code",
   "execution_count": 16,
   "id": "velvet-chocolate",
   "metadata": {},
   "outputs": [],
   "source": [
    "df.drop(cols_to_rem, axis = 1, inplace = True)"
   ]
  },
  {
   "cell_type": "code",
   "execution_count": 17,
   "id": "available-departure",
   "metadata": {},
   "outputs": [
    {
     "name": "stdout",
     "output_type": "stream",
     "text": [
      "                       datetime   adj_close  open_lag_1  high_lag_1  \\\n",
      "15126 2021-03-04 09:52:00-05:00  230.230103  227.339996  227.570007   \n",
      "15127 2021-03-04 09:54:00-05:00  230.485001  227.289993  227.330002   \n",
      "15128 2021-03-04 09:56:00-05:00  231.195007  227.000000  227.119995   \n",
      "15129 2021-03-04 09:58:00-05:00  230.850006  226.500000  226.600006   \n",
      "15130 2021-03-04 10:00:00-05:00  231.429993  226.520004  226.970001   \n",
      "15131 2021-03-04 10:02:00-05:00  231.550003  226.860001  227.000000   \n",
      "15132 2021-03-04 10:04:00-05:00  231.289993  226.850006  227.250000   \n",
      "15133 2021-03-04 10:06:00-05:00  230.729996  226.645004  226.725006   \n",
      "15134 2021-03-04 10:08:00-05:00  230.589996  226.429993  226.580002   \n",
      "15135 2021-03-04 10:10:00-05:00  230.360001  226.169998  226.940002   \n",
      "15136 2021-03-04 10:12:00-05:00         NaN  226.729996  226.850006   \n",
      "15137 2021-03-04 10:14:00-05:00         NaN  226.500000  227.279999   \n",
      "15138 2021-03-04 10:16:00-05:00         NaN  227.180206  227.500000   \n",
      "15139 2021-03-04 10:18:00-05:00         NaN  227.330002  227.490005   \n",
      "15140 2021-03-04 10:20:00-05:00         NaN  226.960007  227.190002   \n",
      "15141 2021-03-04 10:22:00-05:00         NaN  226.509995  226.820007   \n",
      "15142 2021-03-04 10:24:00-05:00         NaN  226.800003  227.710007   \n",
      "15143 2021-03-04 10:26:00-05:00         NaN  227.500000  227.774994   \n",
      "15144 2021-03-04 10:28:00-05:00         NaN  227.460007  227.759995   \n",
      "15145 2021-03-04 10:30:00-05:00         NaN  227.639999  228.029999   \n",
      "15146 2021-03-04 10:32:00-05:00         NaN  227.759995  228.070007   \n",
      "15147 2021-03-04 10:34:00-05:00         NaN  227.820007  228.250000   \n",
      "15148 2021-03-04 10:36:00-05:00         NaN  228.029999  228.580002   \n",
      "15149 2021-03-04 10:38:00-05:00         NaN  228.330002  229.089996   \n",
      "15150 2021-03-04 10:40:00-05:00         NaN  229.039993  229.350006   \n",
      "15151 2021-03-04 10:42:00-05:00         NaN  229.339996  229.729996   \n",
      "15152 2021-03-04 10:44:00-05:00         NaN  229.589996  229.979996   \n",
      "15153 2021-03-04 10:46:00-05:00         NaN  229.940002  230.330002   \n",
      "15154 2021-03-04 10:48:00-05:00         NaN  229.880005  230.729996   \n",
      "15155 2021-03-04 10:50:00-05:00         NaN  230.690002  230.690002   \n",
      "15156 2021-03-04 10:52:00-05:00         NaN  230.289993  230.856400   \n",
      "15157 2021-03-04 10:54:00-05:00         NaN  230.850006  231.041000   \n",
      "15158 2021-03-04 10:56:00-05:00         NaN  230.279999  230.580002   \n",
      "15159 2021-03-04 10:58:00-05:00         NaN  230.550003  231.195007   \n",
      "15160 2021-03-04 11:00:00-05:00         NaN  231.169998  231.449997   \n",
      "15161 2021-03-04 11:02:00-05:00         NaN  230.855804  231.429993   \n",
      "15162 2021-03-04 11:04:00-05:00         NaN  231.440002  231.679993   \n",
      "15163 2021-03-04 11:06:00-05:00         NaN  231.529999  231.740005   \n",
      "15164 2021-03-04 11:08:00-05:00         NaN  231.139999  231.139999   \n",
      "15165 2021-03-04 11:10:57-05:00         NaN  230.710007  230.828400   \n",
      "\n",
      "        low_lag_1  adj_close_lag_1  volume_lag_1   ema_lag_1  rsi_lag_1  \\\n",
      "15126  227.089996       227.550003      270609.0  227.405998  51.057877   \n",
      "15127  227.110001       227.240005      164103.0  227.400556  50.098068   \n",
      "15128  226.750000       226.979996      204229.0  227.386767  49.311824   \n",
      "15129  226.110001       226.429993      309702.0  227.355397  47.710148   \n",
      "15130  226.445007       226.919998      237181.0  227.341122  49.196779   \n",
      "15131  226.250000       226.875000      379337.0  227.325839  49.067233   \n",
      "15132  226.559998       226.669998      228777.0  227.304336  48.479125   \n",
      "15133  226.225006       226.445007      220778.0  227.276162  47.842709   \n",
      "15134  226.050003       226.139999      312636.0  227.238910  46.996934   \n",
      "15135  226.169998       226.740005      202656.0  227.222553  48.797573   \n",
      "15136  226.460007       226.490005      184282.0  227.198535  48.108939   \n",
      "15137  226.440002       227.190002      217862.0  227.198255  50.102711   \n",
      "15138  226.900101       227.320007      353714.0  227.202247  50.460193   \n",
      "15139  226.889999       226.979996      191678.0  227.194960  49.521853   \n",
      "15140  226.490005       226.500000      223208.0  227.172174  48.241218   \n",
      "15141  226.399994       226.820007      274379.0  227.160628  49.128132   \n",
      "15142  226.759995       227.550003      267083.0  227.173394  51.062554   \n",
      "15143  227.330002       227.419998      218188.0  227.181480  50.715255   \n",
      "15144  227.210007       227.639999      239343.0  227.196513  51.282286   \n",
      "15145  227.639999       227.755005      187619.0  227.214824  51.576791   \n",
      "15146  227.619995       227.800003      140624.0  227.234011  51.692336   \n",
      "15147  227.789993       228.029999      162505.0  227.260109  52.280865   \n",
      "15148  227.889999       228.320007      316140.0  227.294859  53.010815   \n",
      "15149  228.330002       229.039993      269240.0  227.352077  54.748609   \n",
      "15150  229.039993       229.350006      195312.0  227.417583  55.465747   \n",
      "15151  229.130005       229.600006      231793.0  227.489138  56.033947   \n",
      "15152  229.429993       229.929993      232726.0  227.569166  56.770153   \n",
      "15153  229.839996       229.880005      286662.0  227.644931  56.624905   \n",
      "15154  229.869995       230.699997      215937.0  227.745097  58.390848   \n",
      "15155  230.210007       230.309998      212417.0  227.829192  57.269434   \n",
      "15156  230.287598       230.850006      243007.0  227.928235  58.388420   \n",
      "15157  230.070007       230.230103      372097.0  228.003706  56.665825   \n",
      "15158  230.149994       230.485001       94767.0  228.085060  57.190979   \n",
      "15159  230.535004       231.195007      213228.0  228.187026  58.604045   \n",
      "15160  230.759995       230.850006      236459.0  228.274336  57.668687   \n",
      "15161  230.520004       231.429993      166099.0  228.377801  58.786927   \n",
      "15162  231.279999       231.550003      205407.0  228.481807  59.013479   \n",
      "15163  230.910004       231.289993      202352.0  228.573879  58.311203   \n",
      "15164  230.589996       230.729996      182448.0  228.644571  56.838059   \n",
      "15165  230.460007       230.589996       79940.0  228.708356  56.477348   \n",
      "\n",
      "       macd_lag_1  ...  adj_close_lag_30  volume_lag_30  ema_lag_30  \\\n",
      "15126    0.118635  ...        227.200000            0.0  227.190150   \n",
      "15127    0.114234  ...        227.200000            0.0  227.190473   \n",
      "15128    0.107177  ...        227.270000            0.0  227.193080   \n",
      "15129    0.094480  ...        227.020000            0.0  227.187406   \n",
      "15130    0.087698  ...        227.250000            0.0  227.189458   \n",
      "15131    0.080732  ...        226.750000            0.0  227.175049   \n",
      "15132    0.071869  ...        226.750000            0.0  227.161113   \n",
      "15133    0.061001  ...        226.550000            0.0  227.141077   \n",
      "15134    0.047379  ...        226.520000            0.0  227.120714   \n",
      "15135    0.040946  ...        226.610000            0.0  227.103969   \n",
      "15136    0.032128  ...        226.670000            0.0  227.089740   \n",
      "15137    0.031329  ...        227.190000            0.0  227.093028   \n",
      "15138    0.031957  ...        227.190000            0.0  227.096207   \n",
      "15139    0.028852  ...        227.010000            0.0  227.093381   \n",
      "15140    0.020706  ...        227.370000            0.0  227.102450   \n",
      "15141    0.016445  ...        227.470000            0.0  227.114501   \n",
      "15142    0.020292  ...        227.340000            0.0  227.121894   \n",
      "15143    0.022512  ...        227.400000            0.0  227.131013   \n",
      "15144    0.026973  ...        226.860000            0.0  227.122127   \n",
      "15145    0.032417  ...        227.229996      1115869.0  227.125664   \n",
      "15146    0.038029  ...        227.820007       364612.0  227.148429   \n",
      "15147    0.045797  ...        228.320007       286114.0  227.186841   \n",
      "15148    0.056247  ...        228.720001       244638.0  227.237109   \n",
      "15149    0.073874  ...        228.869995       197210.0  227.290646   \n",
      "15150    0.093845  ...        228.880005       201213.0  227.342756   \n",
      "15151    0.115372  ...        228.149994       197798.0  227.369223   \n",
      "15152    0.139220  ...        228.139999       130928.0  227.394494   \n",
      "15153    0.161137  ...        227.669998       159716.0  227.403527   \n",
      "15154    0.190618  ...        227.330002       204283.0  227.401117   \n",
      "15155    0.214152  ...        227.550003       270609.0  227.405998   \n",
      "15156    0.242097  ...        227.240005       164103.0  227.400556   \n",
      "15157    0.261657  ...        226.979996       204229.0  227.386767   \n",
      "15158    0.282726  ...        226.429993       309702.0  227.355397   \n",
      "15159    0.310127  ...        226.919998       237181.0  227.341122   \n",
      "15160    0.332095  ...        226.875000       379337.0  227.325839   \n",
      "15161    0.358905  ...        226.669998       228777.0  227.304336   \n",
      "15162    0.385305  ...        226.445007       220778.0  227.276162   \n",
      "15163    0.407190  ...        226.139999       312636.0  227.238910   \n",
      "15164    0.421546  ...        226.740005       202656.0  227.222553   \n",
      "15165    0.433309  ...        226.490005       184282.0  227.198535   \n",
      "\n",
      "       rsi_lag_30  macd_lag_30  macdsig_lag_30  macdhist_lag_30  mfi_lag_30  \\\n",
      "15126   50.319749     0.094043        0.065907         0.028137    0.000000   \n",
      "15127   50.319749     0.092083        0.067595         0.024487    0.000000   \n",
      "15128   50.573261     0.090918        0.069100         0.021818    0.000000   \n",
      "15129   49.658095     0.087049        0.070258         0.016791    0.000000   \n",
      "15130   50.491581     0.085813        0.071262         0.014551    0.000000   \n",
      "15131   48.718387     0.079177        0.071772         0.007405    0.000000   \n",
      "15132   48.718387     0.072842        0.071841         0.001001    0.000000   \n",
      "15133   48.028464     0.064636        0.071376        -0.006740    0.000000   \n",
      "15134   47.925515     0.056502        0.070417        -0.013915    0.000000   \n",
      "15135   48.261952     0.049740        0.069083        -0.019343    0.000000   \n",
      "15136   48.486321     0.043956        0.067462        -0.023505    0.000000   \n",
      "15137   50.372486     0.044074        0.065953        -0.021879    0.000000   \n",
      "15138   50.372486     0.044153        0.064546        -0.020393    0.000000   \n",
      "15139   49.727973     0.042251        0.063108        -0.020857    0.000000   \n",
      "15140   50.996068     0.044313        0.061895        -0.017583    0.000000   \n",
      "15141   51.340847     0.047312        0.060955        -0.013643    0.000000   \n",
      "15142   50.870336     0.048709        0.060165        -0.011455    0.000000   \n",
      "15143   51.079582     0.050645        0.059550        -0.008906    0.000000   \n",
      "15144   49.173508     0.046602        0.058715        -0.012113    0.000000   \n",
      "15145   50.454516     0.046744        0.057943        -0.011199  100.000000   \n",
      "15146   52.389515     0.053222        0.057638        -0.004416  100.000000   \n",
      "15147   53.931371     0.064715        0.058095         0.006621  100.000000   \n",
      "15148   55.107489     0.079865        0.059499         0.020366  100.000000   \n",
      "15149   55.537925     0.095759        0.061839         0.033921  100.000000   \n",
      "15150   55.566675     0.110834        0.065000         0.045834  100.000000   \n",
      "15151   53.037398     0.117123        0.068362         0.048761   92.399598   \n",
      "15152   53.003996     0.122880        0.071880         0.051001   92.763678   \n",
      "15153   51.462737     0.123157        0.075188         0.047970   87.651241   \n",
      "15154   50.390855     0.119656        0.078057         0.041599   81.887836   \n",
      "15155   51.057877     0.118635        0.080675         0.037961   75.328455   \n",
      "15156   50.098068     0.114234        0.082840         0.031394   71.841429   \n",
      "15157   49.311824     0.107177        0.084410         0.022767   67.932605   \n",
      "15158   47.710148     0.094480        0.085060         0.009421   62.766826   \n",
      "15159   49.196779     0.087698        0.085230         0.002468   64.819227   \n",
      "15160   49.067233     0.080732        0.084940        -0.004208   59.569159   \n",
      "15161   48.479125     0.071869        0.084096        -0.012228   61.453088   \n",
      "15162   47.842709     0.061001        0.082606        -0.021606   58.812668   \n",
      "15163   46.996934     0.047379        0.080334        -0.032954   55.442470   \n",
      "15164   48.797573     0.040946        0.077792        -0.036847   57.040747   \n",
      "15165   48.108939     0.032128        0.074846        -0.042719   55.239103   \n",
      "\n",
      "       slowk_lag_30  slowd_lag_30  \n",
      "15126     60.065785     43.192556  \n",
      "15127     60.194061     43.556631  \n",
      "15128     60.374016     43.922537  \n",
      "15129     60.259583     44.286375  \n",
      "15130     60.541052     44.654357  \n",
      "15131     60.356482     45.020413  \n",
      "15132     60.217132     45.385920  \n",
      "15133     59.713740     45.742381  \n",
      "15134     59.471990     46.095767  \n",
      "15135     59.090883     46.442309  \n",
      "15136     59.162044     46.790720  \n",
      "15137     59.476318     47.139803  \n",
      "15138     60.057258     47.495788  \n",
      "15139     60.488802     47.856310  \n",
      "15140     61.159880     48.224499  \n",
      "15141     61.530417     48.592973  \n",
      "15142     61.908694     48.962815  \n",
      "15143     62.309609     49.334255  \n",
      "15144     62.580854     49.707959  \n",
      "15145     63.097871     50.086987  \n",
      "15146     63.917225     50.474887  \n",
      "15147     64.817958     50.871878  \n",
      "15148     65.721661     51.277865  \n",
      "15149     66.031917     51.680341  \n",
      "15150     66.229602     52.077342  \n",
      "15151     66.437008     52.472461  \n",
      "15152     66.640693     52.865604  \n",
      "15153     66.662003     53.254770  \n",
      "15154     66.527113     53.637678  \n",
      "15155     66.111160     54.007388  \n",
      "15156     65.683508     54.364967  \n",
      "15157     64.914617     54.704004  \n",
      "15158     64.200624     55.027683  \n",
      "15159     63.663706     55.337754  \n",
      "15160     63.117934     55.634450  \n",
      "15161     62.364747     55.913781  \n",
      "15162     61.774698     56.180283  \n",
      "15163     60.991783     56.430762  \n",
      "15164     60.436359     56.668321  \n",
      "15165     59.658987     56.888502  \n",
      "\n",
      "[40 rows x 392 columns]\n"
     ]
    }
   ],
   "source": [
    "print(df.tail(40))"
   ]
  },
  {
   "cell_type": "code",
   "execution_count": 18,
   "id": "governing-heath",
   "metadata": {},
   "outputs": [],
   "source": [
    "\n",
    "\n",
    "#close_vals_list = df['adj_close']\n",
    "\n",
    "df.fillna(0, inplace=True)\n",
    "\n",
    "#df.fillna(0, inplace=True)\n",
    "\n",
    "#BUY => 1, SELL => 0, HOLD => 2\n",
    "\n",
    "num_test = int(.10*len(df))\n",
    "num_train = len(df) - num_test\n",
    "\n",
    "# Split into train, cv, and test\n",
    "train = df[:num_train]\n",
    "test = df[num_train:]\n",
    "\n",
    "#print(test['datetime'].iloc[[-1]])\n",
    "#print(test['test_labels'].iloc[[-1]])\n",
    "\n",
    "train_close_vals = close_vals_list[:num_train]\n",
    "test_close_vals = close_vals_list[num_train:]\n",
    "\n",
    "#test_dates_list = test['date']\n",
    "#BUY => 1, SELL => 0, HOLD => 2"
   ]
  },
  {
   "cell_type": "code",
   "execution_count": 19,
   "id": "removable-amazon",
   "metadata": {},
   "outputs": [],
   "source": [
    "test_dates_list = test['datetime']"
   ]
  },
  {
   "cell_type": "code",
   "execution_count": 20,
   "id": "interior-grocery",
   "metadata": {},
   "outputs": [],
   "source": [
    "train_dates_list = train['datetime']"
   ]
  },
  {
   "cell_type": "code",
   "execution_count": 21,
   "id": "african-limitation",
   "metadata": {},
   "outputs": [],
   "source": [
    "test_adj_close_list = close_vals_list[num_train:]"
   ]
  },
  {
   "cell_type": "code",
   "execution_count": 22,
   "id": "dimensional-search",
   "metadata": {},
   "outputs": [],
   "source": [
    "cols_to_scale = add_scale(num_interval_lag)\n",
    "#cols_to_scale.remove(cols_to_rem)\n",
    "\n",
    "# Do scaling for train set\n",
    "# Here we only scale the train dataset, and not the entire dataset to prevent information leak\n"
   ]
  },
  {
   "cell_type": "code",
   "execution_count": 23,
   "id": "partial-shopper",
   "metadata": {},
   "outputs": [],
   "source": [
    "for element in cols_to_rem:\n",
    "\n",
    "    if element in cols_to_scale:\n",
    "\n",
    "        cols_to_scale.remove(element)"
   ]
  },
  {
   "cell_type": "code",
   "execution_count": 24,
   "id": "plastic-gardening",
   "metadata": {},
   "outputs": [],
   "source": [
    "from sklearn.preprocessing import Normalizer"
   ]
  },
  {
   "cell_type": "code",
   "execution_count": 25,
   "id": "fuzzy-prefix",
   "metadata": {},
   "outputs": [],
   "source": [
    "#scaler = StandardScaler()\n",
    "\n",
    "scaler = Normalizer()\n",
    "\n",
    "scaler.fit(train[cols_to_scale])\n",
    "train_scaled = scaler.transform(train[cols_to_scale])\n",
    "\n",
    "# Convert the numpy array back into pandas dataframe\n",
    "\n",
    "train_scaled = pd.DataFrame(train_scaled, columns=cols_to_scale)\n",
    "\n",
    "train_scaled = train_scaled[slow:]\n",
    "train = train[slow:]\n",
    "\n",
    "#scaling test dataset\n",
    "\n",
    "#scaler_2 = StandardScaler()\n",
    "\n",
    "#scaler_2  = MinMaxScaler(feature_range=(-1,1))\n",
    "#scaler.fit(test[cols_to_scale])\n",
    "test_scaled = scaler.transform(test[cols_to_scale])\n",
    "\n",
    "# Convert the numpy array back into pandas dataframe\n",
    "\n",
    "test_scaled = pd.DataFrame(test_scaled, columns=cols_to_scale)\n",
    "\n",
    "features = cols_to_scale"
   ]
  },
  {
   "cell_type": "code",
   "execution_count": 26,
   "id": "saving-large",
   "metadata": {},
   "outputs": [
    {
     "data": {
      "text/plain": [
       "['adj_close',\n",
       " 'ema_lag_1',\n",
       " 'slowk_lag_1',\n",
       " 'slowd_lag_1',\n",
       " 'rsi_lag_1',\n",
       " 'volume_lag_1',\n",
       " 'adj_close_lag_1',\n",
       " 'open_lag_1',\n",
       " 'high_lag_1',\n",
       " 'low_lag_1',\n",
       " 'macd_lag_1',\n",
       " 'macdsig_lag_1',\n",
       " 'macdhist_lag_1',\n",
       " 'mfi_lag_1',\n",
       " 'ema_lag_2',\n",
       " 'slowk_lag_2',\n",
       " 'slowd_lag_2',\n",
       " 'rsi_lag_2',\n",
       " 'volume_lag_2',\n",
       " 'adj_close_lag_2',\n",
       " 'open_lag_2',\n",
       " 'high_lag_2',\n",
       " 'low_lag_2',\n",
       " 'macd_lag_2',\n",
       " 'macdsig_lag_2',\n",
       " 'macdhist_lag_2',\n",
       " 'mfi_lag_2',\n",
       " 'ema_lag_3',\n",
       " 'slowk_lag_3',\n",
       " 'slowd_lag_3',\n",
       " 'rsi_lag_3',\n",
       " 'volume_lag_3',\n",
       " 'adj_close_lag_3',\n",
       " 'open_lag_3',\n",
       " 'high_lag_3',\n",
       " 'low_lag_3',\n",
       " 'macd_lag_3',\n",
       " 'macdsig_lag_3',\n",
       " 'macdhist_lag_3',\n",
       " 'mfi_lag_3',\n",
       " 'ema_lag_4',\n",
       " 'slowk_lag_4',\n",
       " 'slowd_lag_4',\n",
       " 'rsi_lag_4',\n",
       " 'volume_lag_4',\n",
       " 'adj_close_lag_4',\n",
       " 'open_lag_4',\n",
       " 'high_lag_4',\n",
       " 'low_lag_4',\n",
       " 'macd_lag_4',\n",
       " 'macdsig_lag_4',\n",
       " 'macdhist_lag_4',\n",
       " 'mfi_lag_4',\n",
       " 'ema_lag_5',\n",
       " 'slowk_lag_5',\n",
       " 'slowd_lag_5',\n",
       " 'rsi_lag_5',\n",
       " 'volume_lag_5',\n",
       " 'adj_close_lag_5',\n",
       " 'open_lag_5',\n",
       " 'high_lag_5',\n",
       " 'low_lag_5',\n",
       " 'macd_lag_5',\n",
       " 'macdsig_lag_5',\n",
       " 'macdhist_lag_5',\n",
       " 'mfi_lag_5',\n",
       " 'ema_lag_6',\n",
       " 'slowk_lag_6',\n",
       " 'slowd_lag_6',\n",
       " 'rsi_lag_6',\n",
       " 'volume_lag_6',\n",
       " 'adj_close_lag_6',\n",
       " 'open_lag_6',\n",
       " 'high_lag_6',\n",
       " 'low_lag_6',\n",
       " 'macd_lag_6',\n",
       " 'macdsig_lag_6',\n",
       " 'macdhist_lag_6',\n",
       " 'mfi_lag_6',\n",
       " 'ema_lag_7',\n",
       " 'slowk_lag_7',\n",
       " 'slowd_lag_7',\n",
       " 'rsi_lag_7',\n",
       " 'volume_lag_7',\n",
       " 'adj_close_lag_7',\n",
       " 'open_lag_7',\n",
       " 'high_lag_7',\n",
       " 'low_lag_7',\n",
       " 'macd_lag_7',\n",
       " 'macdsig_lag_7',\n",
       " 'macdhist_lag_7',\n",
       " 'mfi_lag_7',\n",
       " 'ema_lag_8',\n",
       " 'slowk_lag_8',\n",
       " 'slowd_lag_8',\n",
       " 'rsi_lag_8',\n",
       " 'volume_lag_8',\n",
       " 'adj_close_lag_8',\n",
       " 'open_lag_8',\n",
       " 'high_lag_8',\n",
       " 'low_lag_8',\n",
       " 'macd_lag_8',\n",
       " 'macdsig_lag_8',\n",
       " 'macdhist_lag_8',\n",
       " 'mfi_lag_8',\n",
       " 'ema_lag_9',\n",
       " 'slowk_lag_9',\n",
       " 'slowd_lag_9',\n",
       " 'rsi_lag_9',\n",
       " 'volume_lag_9',\n",
       " 'adj_close_lag_9',\n",
       " 'open_lag_9',\n",
       " 'high_lag_9',\n",
       " 'low_lag_9',\n",
       " 'macd_lag_9',\n",
       " 'macdsig_lag_9',\n",
       " 'macdhist_lag_9',\n",
       " 'mfi_lag_9',\n",
       " 'ema_lag_10',\n",
       " 'slowk_lag_10',\n",
       " 'slowd_lag_10',\n",
       " 'rsi_lag_10',\n",
       " 'volume_lag_10',\n",
       " 'adj_close_lag_10',\n",
       " 'open_lag_10',\n",
       " 'high_lag_10',\n",
       " 'low_lag_10',\n",
       " 'macd_lag_10',\n",
       " 'macdsig_lag_10',\n",
       " 'macdhist_lag_10',\n",
       " 'mfi_lag_10',\n",
       " 'ema_lag_11',\n",
       " 'slowk_lag_11',\n",
       " 'slowd_lag_11',\n",
       " 'rsi_lag_11',\n",
       " 'volume_lag_11',\n",
       " 'adj_close_lag_11',\n",
       " 'open_lag_11',\n",
       " 'high_lag_11',\n",
       " 'low_lag_11',\n",
       " 'macd_lag_11',\n",
       " 'macdsig_lag_11',\n",
       " 'macdhist_lag_11',\n",
       " 'mfi_lag_11',\n",
       " 'ema_lag_12',\n",
       " 'slowk_lag_12',\n",
       " 'slowd_lag_12',\n",
       " 'rsi_lag_12',\n",
       " 'volume_lag_12',\n",
       " 'adj_close_lag_12',\n",
       " 'open_lag_12',\n",
       " 'high_lag_12',\n",
       " 'low_lag_12',\n",
       " 'macd_lag_12',\n",
       " 'macdsig_lag_12',\n",
       " 'macdhist_lag_12',\n",
       " 'mfi_lag_12',\n",
       " 'ema_lag_13',\n",
       " 'slowk_lag_13',\n",
       " 'slowd_lag_13',\n",
       " 'rsi_lag_13',\n",
       " 'volume_lag_13',\n",
       " 'adj_close_lag_13',\n",
       " 'open_lag_13',\n",
       " 'high_lag_13',\n",
       " 'low_lag_13',\n",
       " 'macd_lag_13',\n",
       " 'macdsig_lag_13',\n",
       " 'macdhist_lag_13',\n",
       " 'mfi_lag_13',\n",
       " 'ema_lag_14',\n",
       " 'slowk_lag_14',\n",
       " 'slowd_lag_14',\n",
       " 'rsi_lag_14',\n",
       " 'volume_lag_14',\n",
       " 'adj_close_lag_14',\n",
       " 'open_lag_14',\n",
       " 'high_lag_14',\n",
       " 'low_lag_14',\n",
       " 'macd_lag_14',\n",
       " 'macdsig_lag_14',\n",
       " 'macdhist_lag_14',\n",
       " 'mfi_lag_14',\n",
       " 'ema_lag_15',\n",
       " 'slowk_lag_15',\n",
       " 'slowd_lag_15',\n",
       " 'rsi_lag_15',\n",
       " 'volume_lag_15',\n",
       " 'adj_close_lag_15',\n",
       " 'open_lag_15',\n",
       " 'high_lag_15',\n",
       " 'low_lag_15',\n",
       " 'macd_lag_15',\n",
       " 'macdsig_lag_15',\n",
       " 'macdhist_lag_15',\n",
       " 'mfi_lag_15',\n",
       " 'ema_lag_16',\n",
       " 'slowk_lag_16',\n",
       " 'slowd_lag_16',\n",
       " 'rsi_lag_16',\n",
       " 'volume_lag_16',\n",
       " 'adj_close_lag_16',\n",
       " 'open_lag_16',\n",
       " 'high_lag_16',\n",
       " 'low_lag_16',\n",
       " 'macd_lag_16',\n",
       " 'macdsig_lag_16',\n",
       " 'macdhist_lag_16',\n",
       " 'mfi_lag_16',\n",
       " 'ema_lag_17',\n",
       " 'slowk_lag_17',\n",
       " 'slowd_lag_17',\n",
       " 'rsi_lag_17',\n",
       " 'volume_lag_17',\n",
       " 'adj_close_lag_17',\n",
       " 'open_lag_17',\n",
       " 'high_lag_17',\n",
       " 'low_lag_17',\n",
       " 'macd_lag_17',\n",
       " 'macdsig_lag_17',\n",
       " 'macdhist_lag_17',\n",
       " 'mfi_lag_17',\n",
       " 'ema_lag_18',\n",
       " 'slowk_lag_18',\n",
       " 'slowd_lag_18',\n",
       " 'rsi_lag_18',\n",
       " 'volume_lag_18',\n",
       " 'adj_close_lag_18',\n",
       " 'open_lag_18',\n",
       " 'high_lag_18',\n",
       " 'low_lag_18',\n",
       " 'macd_lag_18',\n",
       " 'macdsig_lag_18',\n",
       " 'macdhist_lag_18',\n",
       " 'mfi_lag_18',\n",
       " 'ema_lag_19',\n",
       " 'slowk_lag_19',\n",
       " 'slowd_lag_19',\n",
       " 'rsi_lag_19',\n",
       " 'volume_lag_19',\n",
       " 'adj_close_lag_19',\n",
       " 'open_lag_19',\n",
       " 'high_lag_19',\n",
       " 'low_lag_19',\n",
       " 'macd_lag_19',\n",
       " 'macdsig_lag_19',\n",
       " 'macdhist_lag_19',\n",
       " 'mfi_lag_19',\n",
       " 'ema_lag_20',\n",
       " 'slowk_lag_20',\n",
       " 'slowd_lag_20',\n",
       " 'rsi_lag_20',\n",
       " 'volume_lag_20',\n",
       " 'adj_close_lag_20',\n",
       " 'open_lag_20',\n",
       " 'high_lag_20',\n",
       " 'low_lag_20',\n",
       " 'macd_lag_20',\n",
       " 'macdsig_lag_20',\n",
       " 'macdhist_lag_20',\n",
       " 'mfi_lag_20',\n",
       " 'ema_lag_21',\n",
       " 'slowk_lag_21',\n",
       " 'slowd_lag_21',\n",
       " 'rsi_lag_21',\n",
       " 'volume_lag_21',\n",
       " 'adj_close_lag_21',\n",
       " 'open_lag_21',\n",
       " 'high_lag_21',\n",
       " 'low_lag_21',\n",
       " 'macd_lag_21',\n",
       " 'macdsig_lag_21',\n",
       " 'macdhist_lag_21',\n",
       " 'mfi_lag_21',\n",
       " 'ema_lag_22',\n",
       " 'slowk_lag_22',\n",
       " 'slowd_lag_22',\n",
       " 'rsi_lag_22',\n",
       " 'volume_lag_22',\n",
       " 'adj_close_lag_22',\n",
       " 'open_lag_22',\n",
       " 'high_lag_22',\n",
       " 'low_lag_22',\n",
       " 'macd_lag_22',\n",
       " 'macdsig_lag_22',\n",
       " 'macdhist_lag_22',\n",
       " 'mfi_lag_22',\n",
       " 'ema_lag_23',\n",
       " 'slowk_lag_23',\n",
       " 'slowd_lag_23',\n",
       " 'rsi_lag_23',\n",
       " 'volume_lag_23',\n",
       " 'adj_close_lag_23',\n",
       " 'open_lag_23',\n",
       " 'high_lag_23',\n",
       " 'low_lag_23',\n",
       " 'macd_lag_23',\n",
       " 'macdsig_lag_23',\n",
       " 'macdhist_lag_23',\n",
       " 'mfi_lag_23',\n",
       " 'ema_lag_24',\n",
       " 'slowk_lag_24',\n",
       " 'slowd_lag_24',\n",
       " 'rsi_lag_24',\n",
       " 'volume_lag_24',\n",
       " 'adj_close_lag_24',\n",
       " 'open_lag_24',\n",
       " 'high_lag_24',\n",
       " 'low_lag_24',\n",
       " 'macd_lag_24',\n",
       " 'macdsig_lag_24',\n",
       " 'macdhist_lag_24',\n",
       " 'mfi_lag_24',\n",
       " 'ema_lag_25',\n",
       " 'slowk_lag_25',\n",
       " 'slowd_lag_25',\n",
       " 'rsi_lag_25',\n",
       " 'volume_lag_25',\n",
       " 'adj_close_lag_25',\n",
       " 'open_lag_25',\n",
       " 'high_lag_25',\n",
       " 'low_lag_25',\n",
       " 'macd_lag_25',\n",
       " 'macdsig_lag_25',\n",
       " 'macdhist_lag_25',\n",
       " 'mfi_lag_25',\n",
       " 'ema_lag_26',\n",
       " 'slowk_lag_26',\n",
       " 'slowd_lag_26',\n",
       " 'rsi_lag_26',\n",
       " 'volume_lag_26',\n",
       " 'adj_close_lag_26',\n",
       " 'open_lag_26',\n",
       " 'high_lag_26',\n",
       " 'low_lag_26',\n",
       " 'macd_lag_26',\n",
       " 'macdsig_lag_26',\n",
       " 'macdhist_lag_26',\n",
       " 'mfi_lag_26',\n",
       " 'ema_lag_27',\n",
       " 'slowk_lag_27',\n",
       " 'slowd_lag_27',\n",
       " 'rsi_lag_27',\n",
       " 'volume_lag_27',\n",
       " 'adj_close_lag_27',\n",
       " 'open_lag_27',\n",
       " 'high_lag_27',\n",
       " 'low_lag_27',\n",
       " 'macd_lag_27',\n",
       " 'macdsig_lag_27',\n",
       " 'macdhist_lag_27',\n",
       " 'mfi_lag_27',\n",
       " 'ema_lag_28',\n",
       " 'slowk_lag_28',\n",
       " 'slowd_lag_28',\n",
       " 'rsi_lag_28',\n",
       " 'volume_lag_28',\n",
       " 'adj_close_lag_28',\n",
       " 'open_lag_28',\n",
       " 'high_lag_28',\n",
       " 'low_lag_28',\n",
       " 'macd_lag_28',\n",
       " 'macdsig_lag_28',\n",
       " 'macdhist_lag_28',\n",
       " 'mfi_lag_28',\n",
       " 'ema_lag_29',\n",
       " 'slowk_lag_29',\n",
       " 'slowd_lag_29',\n",
       " 'rsi_lag_29',\n",
       " 'volume_lag_29',\n",
       " 'adj_close_lag_29',\n",
       " 'open_lag_29',\n",
       " 'high_lag_29',\n",
       " 'low_lag_29',\n",
       " 'macd_lag_29',\n",
       " 'macdsig_lag_29',\n",
       " 'macdhist_lag_29',\n",
       " 'mfi_lag_29',\n",
       " 'ema_lag_30',\n",
       " 'slowk_lag_30',\n",
       " 'slowd_lag_30',\n",
       " 'rsi_lag_30',\n",
       " 'volume_lag_30',\n",
       " 'adj_close_lag_30',\n",
       " 'open_lag_30',\n",
       " 'high_lag_30',\n",
       " 'low_lag_30',\n",
       " 'macd_lag_30',\n",
       " 'macdsig_lag_30',\n",
       " 'macdhist_lag_30',\n",
       " 'mfi_lag_30']"
      ]
     },
     "execution_count": 26,
     "metadata": {},
     "output_type": "execute_result"
    }
   ],
   "source": [
    "features"
   ]
  },
  {
   "cell_type": "code",
   "execution_count": null,
   "id": "arbitrary-small",
   "metadata": {},
   "outputs": [],
   "source": []
  },
  {
   "cell_type": "code",
   "execution_count": 27,
   "id": "nearby-omega",
   "metadata": {},
   "outputs": [],
   "source": [
    "features.remove('adj_close')"
   ]
  },
  {
   "cell_type": "code",
   "execution_count": 28,
   "id": "optimum-collector",
   "metadata": {},
   "outputs": [
    {
     "name": "stdout",
     "output_type": "stream",
     "text": [
      "False\n"
     ]
    }
   ],
   "source": [
    "print('adj_close' in features)"
   ]
  },
  {
   "cell_type": "code",
   "execution_count": 29,
   "id": "enhanced-maximum",
   "metadata": {},
   "outputs": [
    {
     "name": "stdout",
     "output_type": "stream",
     "text": [
      "True\n"
     ]
    }
   ],
   "source": [
    "print('adj_close' in train_scaled.columns)"
   ]
  },
  {
   "cell_type": "code",
   "execution_count": 30,
   "id": "romance-eclipse",
   "metadata": {},
   "outputs": [],
   "source": [
    "#features.remove(target)\n",
    "\n",
    "# Split into X and y\n",
    "'''X_train_scaled = train_scaled[features]\n",
    "y_train_scaled = train['labels']\n",
    "\n",
    "X_test_scaled = test_scaled[features]\n",
    "y_test_scaled = test['labels']'''\n",
    "\n",
    "X_train = train_scaled[features]\n",
    "y_train = train_scaled['adj_close']\n",
    "\n",
    "X_test = test_scaled[features]\n",
    "y_test = test_scaled['adj_close']"
   ]
  },
  {
   "cell_type": "code",
   "execution_count": null,
   "id": "liberal-conditioning",
   "metadata": {},
   "outputs": [],
   "source": []
  },
  {
   "cell_type": "code",
   "execution_count": 31,
   "id": "posted-stopping",
   "metadata": {},
   "outputs": [],
   "source": [
    "import pyswarms as ps\n",
    "\n",
    "from sklearn.metrics import mean_squared_error"
   ]
  },
  {
   "cell_type": "code",
   "execution_count": null,
   "id": "antique-theorem",
   "metadata": {},
   "outputs": [],
   "source": []
  },
  {
   "cell_type": "code",
   "execution_count": null,
   "id": "unauthorized-kitchen",
   "metadata": {},
   "outputs": [],
   "source": []
  },
  {
   "cell_type": "code",
   "execution_count": null,
   "id": "going-toner",
   "metadata": {},
   "outputs": [],
   "source": []
  },
  {
   "cell_type": "code",
   "execution_count": 32,
   "id": "still-richards",
   "metadata": {},
   "outputs": [],
   "source": [
    "def fitness_function(position):\n",
    "    \n",
    "    #print(position)\n",
    "    \n",
    "    #svrRegressor = SVR(kernel='rbf', gamma = position[0].all(), C = position[1].all() )\n",
    "    \n",
    "    clfrbf=LSSVMRegression(\n",
    "        gamma=position[0].all(),       #set the gamma-hyper parameter equal to 1\n",
    "        kernel='rbf', #use the linear kernel\n",
    "        sigma=position[1].all(),\n",
    "            )\n",
    "    \n",
    "    clfrbf.fit(X_train, y_train)\n",
    "    \n",
    "    y_train_pred = clfrbf.predict(X_train)\n",
    "    \n",
    "    y_test_pred = clfrbf.predict(X_test)\n",
    "    \n",
    "    mse_test =mean_squared_error(y_test, y_test_pred)\n",
    "    \n",
    "    rmse_test = math.sqrt(mse_test)\n",
    "    \n",
    "    print('Optimizing the Parameters ..... C = {c}, Gamma={gamma}'.format(c=position[1], gamma=position[0]))\n",
    "    \n",
    "    mse_train = mean_squared_error(y_train, y_train_pred)\n",
    "    \n",
    "    rmse_train = math.sqrt(mse_train)\n",
    "    \n",
    "    #list(range(mse_f_train,rmse_f_train))\n",
    "    retVal= rmse_test #Return a vector instead of single value. you can use the rmse_test and ignore rmse_train\n",
    "    \n",
    "    return retVal"
   ]
  },
  {
   "cell_type": "code",
   "execution_count": null,
   "id": "consolidated-encyclopedia",
   "metadata": {},
   "outputs": [],
   "source": []
  },
  {
   "cell_type": "code",
   "execution_count": 33,
   "id": "adapted-anime",
   "metadata": {},
   "outputs": [
    {
     "name": "stderr",
     "output_type": "stream",
     "text": [
      "2021-03-01 13:20:58,757 - pyswarms.single.global_best - INFO - Optimize for 50 iters with {'c1': 0.5, 'c2': 0.3, 'w': 0.9}\n",
      "pyswarms.single.global_best:   2%|█▏                                                           |1/50, best_cost=0.00202"
     ]
    },
    {
     "name": "stdout",
     "output_type": "stream",
     "text": [
      "Optimizing the Parameters ..... C = [6.36581772e+02 1.03846053e-03], Gamma=[2.10309692e+02 4.26535592e-02]\n"
     ]
    },
    {
     "name": "stderr",
     "output_type": "stream",
     "text": [
      "pyswarms.single.global_best:   4%|██▍                                                          |2/50, best_cost=0.00202"
     ]
    },
    {
     "name": "stdout",
     "output_type": "stream",
     "text": [
      "Optimizing the Parameters ..... C = [6.12817345e+02 5.30066273e-04], Gamma=[2.10884457e+02 8.34130885e-03]\n"
     ]
    },
    {
     "name": "stderr",
     "output_type": "stream",
     "text": [
      "pyswarms.single.global_best:   6%|███▋                                                         |3/50, best_cost=0.00202"
     ]
    },
    {
     "name": "stdout",
     "output_type": "stream",
     "text": [
      "Optimizing the Parameters ..... C = [5.10410862e+02 2.78881569e-03], Gamma=[2.11110696e+02 7.26576701e-02]\n"
     ]
    },
    {
     "name": "stderr",
     "output_type": "stream",
     "text": [
      "pyswarms.single.global_best:   8%|████▉                                                        |4/50, best_cost=0.00202"
     ]
    },
    {
     "name": "stdout",
     "output_type": "stream",
     "text": [
      "Optimizing the Parameters ..... C = [4.39173571e+02 1.65865020e-04], Gamma=[2.10983738e+02 1.47738831e-02]\n"
     ]
    },
    {
     "name": "stderr",
     "output_type": "stream",
     "text": [
      "pyswarms.single.global_best:  10%|██████                                                       |5/50, best_cost=0.00202"
     ]
    },
    {
     "name": "stdout",
     "output_type": "stream",
     "text": [
      "Optimizing the Parameters ..... C = [4.34119627e+02 9.52347437e-02], Gamma=[2.10480737e+02 5.41596930e-02]\n"
     ]
    },
    {
     "name": "stderr",
     "output_type": "stream",
     "text": [
      "pyswarms.single.global_best:  12%|███████▎                                                     |6/50, best_cost=0.00202"
     ]
    },
    {
     "name": "stdout",
     "output_type": "stream",
     "text": [
      "Optimizing the Parameters ..... C = [4.07269915e+02 3.19682291e-02], Gamma=[2.09951956e+02 7.74397289e-02]\n"
     ]
    },
    {
     "name": "stderr",
     "output_type": "stream",
     "text": [
      "pyswarms.single.global_best:  14%|████████▌                                                    |7/50, best_cost=0.00202"
     ]
    },
    {
     "name": "stdout",
     "output_type": "stream",
     "text": [
      "Optimizing the Parameters ..... C = [4.35887960e+02 6.07878265e-02], Gamma=[2.09632880e+02 8.41882818e-02]\n"
     ]
    },
    {
     "name": "stderr",
     "output_type": "stream",
     "text": [
      "pyswarms.single.global_best:  16%|█████████▊                                                   |8/50, best_cost=0.00202"
     ]
    },
    {
     "name": "stdout",
     "output_type": "stream",
     "text": [
      "Optimizing the Parameters ..... C = [4.97367567e+02 7.17485640e-02], Gamma=[2.09592554e+02 6.75700637e-02]\n"
     ]
    },
    {
     "name": "stderr",
     "output_type": "stream",
     "text": [
      "pyswarms.single.global_best:  18%|██████████▉                                                  |9/50, best_cost=0.00202"
     ]
    },
    {
     "name": "stdout",
     "output_type": "stream",
     "text": [
      "Optimizing the Parameters ..... C = [5.37371953e+02 5.83061778e-02], Gamma=[2.09856646e+02 3.56985461e-02]\n"
     ]
    },
    {
     "name": "stderr",
     "output_type": "stream",
     "text": [
      "pyswarms.single.global_best:  20%|████████████                                                |10/50, best_cost=0.00202"
     ]
    },
    {
     "name": "stdout",
     "output_type": "stream",
     "text": [
      "Optimizing the Parameters ..... C = [5.54539557e+02 2.45011057e-02], Gamma=[2.10241559e+02 9.79019054e-02]\n"
     ]
    },
    {
     "name": "stderr",
     "output_type": "stream",
     "text": [
      "pyswarms.single.global_best:  22%|█████████████▏                                              |11/50, best_cost=0.00202"
     ]
    },
    {
     "name": "stdout",
     "output_type": "stream",
     "text": [
      "Optimizing the Parameters ..... C = [5.69332933e+02 9.64399642e-02], Gamma=[2.10622880e+02 3.40954589e-02]\n"
     ]
    },
    {
     "name": "stderr",
     "output_type": "stream",
     "text": [
      "pyswarms.single.global_best:  24%|██████████████▍                                             |12/50, best_cost=0.00202"
     ]
    },
    {
     "name": "stdout",
     "output_type": "stream",
     "text": [
      "Optimizing the Parameters ..... C = [4.98741668e+02 5.35654014e-02], Gamma=[2.10904503e+02 7.25966932e-02]\n"
     ]
    },
    {
     "name": "stderr",
     "output_type": "stream",
     "text": [
      "pyswarms.single.global_best:  26%|███████████████▌                                            |13/50, best_cost=0.00202"
     ]
    },
    {
     "name": "stdout",
     "output_type": "stream",
     "text": [
      "Optimizing the Parameters ..... C = [4.16851420e+02 9.53847749e-02], Gamma=[2.10972332e+02 9.21347819e-02]\n"
     ]
    },
    {
     "name": "stderr",
     "output_type": "stream",
     "text": [
      "pyswarms.single.global_best:  28%|████████████████▊                                           |14/50, best_cost=0.00202"
     ]
    },
    {
     "name": "stdout",
     "output_type": "stream",
     "text": [
      "Optimizing the Parameters ..... C = [3.86170787e+02 2.55511972e-02], Gamma=[2.10786053e+02 8.06474221e-02]\n"
     ]
    },
    {
     "name": "stderr",
     "output_type": "stream",
     "text": [
      "pyswarms.single.global_best:  30%|██████████████████                                          |15/50, best_cost=0.00202"
     ]
    },
    {
     "name": "stdout",
     "output_type": "stream",
     "text": [
      "Optimizing the Parameters ..... C = [4.20197279e+02 5.50345059e-02], Gamma=[2.10529477e+02 5.92229016e-02]\n"
     ]
    },
    {
     "name": "stderr",
     "output_type": "stream",
     "text": [
      "pyswarms.single.global_best:  32%|███████████████████▏                                        |16/50, best_cost=0.00202"
     ]
    },
    {
     "name": "stdout",
     "output_type": "stream",
     "text": [
      "Optimizing the Parameters ..... C = [4.90328333e+02 9.11877221e-02], Gamma=[2.10242398e+02 3.01775539e-02]\n"
     ]
    },
    {
     "name": "stderr",
     "output_type": "stream",
     "text": [
      "pyswarms.single.global_best:  34%|████████████████████▍                                       |17/50, best_cost=0.00202"
     ]
    },
    {
     "name": "stdout",
     "output_type": "stream",
     "text": [
      "Optimizing the Parameters ..... C = [5.38894456e+02 1.59806975e-02], Gamma=[2.10035133e+02 7.61938045e-03]\n"
     ]
    },
    {
     "name": "stderr",
     "output_type": "stream",
     "text": [
      "pyswarms.single.global_best:  36%|█████████████████████▌                                      |18/50, best_cost=0.00202"
     ]
    },
    {
     "name": "stdout",
     "output_type": "stream",
     "text": [
      "Optimizing the Parameters ..... C = [5.53152830e+02 4.43439088e-02], Gamma=[2.10002949e+02 7.83216148e-04]\n"
     ]
    },
    {
     "name": "stderr",
     "output_type": "stream",
     "text": [
      "pyswarms.single.global_best:  38%|██████████████████████▊                                     |19/50, best_cost=0.00202"
     ]
    },
    {
     "name": "stdout",
     "output_type": "stream",
     "text": [
      "Optimizing the Parameters ..... C = [4.85817931e+02 6.83847465e-02], Gamma=[2.10127788e+02 2.55274768e-03]\n"
     ]
    },
    {
     "name": "stderr",
     "output_type": "stream",
     "text": [
      "pyswarms.single.global_best:  40%|████████████████████████                                    |20/50, best_cost=0.00202"
     ]
    },
    {
     "name": "stdout",
     "output_type": "stream",
     "text": [
      "Optimizing the Parameters ..... C = [4.17362655e+02 7.91074634e-02], Gamma=[2.10333306e+02 1.86625141e-02]\n"
     ]
    },
    {
     "name": "stderr",
     "output_type": "stream",
     "text": [
      "pyswarms.single.global_best:  42%|█████████████████████████▏                                  |21/50, best_cost=0.00202"
     ]
    },
    {
     "name": "stdout",
     "output_type": "stream",
     "text": [
      "Optimizing the Parameters ..... C = [3.56381928e+02 8.65119595e-02], Gamma=[2.10507389e+02 4.65022741e-02]\n"
     ]
    },
    {
     "name": "stderr",
     "output_type": "stream",
     "text": [
      "pyswarms.single.global_best:  44%|██████████████████████████▍                                 |22/50, best_cost=0.00202"
     ]
    },
    {
     "name": "stdout",
     "output_type": "stream",
     "text": [
      "Optimizing the Parameters ..... C = [3.73594395e+02 5.10737623e-02], Gamma=[2.10598686e+02 7.05147521e-02]\n"
     ]
    },
    {
     "name": "stderr",
     "output_type": "stream",
     "text": [
      "pyswarms.single.global_best:  46%|███████████████████████████▌                                |23/50, best_cost=0.00202"
     ]
    },
    {
     "name": "stdout",
     "output_type": "stream",
     "text": [
      "Optimizing the Parameters ..... C = [4.6223630e+02 1.1895943e-02], Gamma=[2.10612048e+02 8.17839815e-02]\n"
     ]
    },
    {
     "name": "stderr",
     "output_type": "stream",
     "text": [
      "pyswarms.single.global_best:  48%|████████████████████████████▊                               |24/50, best_cost=0.00202"
     ]
    },
    {
     "name": "stdout",
     "output_type": "stream",
     "text": [
      "Optimizing the Parameters ..... C = [5.61182399e+02 8.91886480e-02], Gamma=[2.10581845e+02 7.30357406e-02]\n"
     ]
    },
    {
     "name": "stderr",
     "output_type": "stream",
     "text": [
      "pyswarms.single.global_best:  50%|██████████████████████████████                              |25/50, best_cost=0.00202"
     ]
    },
    {
     "name": "stdout",
     "output_type": "stream",
     "text": [
      "Optimizing the Parameters ..... C = [5.99340131e+02 5.80952527e-02], Gamma=[2.10481248e+02 4.97771209e-02]\n"
     ]
    },
    {
     "name": "stderr",
     "output_type": "stream",
     "text": [
      "pyswarms.single.global_best:  52%|███████████████████████████████▏                            |26/50, best_cost=0.00202"
     ]
    },
    {
     "name": "stdout",
     "output_type": "stream",
     "text": [
      "Optimizing the Parameters ..... C = [5.28496302e+02 1.32491216e-02], Gamma=[2.10333776e+02 2.67285436e-02]\n"
     ]
    },
    {
     "name": "stderr",
     "output_type": "stream",
     "text": [
      "pyswarms.single.global_best:  54%|████████████████████████████████▍                           |27/50, best_cost=0.00202"
     ]
    },
    {
     "name": "stdout",
     "output_type": "stream",
     "text": [
      "Optimizing the Parameters ..... C = [4.33407996e+02 8.64820191e-02], Gamma=[2.10198367e+02 8.19481107e-03]\n"
     ]
    },
    {
     "name": "stderr",
     "output_type": "stream",
     "text": [
      "pyswarms.single.global_best:  56%|█████████████████████████████████▌                          |28/50, best_cost=0.00202"
     ]
    },
    {
     "name": "stdout",
     "output_type": "stream",
     "text": [
      "Optimizing the Parameters ..... C = [3.63534641e+02 3.26627363e-02], Gamma=[2.10127287e+02 5.17344423e-04]\n"
     ]
    },
    {
     "name": "stderr",
     "output_type": "stream",
     "text": [
      "pyswarms.single.global_best:  58%|██████████████████████████████████▊                         |29/50, best_cost=0.00202"
     ]
    },
    {
     "name": "stdout",
     "output_type": "stream",
     "text": [
      "Optimizing the Parameters ..... C = [3.31109012e+02 8.54808785e-02], Gamma=[2.10095064e+02 2.52724672e-03]\n"
     ]
    },
    {
     "name": "stderr",
     "output_type": "stream",
     "text": [
      "pyswarms.single.global_best:  60%|████████████████████████████████████                        |30/50, best_cost=0.00202"
     ]
    },
    {
     "name": "stdout",
     "output_type": "stream",
     "text": [
      "Optimizing the Parameters ..... C = [4.14698211e+02 1.77222534e-02], Gamma=[2.10107474e+02 1.70645452e-02]\n"
     ]
    },
    {
     "name": "stderr",
     "output_type": "stream",
     "text": [
      "pyswarms.single.global_best:  62%|█████████████████████████████████████▏                      |31/50, best_cost=0.00202"
     ]
    },
    {
     "name": "stdout",
     "output_type": "stream",
     "text": [
      "Optimizing the Parameters ..... C = [5.01859039e+02 6.69537774e-02], Gamma=[2.10246567e+02 3.89465126e-02]\n"
     ]
    },
    {
     "name": "stderr",
     "output_type": "stream",
     "text": [
      "pyswarms.single.global_best:  64%|██████████████████████████████████████▍                     |32/50, best_cost=0.00202"
     ]
    },
    {
     "name": "stdout",
     "output_type": "stream",
     "text": [
      "Optimizing the Parameters ..... C = [4.99777144e+02 9.45828567e-04], Gamma=[2.10415791e+02 5.94884401e-02]\n"
     ]
    },
    {
     "name": "stderr",
     "output_type": "stream",
     "text": [
      "pyswarms.single.global_best:  66%|███████████████████████████████████████▌                    |33/50, best_cost=0.00202"
     ]
    },
    {
     "name": "stdout",
     "output_type": "stream",
     "text": [
      "Optimizing the Parameters ..... C = [4.68198317e+02 6.22600239e-02], Gamma=[2.10512169e+02 6.83396387e-02]\n"
     ]
    },
    {
     "name": "stderr",
     "output_type": "stream",
     "text": [
      "pyswarms.single.global_best:  68%|████████████████████████████████████████▊                   |34/50, best_cost=0.00202"
     ]
    },
    {
     "name": "stdout",
     "output_type": "stream",
     "text": [
      "Optimizing the Parameters ..... C = [4.70262526e+02 3.21977508e-02], Gamma=[2.10527830e+02 7.22798601e-02]\n"
     ]
    },
    {
     "name": "stderr",
     "output_type": "stream",
     "text": [
      "pyswarms.single.global_best:  70%|██████████████████████████████████████████                  |35/50, best_cost=0.00202"
     ]
    },
    {
     "name": "stdout",
     "output_type": "stream",
     "text": [
      "Optimizing the Parameters ..... C = [5.33369751e+02 1.02779544e-02], Gamma=[2.10405224e+02 5.33207490e-02]\n"
     ]
    },
    {
     "name": "stderr",
     "output_type": "stream",
     "text": [
      "pyswarms.single.global_best:  72%|███████████████████████████████████████████▏                |36/50, best_cost=0.00202"
     ]
    },
    {
     "name": "stdout",
     "output_type": "stream",
     "text": [
      "Optimizing the Parameters ..... C = [5.12387895e+02 6.38783445e-03], Gamma=[2.10268917e+02 3.17034837e-02]\n"
     ]
    },
    {
     "name": "stderr",
     "output_type": "stream",
     "text": [
      "pyswarms.single.global_best:  74%|████████████████████████████████████████████▍               |37/50, best_cost=0.00202"
     ]
    },
    {
     "name": "stdout",
     "output_type": "stream",
     "text": [
      "Optimizing the Parameters ..... C = [4.50471263e+02 1.61980362e-02], Gamma=[2.10163456e+02 1.70461976e-02]\n"
     ]
    },
    {
     "name": "stderr",
     "output_type": "stream",
     "text": [
      "pyswarms.single.global_best:  76%|█████████████████████████████████████████████▌              |38/50, best_cost=0.00202"
     ]
    },
    {
     "name": "stdout",
     "output_type": "stream",
     "text": [
      "Optimizing the Parameters ..... C = [3.76032074e+02 3.42729019e-02], Gamma=[2.10154054e+02 1.11227537e-02]\n"
     ]
    },
    {
     "name": "stderr",
     "output_type": "stream",
     "text": [
      "pyswarms.single.global_best:  78%|██████████████████████████████████████████████▊             |39/50, best_cost=0.00202"
     ]
    },
    {
     "name": "stdout",
     "output_type": "stream",
     "text": [
      "Optimizing the Parameters ..... C = [3.98913067e+02 5.11573070e-02], Gamma=[2.10201343e+02 1.36514463e-02]\n"
     ]
    },
    {
     "name": "stderr",
     "output_type": "stream",
     "text": [
      "pyswarms.single.global_best:  80%|████████████████████████████████████████████████            |40/50, best_cost=0.00202"
     ]
    },
    {
     "name": "stdout",
     "output_type": "stream",
     "text": [
      "Optimizing the Parameters ..... C = [4.65528817e+02 7.37996034e-02], Gamma=[2.10283642e+02 3.43804349e-02]\n"
     ]
    },
    {
     "name": "stderr",
     "output_type": "stream",
     "text": [
      "pyswarms.single.global_best:  82%|█████████████████████████████████████████████████▏          |41/50, best_cost=0.00202"
     ]
    },
    {
     "name": "stdout",
     "output_type": "stream",
     "text": [
      "Optimizing the Parameters ..... C = [5.27596077e+02 7.79872823e-02], Gamma=[2.10367767e+02 5.40474635e-02]\n"
     ]
    },
    {
     "name": "stderr",
     "output_type": "stream",
     "text": [
      "pyswarms.single.global_best:  84%|██████████████████████████████████████████████████▍         |42/50, best_cost=0.00202"
     ]
    },
    {
     "name": "stdout",
     "output_type": "stream",
     "text": [
      "Optimizing the Parameters ..... C = [5.39541219e+02 5.48593369e-02], Gamma=[2.10427901e+02 6.77331391e-02]\n"
     ]
    },
    {
     "name": "stderr",
     "output_type": "stream",
     "text": [
      "pyswarms.single.global_best:  86%|███████████████████████████████████████████████████▌        |43/50, best_cost=0.00202"
     ]
    },
    {
     "name": "stdout",
     "output_type": "stream",
     "text": [
      "Optimizing the Parameters ..... C = [5.40609335e+02 2.10337140e-02], Gamma=[2.10439847e+02 7.08053114e-02]\n"
     ]
    },
    {
     "name": "stderr",
     "output_type": "stream",
     "text": [
      "pyswarms.single.global_best:  88%|████████████████████████████████████████████████████▊       |44/50, best_cost=0.00202"
     ]
    },
    {
     "name": "stdout",
     "output_type": "stream",
     "text": [
      "Optimizing the Parameters ..... C = [5.20774656e+02 3.57887507e-03], Gamma=[2.10433810e+02 6.13111778e-02]\n"
     ]
    },
    {
     "name": "stderr",
     "output_type": "stream",
     "text": [
      "pyswarms.single.global_best:  90%|██████████████████████████████████████████████████████      |45/50, best_cost=0.00202"
     ]
    },
    {
     "name": "stdout",
     "output_type": "stream",
     "text": [
      "Optimizing the Parameters ..... C = [4.46276818e+02 2.69135881e-03], Gamma=[2.10411923e+02 4.36772997e-02]\n"
     ]
    },
    {
     "name": "stderr",
     "output_type": "stream",
     "text": [
      "pyswarms.single.global_best:  92%|███████████████████████████████████████████████████████▏    |46/50, best_cost=0.00202"
     ]
    },
    {
     "name": "stdout",
     "output_type": "stream",
     "text": [
      "Optimizing the Parameters ..... C = [4.25090407e+02 1.22080814e-02], Gamma=[2.10362592e+02 2.74636656e-02]\n"
     ]
    },
    {
     "name": "stderr",
     "output_type": "stream",
     "text": [
      "pyswarms.single.global_best:  94%|████████████████████████████████████████████████████████▍   |47/50, best_cost=0.00202"
     ]
    },
    {
     "name": "stdout",
     "output_type": "stream",
     "text": [
      "Optimizing the Parameters ..... C = [4.03105598e+02 3.52994684e-02], Gamma=[2.10294572e+02 1.87024940e-02]\n"
     ]
    },
    {
     "name": "stderr",
     "output_type": "stream",
     "text": [
      "pyswarms.single.global_best:  96%|█████████████████████████████████████████████████████████▌  |48/50, best_cost=0.00202"
     ]
    },
    {
     "name": "stdout",
     "output_type": "stream",
     "text": [
      "Optimizing the Parameters ..... C = [4.11323142e+02 6.14244934e-02], Gamma=[2.10241714e+02 2.48471305e-02]\n"
     ]
    },
    {
     "name": "stderr",
     "output_type": "stream",
     "text": [
      "pyswarms.single.global_best:  98%|██████████████████████████████████████████████████████████▊ |49/50, best_cost=0.00202"
     ]
    },
    {
     "name": "stdout",
     "output_type": "stream",
     "text": [
      "Optimizing the Parameters ..... C = [4.49901941e+02 7.59750448e-02], Gamma=[2.10220285e+02 3.37522803e-02]\n"
     ]
    },
    {
     "name": "stderr",
     "output_type": "stream",
     "text": [
      "pyswarms.single.global_best: 100%|████████████████████████████████████████████████████████████|50/50, best_cost=0.00202\n",
      "2021-03-01 19:32:51,987 - pyswarms.single.global_best - INFO - Optimization finished | best cost: 0.002017044219685888, best pos: [2.10309692e+02 4.26535592e-02]\n"
     ]
    },
    {
     "name": "stdout",
     "output_type": "stream",
     "text": [
      "Optimizing the Parameters ..... C = [5.44524399e+02 7.68879726e-02], Gamma=[2.10251098e+02 4.60968166e-02]\n"
     ]
    }
   ],
   "source": [
    "lb = [10, 0.0001]\n",
    "ub = [1000,0.1]\n",
    "#mb = [100, 0.001]\n",
    "bounds = (lb,ub)\n",
    "\n",
    "options = {'c1': 0.5, 'c2': 0.3, 'w':0.9}\n",
    "optimizer = ps.single.GlobalBestPSO(n_particles=20, dimensions=2,options=options, bounds = bounds)\n",
    "gamma_opt, C_opt = optimizer.optimize(fitness_function, iters=50)"
   ]
  },
  {
   "cell_type": "code",
   "execution_count": 34,
   "id": "complete-underwear",
   "metadata": {
    "scrolled": true
   },
   "outputs": [
    {
     "name": "stdout",
     "output_type": "stream",
     "text": [
      "0.002017044219685888\n",
      "[2.10309692e+02 4.26535592e-02]\n"
     ]
    }
   ],
   "source": [
    "print(gamma_opt)\n",
    "print(C_opt)"
   ]
  },
  {
   "cell_type": "code",
   "execution_count": null,
   "id": "interested-finance",
   "metadata": {},
   "outputs": [],
   "source": []
  },
  {
   "cell_type": "code",
   "execution_count": 35,
   "id": "under-plenty",
   "metadata": {},
   "outputs": [],
   "source": []
  },
  {
   "cell_type": "code",
   "execution_count": null,
   "id": "indonesian-nudist",
   "metadata": {},
   "outputs": [],
   "source": []
  },
  {
   "cell_type": "code",
   "execution_count": 36,
   "id": "mediterranean-cream",
   "metadata": {},
   "outputs": [],
   "source": [
    "clfrbf=LSSVMRegression(\n",
    "        gamma=C_opt[0],       #set the gamma-hyper parameter equal to 1\n",
    "        kernel='rbf', #use the linear kernel\n",
    "        sigma=C_opt[1]\n",
    "            )"
   ]
  },
  {
   "cell_type": "code",
   "execution_count": 37,
   "id": "little-donor",
   "metadata": {},
   "outputs": [],
   "source": [
    "clfrbf.fit(X_train, y_train)"
   ]
  },
  {
   "cell_type": "code",
   "execution_count": 38,
   "id": "compound-smooth",
   "metadata": {},
   "outputs": [],
   "source": [
    "y_hat = clfrbf.predict(X_test)"
   ]
  },
  {
   "cell_type": "code",
   "execution_count": 39,
   "id": "isolated-hypothetical",
   "metadata": {},
   "outputs": [
    {
     "ename": "AttributeError",
     "evalue": "'Normalizer' object has no attribute 'inverse_transform'",
     "output_type": "error",
     "traceback": [
      "\u001b[1;31m---------------------------------------------------------------------------\u001b[0m",
      "\u001b[1;31mAttributeError\u001b[0m                            Traceback (most recent call last)",
      "\u001b[1;32m<ipython-input-39-d631a21aea77>\u001b[0m in \u001b[0;36m<module>\u001b[1;34m\u001b[0m\n\u001b[0;32m      1\u001b[0m \u001b[0mtest_scaled\u001b[0m\u001b[1;33m[\u001b[0m\u001b[1;34m'adj_close'\u001b[0m\u001b[1;33m]\u001b[0m \u001b[1;33m=\u001b[0m \u001b[0my_hat\u001b[0m\u001b[1;33m\u001b[0m\u001b[1;33m\u001b[0m\u001b[0m\n\u001b[0;32m      2\u001b[0m \u001b[1;33m\u001b[0m\u001b[0m\n\u001b[1;32m----> 3\u001b[1;33m \u001b[0minv_scaler\u001b[0m \u001b[1;33m=\u001b[0m \u001b[0mscaler\u001b[0m\u001b[1;33m.\u001b[0m\u001b[0minverse_transform\u001b[0m\u001b[1;33m(\u001b[0m\u001b[0mtest_scaled\u001b[0m\u001b[1;33m)\u001b[0m\u001b[1;33m\u001b[0m\u001b[1;33m\u001b[0m\u001b[0m\n\u001b[0m\u001b[0;32m      4\u001b[0m \u001b[1;33m\u001b[0m\u001b[0m\n\u001b[0;32m      5\u001b[0m \u001b[0my_hat_descaled\u001b[0m \u001b[1;33m=\u001b[0m \u001b[0mpd\u001b[0m\u001b[1;33m.\u001b[0m\u001b[0mDataFrame\u001b[0m\u001b[1;33m(\u001b[0m\u001b[0minv_scaler\u001b[0m\u001b[1;33m,\u001b[0m \u001b[0mcolumns\u001b[0m \u001b[1;33m=\u001b[0m \u001b[0mtest_scaled\u001b[0m\u001b[1;33m.\u001b[0m\u001b[0mcolumns\u001b[0m\u001b[1;33m)\u001b[0m\u001b[1;33m\u001b[0m\u001b[1;33m\u001b[0m\u001b[0m\n",
      "\u001b[1;31mAttributeError\u001b[0m: 'Normalizer' object has no attribute 'inverse_transform'"
     ]
    }
   ],
   "source": [
    "test_scaled['adj_close'] = y_hat\n",
    "\n",
    "inv_scaler = scaler.inverse_transform(test_scaled)\n",
    "\n",
    "y_hat_descaled = pd.DataFrame(inv_scaler, columns = test_scaled.columns)"
   ]
  },
  {
   "cell_type": "code",
   "execution_count": 42,
   "id": "immune-yahoo",
   "metadata": {},
   "outputs": [
    {
     "data": {
      "text/plain": [
       "{'copy': True, 'norm': 'l2'}"
      ]
     },
     "execution_count": 42,
     "metadata": {},
     "output_type": "execute_result"
    }
   ],
   "source": []
  },
  {
   "cell_type": "code",
   "execution_count": null,
   "id": "prospective-mambo",
   "metadata": {},
   "outputs": [],
   "source": []
  },
  {
   "cell_type": "code",
   "execution_count": 72,
   "id": "auburn-empire",
   "metadata": {},
   "outputs": [],
   "source": [
    "these_params = clfrbf.get_params()"
   ]
  },
  {
   "cell_type": "code",
   "execution_count": 73,
   "id": "standard-basketball",
   "metadata": {},
   "outputs": [
    {
     "name": "stdout",
     "output_type": "stream",
     "text": [
      "{'c': 1.0, 'd': 2, 'gamma': 210.3096923170885, 'kernel': 'rbf', 'sigma': 0.04265355923734179}\n"
     ]
    }
   ],
   "source": [
    "print(these_params)"
   ]
  },
  {
   "cell_type": "code",
   "execution_count": null,
   "id": "opposite-spending",
   "metadata": {},
   "outputs": [],
   "source": []
  },
  {
   "cell_type": "code",
   "execution_count": null,
   "id": "immediate-significance",
   "metadata": {},
   "outputs": [],
   "source": []
  },
  {
   "cell_type": "code",
   "execution_count": null,
   "id": "illegal-tampa",
   "metadata": {},
   "outputs": [],
   "source": []
  },
  {
   "cell_type": "code",
   "execution_count": null,
   "id": "supported-problem",
   "metadata": {},
   "outputs": [],
   "source": []
  },
  {
   "cell_type": "code",
   "execution_count": 43,
   "id": "julian-guard",
   "metadata": {},
   "outputs": [
    {
     "ename": "AttributeError",
     "evalue": "Can't pickle local object 'LSSVMRegression.__set_kernel.<locals>.rbf'",
     "output_type": "error",
     "traceback": [
      "\u001b[1;31m---------------------------------------------------------------------------\u001b[0m",
      "\u001b[1;31mAttributeError\u001b[0m                            Traceback (most recent call last)",
      "\u001b[1;32m<ipython-input-43-b153ad90e93a>\u001b[0m in \u001b[0;36m<module>\u001b[1;34m\u001b[0m\n\u001b[0;32m      1\u001b[0m \u001b[1;32mimport\u001b[0m \u001b[0mpickle\u001b[0m\u001b[1;33m\u001b[0m\u001b[1;33m\u001b[0m\u001b[0m\n\u001b[0;32m      2\u001b[0m \u001b[1;31m# this methodology works for saving a trained model\u001b[0m\u001b[1;33m\u001b[0m\u001b[1;33m\u001b[0m\u001b[1;33m\u001b[0m\u001b[0m\n\u001b[1;32m----> 3\u001b[1;33m \u001b[0mpickle\u001b[0m\u001b[1;33m.\u001b[0m\u001b[0mdump\u001b[0m\u001b[1;33m(\u001b[0m\u001b[0mclfrbf\u001b[0m\u001b[1;33m,\u001b[0m \u001b[0mopen\u001b[0m\u001b[1;33m(\u001b[0m\u001b[1;34m\"test.model\"\u001b[0m\u001b[1;33m,\u001b[0m \u001b[1;34m\"wb\"\u001b[0m\u001b[1;33m)\u001b[0m\u001b[1;33m)\u001b[0m\u001b[1;33m\u001b[0m\u001b[1;33m\u001b[0m\u001b[0m\n\u001b[0m",
      "\u001b[1;31mAttributeError\u001b[0m: Can't pickle local object 'LSSVMRegression.__set_kernel.<locals>.rbf'"
     ]
    }
   ],
   "source": [
    "import pickle\n",
    "# this methodology works for saving a trained model\n",
    "pickle.dump(clfrbf, open(\"test.model\", \"wb\"))"
   ]
  },
  {
   "cell_type": "code",
   "execution_count": 49,
   "id": "under-location",
   "metadata": {},
   "outputs": [
    {
     "ename": "PicklingError",
     "evalue": "Can't pickle <function LSSVMRegression.__set_kernel.<locals>.rbf at 0x000001F3EE592E50>: it's not found as LSSVMRegression.LSSVMRegression.__set_kernel.<locals>.rbf",
     "output_type": "error",
     "traceback": [
      "\u001b[1;31m---------------------------------------------------------------------------\u001b[0m",
      "\u001b[1;31mPicklingError\u001b[0m                             Traceback (most recent call last)",
      "\u001b[1;32m<ipython-input-49-830cd37901b2>\u001b[0m in \u001b[0;36m<module>\u001b[1;34m\u001b[0m\n\u001b[0;32m      2\u001b[0m \u001b[1;32mfrom\u001b[0m \u001b[0mjoblib\u001b[0m \u001b[1;32mimport\u001b[0m \u001b[0mdump\u001b[0m\u001b[1;33m\u001b[0m\u001b[1;33m\u001b[0m\u001b[0m\n\u001b[0;32m      3\u001b[0m \u001b[0mfilename\u001b[0m \u001b[1;33m=\u001b[0m \u001b[1;34m\"test.joblib\"\u001b[0m\u001b[1;33m\u001b[0m\u001b[1;33m\u001b[0m\u001b[0m\n\u001b[1;32m----> 4\u001b[1;33m \u001b[0mjoblib\u001b[0m\u001b[1;33m.\u001b[0m\u001b[0mdump\u001b[0m\u001b[1;33m(\u001b[0m\u001b[0mclfrbf\u001b[0m\u001b[1;33m,\u001b[0m \u001b[0mfilename\u001b[0m\u001b[1;33m)\u001b[0m\u001b[1;33m\u001b[0m\u001b[1;33m\u001b[0m\u001b[0m\n\u001b[0m",
      "\u001b[1;32m~\\AppData\\Roaming\\Python\\Python38\\site-packages\\joblib\\numpy_pickle.py\u001b[0m in \u001b[0;36mdump\u001b[1;34m(value, filename, compress, protocol, cache_size)\u001b[0m\n\u001b[0;32m    478\u001b[0m     \u001b[1;32melif\u001b[0m \u001b[0mis_filename\u001b[0m\u001b[1;33m:\u001b[0m\u001b[1;33m\u001b[0m\u001b[1;33m\u001b[0m\u001b[0m\n\u001b[0;32m    479\u001b[0m         \u001b[1;32mwith\u001b[0m \u001b[0mopen\u001b[0m\u001b[1;33m(\u001b[0m\u001b[0mfilename\u001b[0m\u001b[1;33m,\u001b[0m \u001b[1;34m'wb'\u001b[0m\u001b[1;33m)\u001b[0m \u001b[1;32mas\u001b[0m \u001b[0mf\u001b[0m\u001b[1;33m:\u001b[0m\u001b[1;33m\u001b[0m\u001b[1;33m\u001b[0m\u001b[0m\n\u001b[1;32m--> 480\u001b[1;33m             \u001b[0mNumpyPickler\u001b[0m\u001b[1;33m(\u001b[0m\u001b[0mf\u001b[0m\u001b[1;33m,\u001b[0m \u001b[0mprotocol\u001b[0m\u001b[1;33m=\u001b[0m\u001b[0mprotocol\u001b[0m\u001b[1;33m)\u001b[0m\u001b[1;33m.\u001b[0m\u001b[0mdump\u001b[0m\u001b[1;33m(\u001b[0m\u001b[0mvalue\u001b[0m\u001b[1;33m)\u001b[0m\u001b[1;33m\u001b[0m\u001b[1;33m\u001b[0m\u001b[0m\n\u001b[0m\u001b[0;32m    481\u001b[0m     \u001b[1;32melse\u001b[0m\u001b[1;33m:\u001b[0m\u001b[1;33m\u001b[0m\u001b[1;33m\u001b[0m\u001b[0m\n\u001b[0;32m    482\u001b[0m         \u001b[0mNumpyPickler\u001b[0m\u001b[1;33m(\u001b[0m\u001b[0mfilename\u001b[0m\u001b[1;33m,\u001b[0m \u001b[0mprotocol\u001b[0m\u001b[1;33m=\u001b[0m\u001b[0mprotocol\u001b[0m\u001b[1;33m)\u001b[0m\u001b[1;33m.\u001b[0m\u001b[0mdump\u001b[0m\u001b[1;33m(\u001b[0m\u001b[0mvalue\u001b[0m\u001b[1;33m)\u001b[0m\u001b[1;33m\u001b[0m\u001b[1;33m\u001b[0m\u001b[0m\n",
      "\u001b[1;32mc:\\program files\\python38\\lib\\pickle.py\u001b[0m in \u001b[0;36mdump\u001b[1;34m(self, obj)\u001b[0m\n\u001b[0;32m    483\u001b[0m         \u001b[1;32mif\u001b[0m \u001b[0mself\u001b[0m\u001b[1;33m.\u001b[0m\u001b[0mproto\u001b[0m \u001b[1;33m>=\u001b[0m \u001b[1;36m4\u001b[0m\u001b[1;33m:\u001b[0m\u001b[1;33m\u001b[0m\u001b[1;33m\u001b[0m\u001b[0m\n\u001b[0;32m    484\u001b[0m             \u001b[0mself\u001b[0m\u001b[1;33m.\u001b[0m\u001b[0mframer\u001b[0m\u001b[1;33m.\u001b[0m\u001b[0mstart_framing\u001b[0m\u001b[1;33m(\u001b[0m\u001b[1;33m)\u001b[0m\u001b[1;33m\u001b[0m\u001b[1;33m\u001b[0m\u001b[0m\n\u001b[1;32m--> 485\u001b[1;33m         \u001b[0mself\u001b[0m\u001b[1;33m.\u001b[0m\u001b[0msave\u001b[0m\u001b[1;33m(\u001b[0m\u001b[0mobj\u001b[0m\u001b[1;33m)\u001b[0m\u001b[1;33m\u001b[0m\u001b[1;33m\u001b[0m\u001b[0m\n\u001b[0m\u001b[0;32m    486\u001b[0m         \u001b[0mself\u001b[0m\u001b[1;33m.\u001b[0m\u001b[0mwrite\u001b[0m\u001b[1;33m(\u001b[0m\u001b[0mSTOP\u001b[0m\u001b[1;33m)\u001b[0m\u001b[1;33m\u001b[0m\u001b[1;33m\u001b[0m\u001b[0m\n\u001b[0;32m    487\u001b[0m         \u001b[0mself\u001b[0m\u001b[1;33m.\u001b[0m\u001b[0mframer\u001b[0m\u001b[1;33m.\u001b[0m\u001b[0mend_framing\u001b[0m\u001b[1;33m(\u001b[0m\u001b[1;33m)\u001b[0m\u001b[1;33m\u001b[0m\u001b[1;33m\u001b[0m\u001b[0m\n",
      "\u001b[1;32m~\\AppData\\Roaming\\Python\\Python38\\site-packages\\joblib\\numpy_pickle.py\u001b[0m in \u001b[0;36msave\u001b[1;34m(self, obj)\u001b[0m\n\u001b[0;32m    280\u001b[0m             \u001b[1;32mreturn\u001b[0m\u001b[1;33m\u001b[0m\u001b[1;33m\u001b[0m\u001b[0m\n\u001b[0;32m    281\u001b[0m \u001b[1;33m\u001b[0m\u001b[0m\n\u001b[1;32m--> 282\u001b[1;33m         \u001b[1;32mreturn\u001b[0m \u001b[0mPickler\u001b[0m\u001b[1;33m.\u001b[0m\u001b[0msave\u001b[0m\u001b[1;33m(\u001b[0m\u001b[0mself\u001b[0m\u001b[1;33m,\u001b[0m \u001b[0mobj\u001b[0m\u001b[1;33m)\u001b[0m\u001b[1;33m\u001b[0m\u001b[1;33m\u001b[0m\u001b[0m\n\u001b[0m\u001b[0;32m    283\u001b[0m \u001b[1;33m\u001b[0m\u001b[0m\n\u001b[0;32m    284\u001b[0m \u001b[1;33m\u001b[0m\u001b[0m\n",
      "\u001b[1;32mc:\\program files\\python38\\lib\\pickle.py\u001b[0m in \u001b[0;36msave\u001b[1;34m(self, obj, save_persistent_id)\u001b[0m\n\u001b[0;32m    599\u001b[0m \u001b[1;33m\u001b[0m\u001b[0m\n\u001b[0;32m    600\u001b[0m         \u001b[1;31m# Save the reduce() output and finally memoize the object\u001b[0m\u001b[1;33m\u001b[0m\u001b[1;33m\u001b[0m\u001b[1;33m\u001b[0m\u001b[0m\n\u001b[1;32m--> 601\u001b[1;33m         \u001b[0mself\u001b[0m\u001b[1;33m.\u001b[0m\u001b[0msave_reduce\u001b[0m\u001b[1;33m(\u001b[0m\u001b[0mobj\u001b[0m\u001b[1;33m=\u001b[0m\u001b[0mobj\u001b[0m\u001b[1;33m,\u001b[0m \u001b[1;33m*\u001b[0m\u001b[0mrv\u001b[0m\u001b[1;33m)\u001b[0m\u001b[1;33m\u001b[0m\u001b[1;33m\u001b[0m\u001b[0m\n\u001b[0m\u001b[0;32m    602\u001b[0m \u001b[1;33m\u001b[0m\u001b[0m\n\u001b[0;32m    603\u001b[0m     \u001b[1;32mdef\u001b[0m \u001b[0mpersistent_id\u001b[0m\u001b[1;33m(\u001b[0m\u001b[0mself\u001b[0m\u001b[1;33m,\u001b[0m \u001b[0mobj\u001b[0m\u001b[1;33m)\u001b[0m\u001b[1;33m:\u001b[0m\u001b[1;33m\u001b[0m\u001b[1;33m\u001b[0m\u001b[0m\n",
      "\u001b[1;32mc:\\program files\\python38\\lib\\pickle.py\u001b[0m in \u001b[0;36msave_reduce\u001b[1;34m(self, func, args, state, listitems, dictitems, state_setter, obj)\u001b[0m\n\u001b[0;32m    713\u001b[0m         \u001b[1;32mif\u001b[0m \u001b[0mstate\u001b[0m \u001b[1;32mis\u001b[0m \u001b[1;32mnot\u001b[0m \u001b[1;32mNone\u001b[0m\u001b[1;33m:\u001b[0m\u001b[1;33m\u001b[0m\u001b[1;33m\u001b[0m\u001b[0m\n\u001b[0;32m    714\u001b[0m             \u001b[1;32mif\u001b[0m \u001b[0mstate_setter\u001b[0m \u001b[1;32mis\u001b[0m \u001b[1;32mNone\u001b[0m\u001b[1;33m:\u001b[0m\u001b[1;33m\u001b[0m\u001b[1;33m\u001b[0m\u001b[0m\n\u001b[1;32m--> 715\u001b[1;33m                 \u001b[0msave\u001b[0m\u001b[1;33m(\u001b[0m\u001b[0mstate\u001b[0m\u001b[1;33m)\u001b[0m\u001b[1;33m\u001b[0m\u001b[1;33m\u001b[0m\u001b[0m\n\u001b[0m\u001b[0;32m    716\u001b[0m                 \u001b[0mwrite\u001b[0m\u001b[1;33m(\u001b[0m\u001b[0mBUILD\u001b[0m\u001b[1;33m)\u001b[0m\u001b[1;33m\u001b[0m\u001b[1;33m\u001b[0m\u001b[0m\n\u001b[0;32m    717\u001b[0m             \u001b[1;32melse\u001b[0m\u001b[1;33m:\u001b[0m\u001b[1;33m\u001b[0m\u001b[1;33m\u001b[0m\u001b[0m\n",
      "\u001b[1;32m~\\AppData\\Roaming\\Python\\Python38\\site-packages\\joblib\\numpy_pickle.py\u001b[0m in \u001b[0;36msave\u001b[1;34m(self, obj)\u001b[0m\n\u001b[0;32m    280\u001b[0m             \u001b[1;32mreturn\u001b[0m\u001b[1;33m\u001b[0m\u001b[1;33m\u001b[0m\u001b[0m\n\u001b[0;32m    281\u001b[0m \u001b[1;33m\u001b[0m\u001b[0m\n\u001b[1;32m--> 282\u001b[1;33m         \u001b[1;32mreturn\u001b[0m \u001b[0mPickler\u001b[0m\u001b[1;33m.\u001b[0m\u001b[0msave\u001b[0m\u001b[1;33m(\u001b[0m\u001b[0mself\u001b[0m\u001b[1;33m,\u001b[0m \u001b[0mobj\u001b[0m\u001b[1;33m)\u001b[0m\u001b[1;33m\u001b[0m\u001b[1;33m\u001b[0m\u001b[0m\n\u001b[0m\u001b[0;32m    283\u001b[0m \u001b[1;33m\u001b[0m\u001b[0m\n\u001b[0;32m    284\u001b[0m \u001b[1;33m\u001b[0m\u001b[0m\n",
      "\u001b[1;32mc:\\program files\\python38\\lib\\pickle.py\u001b[0m in \u001b[0;36msave\u001b[1;34m(self, obj, save_persistent_id)\u001b[0m\n\u001b[0;32m    556\u001b[0m             \u001b[0mf\u001b[0m \u001b[1;33m=\u001b[0m \u001b[0mself\u001b[0m\u001b[1;33m.\u001b[0m\u001b[0mdispatch\u001b[0m\u001b[1;33m.\u001b[0m\u001b[0mget\u001b[0m\u001b[1;33m(\u001b[0m\u001b[0mt\u001b[0m\u001b[1;33m)\u001b[0m\u001b[1;33m\u001b[0m\u001b[1;33m\u001b[0m\u001b[0m\n\u001b[0;32m    557\u001b[0m             \u001b[1;32mif\u001b[0m \u001b[0mf\u001b[0m \u001b[1;32mis\u001b[0m \u001b[1;32mnot\u001b[0m \u001b[1;32mNone\u001b[0m\u001b[1;33m:\u001b[0m\u001b[1;33m\u001b[0m\u001b[1;33m\u001b[0m\u001b[0m\n\u001b[1;32m--> 558\u001b[1;33m                 \u001b[0mf\u001b[0m\u001b[1;33m(\u001b[0m\u001b[0mself\u001b[0m\u001b[1;33m,\u001b[0m \u001b[0mobj\u001b[0m\u001b[1;33m)\u001b[0m  \u001b[1;31m# Call unbound method with explicit self\u001b[0m\u001b[1;33m\u001b[0m\u001b[1;33m\u001b[0m\u001b[0m\n\u001b[0m\u001b[0;32m    559\u001b[0m                 \u001b[1;32mreturn\u001b[0m\u001b[1;33m\u001b[0m\u001b[1;33m\u001b[0m\u001b[0m\n\u001b[0;32m    560\u001b[0m \u001b[1;33m\u001b[0m\u001b[0m\n",
      "\u001b[1;32mc:\\program files\\python38\\lib\\pickle.py\u001b[0m in \u001b[0;36msave_dict\u001b[1;34m(self, obj)\u001b[0m\n\u001b[0;32m    967\u001b[0m \u001b[1;33m\u001b[0m\u001b[0m\n\u001b[0;32m    968\u001b[0m         \u001b[0mself\u001b[0m\u001b[1;33m.\u001b[0m\u001b[0mmemoize\u001b[0m\u001b[1;33m(\u001b[0m\u001b[0mobj\u001b[0m\u001b[1;33m)\u001b[0m\u001b[1;33m\u001b[0m\u001b[1;33m\u001b[0m\u001b[0m\n\u001b[1;32m--> 969\u001b[1;33m         \u001b[0mself\u001b[0m\u001b[1;33m.\u001b[0m\u001b[0m_batch_setitems\u001b[0m\u001b[1;33m(\u001b[0m\u001b[0mobj\u001b[0m\u001b[1;33m.\u001b[0m\u001b[0mitems\u001b[0m\u001b[1;33m(\u001b[0m\u001b[1;33m)\u001b[0m\u001b[1;33m)\u001b[0m\u001b[1;33m\u001b[0m\u001b[1;33m\u001b[0m\u001b[0m\n\u001b[0m\u001b[0;32m    970\u001b[0m \u001b[1;33m\u001b[0m\u001b[0m\n\u001b[0;32m    971\u001b[0m     \u001b[0mdispatch\u001b[0m\u001b[1;33m[\u001b[0m\u001b[0mdict\u001b[0m\u001b[1;33m]\u001b[0m \u001b[1;33m=\u001b[0m \u001b[0msave_dict\u001b[0m\u001b[1;33m\u001b[0m\u001b[1;33m\u001b[0m\u001b[0m\n",
      "\u001b[1;32mc:\\program files\\python38\\lib\\pickle.py\u001b[0m in \u001b[0;36m_batch_setitems\u001b[1;34m(self, items)\u001b[0m\n\u001b[0;32m    993\u001b[0m                 \u001b[1;32mfor\u001b[0m \u001b[0mk\u001b[0m\u001b[1;33m,\u001b[0m \u001b[0mv\u001b[0m \u001b[1;32min\u001b[0m \u001b[0mtmp\u001b[0m\u001b[1;33m:\u001b[0m\u001b[1;33m\u001b[0m\u001b[1;33m\u001b[0m\u001b[0m\n\u001b[0;32m    994\u001b[0m                     \u001b[0msave\u001b[0m\u001b[1;33m(\u001b[0m\u001b[0mk\u001b[0m\u001b[1;33m)\u001b[0m\u001b[1;33m\u001b[0m\u001b[1;33m\u001b[0m\u001b[0m\n\u001b[1;32m--> 995\u001b[1;33m                     \u001b[0msave\u001b[0m\u001b[1;33m(\u001b[0m\u001b[0mv\u001b[0m\u001b[1;33m)\u001b[0m\u001b[1;33m\u001b[0m\u001b[1;33m\u001b[0m\u001b[0m\n\u001b[0m\u001b[0;32m    996\u001b[0m                 \u001b[0mwrite\u001b[0m\u001b[1;33m(\u001b[0m\u001b[0mSETITEMS\u001b[0m\u001b[1;33m)\u001b[0m\u001b[1;33m\u001b[0m\u001b[1;33m\u001b[0m\u001b[0m\n\u001b[0;32m    997\u001b[0m             \u001b[1;32melif\u001b[0m \u001b[0mn\u001b[0m\u001b[1;33m:\u001b[0m\u001b[1;33m\u001b[0m\u001b[1;33m\u001b[0m\u001b[0m\n",
      "\u001b[1;32m~\\AppData\\Roaming\\Python\\Python38\\site-packages\\joblib\\numpy_pickle.py\u001b[0m in \u001b[0;36msave\u001b[1;34m(self, obj)\u001b[0m\n\u001b[0;32m    280\u001b[0m             \u001b[1;32mreturn\u001b[0m\u001b[1;33m\u001b[0m\u001b[1;33m\u001b[0m\u001b[0m\n\u001b[0;32m    281\u001b[0m \u001b[1;33m\u001b[0m\u001b[0m\n\u001b[1;32m--> 282\u001b[1;33m         \u001b[1;32mreturn\u001b[0m \u001b[0mPickler\u001b[0m\u001b[1;33m.\u001b[0m\u001b[0msave\u001b[0m\u001b[1;33m(\u001b[0m\u001b[0mself\u001b[0m\u001b[1;33m,\u001b[0m \u001b[0mobj\u001b[0m\u001b[1;33m)\u001b[0m\u001b[1;33m\u001b[0m\u001b[1;33m\u001b[0m\u001b[0m\n\u001b[0m\u001b[0;32m    283\u001b[0m \u001b[1;33m\u001b[0m\u001b[0m\n\u001b[0;32m    284\u001b[0m \u001b[1;33m\u001b[0m\u001b[0m\n",
      "\u001b[1;32mc:\\program files\\python38\\lib\\pickle.py\u001b[0m in \u001b[0;36msave\u001b[1;34m(self, obj, save_persistent_id)\u001b[0m\n\u001b[0;32m    556\u001b[0m             \u001b[0mf\u001b[0m \u001b[1;33m=\u001b[0m \u001b[0mself\u001b[0m\u001b[1;33m.\u001b[0m\u001b[0mdispatch\u001b[0m\u001b[1;33m.\u001b[0m\u001b[0mget\u001b[0m\u001b[1;33m(\u001b[0m\u001b[0mt\u001b[0m\u001b[1;33m)\u001b[0m\u001b[1;33m\u001b[0m\u001b[1;33m\u001b[0m\u001b[0m\n\u001b[0;32m    557\u001b[0m             \u001b[1;32mif\u001b[0m \u001b[0mf\u001b[0m \u001b[1;32mis\u001b[0m \u001b[1;32mnot\u001b[0m \u001b[1;32mNone\u001b[0m\u001b[1;33m:\u001b[0m\u001b[1;33m\u001b[0m\u001b[1;33m\u001b[0m\u001b[0m\n\u001b[1;32m--> 558\u001b[1;33m                 \u001b[0mf\u001b[0m\u001b[1;33m(\u001b[0m\u001b[0mself\u001b[0m\u001b[1;33m,\u001b[0m \u001b[0mobj\u001b[0m\u001b[1;33m)\u001b[0m  \u001b[1;31m# Call unbound method with explicit self\u001b[0m\u001b[1;33m\u001b[0m\u001b[1;33m\u001b[0m\u001b[0m\n\u001b[0m\u001b[0;32m    559\u001b[0m                 \u001b[1;32mreturn\u001b[0m\u001b[1;33m\u001b[0m\u001b[1;33m\u001b[0m\u001b[0m\n\u001b[0;32m    560\u001b[0m \u001b[1;33m\u001b[0m\u001b[0m\n",
      "\u001b[1;32mc:\\program files\\python38\\lib\\pickle.py\u001b[0m in \u001b[0;36msave_global\u001b[1;34m(self, obj, name)\u001b[0m\n\u001b[0;32m   1066\u001b[0m             \u001b[0mobj2\u001b[0m\u001b[1;33m,\u001b[0m \u001b[0mparent\u001b[0m \u001b[1;33m=\u001b[0m \u001b[0m_getattribute\u001b[0m\u001b[1;33m(\u001b[0m\u001b[0mmodule\u001b[0m\u001b[1;33m,\u001b[0m \u001b[0mname\u001b[0m\u001b[1;33m)\u001b[0m\u001b[1;33m\u001b[0m\u001b[1;33m\u001b[0m\u001b[0m\n\u001b[0;32m   1067\u001b[0m         \u001b[1;32mexcept\u001b[0m \u001b[1;33m(\u001b[0m\u001b[0mImportError\u001b[0m\u001b[1;33m,\u001b[0m \u001b[0mKeyError\u001b[0m\u001b[1;33m,\u001b[0m \u001b[0mAttributeError\u001b[0m\u001b[1;33m)\u001b[0m\u001b[1;33m:\u001b[0m\u001b[1;33m\u001b[0m\u001b[1;33m\u001b[0m\u001b[0m\n\u001b[1;32m-> 1068\u001b[1;33m             raise PicklingError(\n\u001b[0m\u001b[0;32m   1069\u001b[0m                 \u001b[1;34m\"Can't pickle %r: it's not found as %s.%s\"\u001b[0m \u001b[1;33m%\u001b[0m\u001b[1;33m\u001b[0m\u001b[1;33m\u001b[0m\u001b[0m\n\u001b[0;32m   1070\u001b[0m                 (obj, module_name, name)) from None\n",
      "\u001b[1;31mPicklingError\u001b[0m: Can't pickle <function LSSVMRegression.__set_kernel.<locals>.rbf at 0x000001F3EE592E50>: it's not found as LSSVMRegression.LSSVMRegression.__set_kernel.<locals>.rbf"
     ]
    }
   ],
   "source": [
    "import joblib as joblib\n",
    "from joblib import dump\n",
    "filename = \"test.joblib\"\n",
    "joblib.dump(clfrbf, filename)"
   ]
  },
  {
   "cell_type": "code",
   "execution_count": null,
   "id": "brown-clark",
   "metadata": {},
   "outputs": [],
   "source": []
  },
  {
   "cell_type": "code",
   "execution_count": 56,
   "id": "falling-nevada",
   "metadata": {},
   "outputs": [],
   "source": [
    "import dill\n",
    "\n",
    "with open(\"test\", \"wb\") as dill_file:\n",
    "    dill.dump(clfrbf, dill_file)"
   ]
  },
  {
   "cell_type": "code",
   "execution_count": null,
   "id": "inappropriate-benjamin",
   "metadata": {},
   "outputs": [],
   "source": []
  },
  {
   "cell_type": "code",
   "execution_count": 62,
   "id": "hungarian-wheat",
   "metadata": {},
   "outputs": [],
   "source": [
    "this_save = dill.dumps(clfrbf) "
   ]
  },
  {
   "cell_type": "code",
   "execution_count": null,
   "id": "original-barrier",
   "metadata": {},
   "outputs": [],
   "source": []
  },
  {
   "cell_type": "code",
   "execution_count": 70,
   "id": "stunning-thread",
   "metadata": {},
   "outputs": [],
   "source": [
    "this_load = pd.read_pickle(r'test.model')"
   ]
  },
  {
   "cell_type": "code",
   "execution_count": 71,
   "id": "designing-strand",
   "metadata": {},
   "outputs": [
    {
     "ename": "AttributeError",
     "evalue": "'bytes' object has no attribute 'predict'",
     "output_type": "error",
     "traceback": [
      "\u001b[1;31m---------------------------------------------------------------------------\u001b[0m",
      "\u001b[1;31mAttributeError\u001b[0m                            Traceback (most recent call last)",
      "\u001b[1;32m<ipython-input-71-2a4e7099a652>\u001b[0m in \u001b[0;36m<module>\u001b[1;34m\u001b[0m\n\u001b[1;32m----> 1\u001b[1;33m \u001b[0my_hat\u001b[0m \u001b[1;33m=\u001b[0m \u001b[0mthis_load\u001b[0m\u001b[1;33m.\u001b[0m\u001b[0mpredict\u001b[0m\u001b[1;33m(\u001b[0m\u001b[0mX_test\u001b[0m\u001b[1;33m)\u001b[0m\u001b[1;33m\u001b[0m\u001b[1;33m\u001b[0m\u001b[0m\n\u001b[0m",
      "\u001b[1;31mAttributeError\u001b[0m: 'bytes' object has no attribute 'predict'"
     ]
    }
   ],
   "source": [
    "y_hat = this_load.predict(X_test)"
   ]
  },
  {
   "cell_type": "code",
   "execution_count": null,
   "id": "tropical-remove",
   "metadata": {},
   "outputs": [],
   "source": []
  },
  {
   "cell_type": "code",
   "execution_count": 63,
   "id": "protective-cancer",
   "metadata": {},
   "outputs": [],
   "source": [
    "with open(\"test.model\", \"wb\") as dill_file:\n",
    "    dill.dump(this_save, dill_file)"
   ]
  },
  {
   "cell_type": "code",
   "execution_count": 68,
   "id": "quality-halloween",
   "metadata": {},
   "outputs": [
    {
     "ename": "TypeError",
     "evalue": "file must have 'read' and 'readline' attributes",
     "output_type": "error",
     "traceback": [
      "\u001b[1;31m---------------------------------------------------------------------------\u001b[0m",
      "\u001b[1;31mTypeError\u001b[0m                                 Traceback (most recent call last)",
      "\u001b[1;32m<ipython-input-68-b3971d0c5b68>\u001b[0m in \u001b[0;36m<module>\u001b[1;34m\u001b[0m\n\u001b[1;32m----> 1\u001b[1;33m \u001b[0mthis_open\u001b[0m \u001b[1;33m=\u001b[0m \u001b[0mdill\u001b[0m\u001b[1;33m.\u001b[0m\u001b[0mload\u001b[0m\u001b[1;33m(\u001b[0m\u001b[1;34m\"test.model\"\u001b[0m\u001b[1;33m)\u001b[0m\u001b[1;33m\u001b[0m\u001b[1;33m\u001b[0m\u001b[0m\n\u001b[0m",
      "\u001b[1;32m~\\AppData\\Roaming\\Python\\Python38\\site-packages\\dill\\_dill.py\u001b[0m in \u001b[0;36mload\u001b[1;34m(file, ignore, **kwds)\u001b[0m\n\u001b[0;32m    276\u001b[0m \u001b[1;32mdef\u001b[0m \u001b[0mload\u001b[0m\u001b[1;33m(\u001b[0m\u001b[0mfile\u001b[0m\u001b[1;33m,\u001b[0m \u001b[0mignore\u001b[0m\u001b[1;33m=\u001b[0m\u001b[1;32mNone\u001b[0m\u001b[1;33m,\u001b[0m \u001b[1;33m**\u001b[0m\u001b[0mkwds\u001b[0m\u001b[1;33m)\u001b[0m\u001b[1;33m:\u001b[0m\u001b[1;33m\u001b[0m\u001b[1;33m\u001b[0m\u001b[0m\n\u001b[0;32m    277\u001b[0m     \u001b[1;34m\"\"\"unpickle an object from a file\"\"\"\u001b[0m\u001b[1;33m\u001b[0m\u001b[1;33m\u001b[0m\u001b[0m\n\u001b[1;32m--> 278\u001b[1;33m     \u001b[1;32mreturn\u001b[0m \u001b[0mUnpickler\u001b[0m\u001b[1;33m(\u001b[0m\u001b[0mfile\u001b[0m\u001b[1;33m,\u001b[0m \u001b[0mignore\u001b[0m\u001b[1;33m=\u001b[0m\u001b[0mignore\u001b[0m\u001b[1;33m,\u001b[0m \u001b[1;33m**\u001b[0m\u001b[0mkwds\u001b[0m\u001b[1;33m)\u001b[0m\u001b[1;33m.\u001b[0m\u001b[0mload\u001b[0m\u001b[1;33m(\u001b[0m\u001b[1;33m)\u001b[0m\u001b[1;33m\u001b[0m\u001b[1;33m\u001b[0m\u001b[0m\n\u001b[0m\u001b[0;32m    279\u001b[0m \u001b[1;33m\u001b[0m\u001b[0m\n\u001b[0;32m    280\u001b[0m \u001b[1;32mdef\u001b[0m \u001b[0mloads\u001b[0m\u001b[1;33m(\u001b[0m\u001b[0mstr\u001b[0m\u001b[1;33m,\u001b[0m \u001b[0mignore\u001b[0m\u001b[1;33m=\u001b[0m\u001b[1;32mNone\u001b[0m\u001b[1;33m,\u001b[0m \u001b[1;33m**\u001b[0m\u001b[0mkwds\u001b[0m\u001b[1;33m)\u001b[0m\u001b[1;33m:\u001b[0m\u001b[1;33m\u001b[0m\u001b[1;33m\u001b[0m\u001b[0m\n",
      "\u001b[1;32m~\\AppData\\Roaming\\Python\\Python38\\site-packages\\dill\\_dill.py\u001b[0m in \u001b[0;36m__init__\u001b[1;34m(self, *args, **kwds)\u001b[0m\n\u001b[0;32m    474\u001b[0m         \u001b[0msettings\u001b[0m \u001b[1;33m=\u001b[0m \u001b[0mPickler\u001b[0m\u001b[1;33m.\u001b[0m\u001b[0msettings\u001b[0m\u001b[1;33m\u001b[0m\u001b[1;33m\u001b[0m\u001b[0m\n\u001b[0;32m    475\u001b[0m         \u001b[0m_ignore\u001b[0m \u001b[1;33m=\u001b[0m \u001b[0mkwds\u001b[0m\u001b[1;33m.\u001b[0m\u001b[0mpop\u001b[0m\u001b[1;33m(\u001b[0m\u001b[1;34m'ignore'\u001b[0m\u001b[1;33m,\u001b[0m \u001b[1;32mNone\u001b[0m\u001b[1;33m)\u001b[0m\u001b[1;33m\u001b[0m\u001b[1;33m\u001b[0m\u001b[0m\n\u001b[1;32m--> 476\u001b[1;33m         \u001b[0mStockUnpickler\u001b[0m\u001b[1;33m.\u001b[0m\u001b[0m__init__\u001b[0m\u001b[1;33m(\u001b[0m\u001b[0mself\u001b[0m\u001b[1;33m,\u001b[0m \u001b[1;33m*\u001b[0m\u001b[0margs\u001b[0m\u001b[1;33m,\u001b[0m \u001b[1;33m**\u001b[0m\u001b[0mkwds\u001b[0m\u001b[1;33m)\u001b[0m\u001b[1;33m\u001b[0m\u001b[1;33m\u001b[0m\u001b[0m\n\u001b[0m\u001b[0;32m    477\u001b[0m         \u001b[0mself\u001b[0m\u001b[1;33m.\u001b[0m\u001b[0m_main\u001b[0m \u001b[1;33m=\u001b[0m \u001b[0m_main_module\u001b[0m\u001b[1;33m\u001b[0m\u001b[1;33m\u001b[0m\u001b[0m\n\u001b[0;32m    478\u001b[0m         \u001b[0mself\u001b[0m\u001b[1;33m.\u001b[0m\u001b[0m_ignore\u001b[0m \u001b[1;33m=\u001b[0m \u001b[0msettings\u001b[0m\u001b[1;33m[\u001b[0m\u001b[1;34m'ignore'\u001b[0m\u001b[1;33m]\u001b[0m \u001b[1;32mif\u001b[0m \u001b[0m_ignore\u001b[0m \u001b[1;32mis\u001b[0m \u001b[1;32mNone\u001b[0m \u001b[1;32melse\u001b[0m \u001b[0m_ignore\u001b[0m\u001b[1;33m\u001b[0m\u001b[1;33m\u001b[0m\u001b[0m\n",
      "\u001b[1;31mTypeError\u001b[0m: file must have 'read' and 'readline' attributes"
     ]
    }
   ],
   "source": [
    "this_open = dill.load(\"test.model\") "
   ]
  },
  {
   "cell_type": "code",
   "execution_count": 66,
   "id": "substantial-reduction",
   "metadata": {},
   "outputs": [
    {
     "ename": "TypeError",
     "evalue": "a bytes-like object is required, not 'str'",
     "output_type": "error",
     "traceback": [
      "\u001b[1;31m---------------------------------------------------------------------------\u001b[0m",
      "\u001b[1;31mTypeError\u001b[0m                                 Traceback (most recent call last)",
      "\u001b[1;32m<ipython-input-66-bb2048f1fe2a>\u001b[0m in \u001b[0;36m<module>\u001b[1;34m\u001b[0m\n\u001b[0;32m      1\u001b[0m \u001b[1;32mwith\u001b[0m \u001b[0mopen\u001b[0m\u001b[1;33m(\u001b[0m\u001b[1;34m\"test.model\"\u001b[0m\u001b[1;33m,\u001b[0m \u001b[1;34m\"rb\"\u001b[0m\u001b[1;33m)\u001b[0m \u001b[1;32mas\u001b[0m \u001b[0mdill_file\u001b[0m\u001b[1;33m:\u001b[0m\u001b[1;33m\u001b[0m\u001b[1;33m\u001b[0m\u001b[0m\n\u001b[1;32m----> 2\u001b[1;33m     \u001b[0mtest_clf\u001b[0m \u001b[1;33m=\u001b[0m \u001b[0mdill\u001b[0m\u001b[1;33m.\u001b[0m\u001b[0mloads\u001b[0m\u001b[1;33m(\u001b[0m\u001b[1;34m'test.model'\u001b[0m\u001b[1;33m)\u001b[0m\u001b[1;33m\u001b[0m\u001b[1;33m\u001b[0m\u001b[0m\n\u001b[0m",
      "\u001b[1;32m~\\AppData\\Roaming\\Python\\Python38\\site-packages\\dill\\_dill.py\u001b[0m in \u001b[0;36mloads\u001b[1;34m(str, ignore, **kwds)\u001b[0m\n\u001b[0;32m    280\u001b[0m \u001b[1;32mdef\u001b[0m \u001b[0mloads\u001b[0m\u001b[1;33m(\u001b[0m\u001b[0mstr\u001b[0m\u001b[1;33m,\u001b[0m \u001b[0mignore\u001b[0m\u001b[1;33m=\u001b[0m\u001b[1;32mNone\u001b[0m\u001b[1;33m,\u001b[0m \u001b[1;33m**\u001b[0m\u001b[0mkwds\u001b[0m\u001b[1;33m)\u001b[0m\u001b[1;33m:\u001b[0m\u001b[1;33m\u001b[0m\u001b[1;33m\u001b[0m\u001b[0m\n\u001b[0;32m    281\u001b[0m     \u001b[1;34m\"\"\"unpickle an object from a string\"\"\"\u001b[0m\u001b[1;33m\u001b[0m\u001b[1;33m\u001b[0m\u001b[0m\n\u001b[1;32m--> 282\u001b[1;33m     \u001b[0mfile\u001b[0m \u001b[1;33m=\u001b[0m \u001b[0mStringIO\u001b[0m\u001b[1;33m(\u001b[0m\u001b[0mstr\u001b[0m\u001b[1;33m)\u001b[0m\u001b[1;33m\u001b[0m\u001b[1;33m\u001b[0m\u001b[0m\n\u001b[0m\u001b[0;32m    283\u001b[0m     \u001b[1;32mreturn\u001b[0m \u001b[0mload\u001b[0m\u001b[1;33m(\u001b[0m\u001b[0mfile\u001b[0m\u001b[1;33m,\u001b[0m \u001b[0mignore\u001b[0m\u001b[1;33m,\u001b[0m \u001b[1;33m**\u001b[0m\u001b[0mkwds\u001b[0m\u001b[1;33m)\u001b[0m\u001b[1;33m\u001b[0m\u001b[1;33m\u001b[0m\u001b[0m\n\u001b[0;32m    284\u001b[0m \u001b[1;33m\u001b[0m\u001b[0m\n",
      "\u001b[1;31mTypeError\u001b[0m: a bytes-like object is required, not 'str'"
     ]
    }
   ],
   "source": [
    "#with open(\"test.model\", \"rb\") as dill_file:\n",
    "    test_clf = dill.load(this_open)"
   ]
  },
  {
   "cell_type": "code",
   "execution_count": null,
   "id": "addressed-impossible",
   "metadata": {},
   "outputs": [],
   "source": []
  },
  {
   "cell_type": "code",
   "execution_count": null,
   "id": "encouraging-rating",
   "metadata": {},
   "outputs": [],
   "source": []
  },
  {
   "cell_type": "code",
   "execution_count": null,
   "id": "indonesian-accreditation",
   "metadata": {},
   "outputs": [],
   "source": []
  },
  {
   "cell_type": "code",
   "execution_count": 26,
   "id": "interested-african",
   "metadata": {},
   "outputs": [
    {
     "ename": "NameError",
     "evalue": "name 'y_hat' is not defined",
     "output_type": "error",
     "traceback": [
      "\u001b[1;31m---------------------------------------------------------------------------\u001b[0m",
      "\u001b[1;31mNameError\u001b[0m                                 Traceback (most recent call last)",
      "\u001b[1;32m<ipython-input-26-5ab07247eef7>\u001b[0m in \u001b[0;36m<module>\u001b[1;34m\u001b[0m\n\u001b[1;32m----> 1\u001b[1;33m \u001b[0my_hat\u001b[0m\u001b[1;33m\u001b[0m\u001b[1;33m\u001b[0m\u001b[0m\n\u001b[0m",
      "\u001b[1;31mNameError\u001b[0m: name 'y_hat' is not defined"
     ]
    }
   ],
   "source": [
    "y_hat"
   ]
  },
  {
   "cell_type": "code",
   "execution_count": 41,
   "id": "authentic-science",
   "metadata": {},
   "outputs": [
    {
     "data": {
      "application/javascript": [
       "/* Put everything inside the global mpl namespace */\n",
       "/* global mpl */\n",
       "window.mpl = {};\n",
       "\n",
       "mpl.get_websocket_type = function () {\n",
       "    if (typeof WebSocket !== 'undefined') {\n",
       "        return WebSocket;\n",
       "    } else if (typeof MozWebSocket !== 'undefined') {\n",
       "        return MozWebSocket;\n",
       "    } else {\n",
       "        alert(\n",
       "            'Your browser does not have WebSocket support. ' +\n",
       "                'Please try Chrome, Safari or Firefox ≥ 6. ' +\n",
       "                'Firefox 4 and 5 are also supported but you ' +\n",
       "                'have to enable WebSockets in about:config.'\n",
       "        );\n",
       "    }\n",
       "};\n",
       "\n",
       "mpl.figure = function (figure_id, websocket, ondownload, parent_element) {\n",
       "    this.id = figure_id;\n",
       "\n",
       "    this.ws = websocket;\n",
       "\n",
       "    this.supports_binary = this.ws.binaryType !== undefined;\n",
       "\n",
       "    if (!this.supports_binary) {\n",
       "        var warnings = document.getElementById('mpl-warnings');\n",
       "        if (warnings) {\n",
       "            warnings.style.display = 'block';\n",
       "            warnings.textContent =\n",
       "                'This browser does not support binary websocket messages. ' +\n",
       "                'Performance may be slow.';\n",
       "        }\n",
       "    }\n",
       "\n",
       "    this.imageObj = new Image();\n",
       "\n",
       "    this.context = undefined;\n",
       "    this.message = undefined;\n",
       "    this.canvas = undefined;\n",
       "    this.rubberband_canvas = undefined;\n",
       "    this.rubberband_context = undefined;\n",
       "    this.format_dropdown = undefined;\n",
       "\n",
       "    this.image_mode = 'full';\n",
       "\n",
       "    this.root = document.createElement('div');\n",
       "    this.root.setAttribute('style', 'display: inline-block');\n",
       "    this._root_extra_style(this.root);\n",
       "\n",
       "    parent_element.appendChild(this.root);\n",
       "\n",
       "    this._init_header(this);\n",
       "    this._init_canvas(this);\n",
       "    this._init_toolbar(this);\n",
       "\n",
       "    var fig = this;\n",
       "\n",
       "    this.waiting = false;\n",
       "\n",
       "    this.ws.onopen = function () {\n",
       "        fig.send_message('supports_binary', { value: fig.supports_binary });\n",
       "        fig.send_message('send_image_mode', {});\n",
       "        if (mpl.ratio !== 1) {\n",
       "            fig.send_message('set_dpi_ratio', { dpi_ratio: mpl.ratio });\n",
       "        }\n",
       "        fig.send_message('refresh', {});\n",
       "    };\n",
       "\n",
       "    this.imageObj.onload = function () {\n",
       "        if (fig.image_mode === 'full') {\n",
       "            // Full images could contain transparency (where diff images\n",
       "            // almost always do), so we need to clear the canvas so that\n",
       "            // there is no ghosting.\n",
       "            fig.context.clearRect(0, 0, fig.canvas.width, fig.canvas.height);\n",
       "        }\n",
       "        fig.context.drawImage(fig.imageObj, 0, 0);\n",
       "    };\n",
       "\n",
       "    this.imageObj.onunload = function () {\n",
       "        fig.ws.close();\n",
       "    };\n",
       "\n",
       "    this.ws.onmessage = this._make_on_message_function(this);\n",
       "\n",
       "    this.ondownload = ondownload;\n",
       "};\n",
       "\n",
       "mpl.figure.prototype._init_header = function () {\n",
       "    var titlebar = document.createElement('div');\n",
       "    titlebar.classList =\n",
       "        'ui-dialog-titlebar ui-widget-header ui-corner-all ui-helper-clearfix';\n",
       "    var titletext = document.createElement('div');\n",
       "    titletext.classList = 'ui-dialog-title';\n",
       "    titletext.setAttribute(\n",
       "        'style',\n",
       "        'width: 100%; text-align: center; padding: 3px;'\n",
       "    );\n",
       "    titlebar.appendChild(titletext);\n",
       "    this.root.appendChild(titlebar);\n",
       "    this.header = titletext;\n",
       "};\n",
       "\n",
       "mpl.figure.prototype._canvas_extra_style = function (_canvas_div) {};\n",
       "\n",
       "mpl.figure.prototype._root_extra_style = function (_canvas_div) {};\n",
       "\n",
       "mpl.figure.prototype._init_canvas = function () {\n",
       "    var fig = this;\n",
       "\n",
       "    var canvas_div = (this.canvas_div = document.createElement('div'));\n",
       "    canvas_div.setAttribute(\n",
       "        'style',\n",
       "        'border: 1px solid #ddd;' +\n",
       "            'box-sizing: content-box;' +\n",
       "            'clear: both;' +\n",
       "            'min-height: 1px;' +\n",
       "            'min-width: 1px;' +\n",
       "            'outline: 0;' +\n",
       "            'overflow: hidden;' +\n",
       "            'position: relative;' +\n",
       "            'resize: both;'\n",
       "    );\n",
       "\n",
       "    function on_keyboard_event_closure(name) {\n",
       "        return function (event) {\n",
       "            return fig.key_event(event, name);\n",
       "        };\n",
       "    }\n",
       "\n",
       "    canvas_div.addEventListener(\n",
       "        'keydown',\n",
       "        on_keyboard_event_closure('key_press')\n",
       "    );\n",
       "    canvas_div.addEventListener(\n",
       "        'keyup',\n",
       "        on_keyboard_event_closure('key_release')\n",
       "    );\n",
       "\n",
       "    this._canvas_extra_style(canvas_div);\n",
       "    this.root.appendChild(canvas_div);\n",
       "\n",
       "    var canvas = (this.canvas = document.createElement('canvas'));\n",
       "    canvas.classList.add('mpl-canvas');\n",
       "    canvas.setAttribute('style', 'box-sizing: content-box;');\n",
       "\n",
       "    this.context = canvas.getContext('2d');\n",
       "\n",
       "    var backingStore =\n",
       "        this.context.backingStorePixelRatio ||\n",
       "        this.context.webkitBackingStorePixelRatio ||\n",
       "        this.context.mozBackingStorePixelRatio ||\n",
       "        this.context.msBackingStorePixelRatio ||\n",
       "        this.context.oBackingStorePixelRatio ||\n",
       "        this.context.backingStorePixelRatio ||\n",
       "        1;\n",
       "\n",
       "    mpl.ratio = (window.devicePixelRatio || 1) / backingStore;\n",
       "\n",
       "    var rubberband_canvas = (this.rubberband_canvas = document.createElement(\n",
       "        'canvas'\n",
       "    ));\n",
       "    rubberband_canvas.setAttribute(\n",
       "        'style',\n",
       "        'box-sizing: content-box; position: absolute; left: 0; top: 0; z-index: 1;'\n",
       "    );\n",
       "\n",
       "    var resizeObserver = new ResizeObserver(function (entries) {\n",
       "        var nentries = entries.length;\n",
       "        for (var i = 0; i < nentries; i++) {\n",
       "            var entry = entries[i];\n",
       "            var width, height;\n",
       "            if (entry.contentBoxSize) {\n",
       "                if (entry.contentBoxSize instanceof Array) {\n",
       "                    // Chrome 84 implements new version of spec.\n",
       "                    width = entry.contentBoxSize[0].inlineSize;\n",
       "                    height = entry.contentBoxSize[0].blockSize;\n",
       "                } else {\n",
       "                    // Firefox implements old version of spec.\n",
       "                    width = entry.contentBoxSize.inlineSize;\n",
       "                    height = entry.contentBoxSize.blockSize;\n",
       "                }\n",
       "            } else {\n",
       "                // Chrome <84 implements even older version of spec.\n",
       "                width = entry.contentRect.width;\n",
       "                height = entry.contentRect.height;\n",
       "            }\n",
       "\n",
       "            // Keep the size of the canvas and rubber band canvas in sync with\n",
       "            // the canvas container.\n",
       "            if (entry.devicePixelContentBoxSize) {\n",
       "                // Chrome 84 implements new version of spec.\n",
       "                canvas.setAttribute(\n",
       "                    'width',\n",
       "                    entry.devicePixelContentBoxSize[0].inlineSize\n",
       "                );\n",
       "                canvas.setAttribute(\n",
       "                    'height',\n",
       "                    entry.devicePixelContentBoxSize[0].blockSize\n",
       "                );\n",
       "            } else {\n",
       "                canvas.setAttribute('width', width * mpl.ratio);\n",
       "                canvas.setAttribute('height', height * mpl.ratio);\n",
       "            }\n",
       "            canvas.setAttribute(\n",
       "                'style',\n",
       "                'width: ' + width + 'px; height: ' + height + 'px;'\n",
       "            );\n",
       "\n",
       "            rubberband_canvas.setAttribute('width', width);\n",
       "            rubberband_canvas.setAttribute('height', height);\n",
       "\n",
       "            // And update the size in Python. We ignore the initial 0/0 size\n",
       "            // that occurs as the element is placed into the DOM, which should\n",
       "            // otherwise not happen due to the minimum size styling.\n",
       "            if (width != 0 && height != 0) {\n",
       "                fig.request_resize(width, height);\n",
       "            }\n",
       "        }\n",
       "    });\n",
       "    resizeObserver.observe(canvas_div);\n",
       "\n",
       "    function on_mouse_event_closure(name) {\n",
       "        return function (event) {\n",
       "            return fig.mouse_event(event, name);\n",
       "        };\n",
       "    }\n",
       "\n",
       "    rubberband_canvas.addEventListener(\n",
       "        'mousedown',\n",
       "        on_mouse_event_closure('button_press')\n",
       "    );\n",
       "    rubberband_canvas.addEventListener(\n",
       "        'mouseup',\n",
       "        on_mouse_event_closure('button_release')\n",
       "    );\n",
       "    // Throttle sequential mouse events to 1 every 20ms.\n",
       "    rubberband_canvas.addEventListener(\n",
       "        'mousemove',\n",
       "        on_mouse_event_closure('motion_notify')\n",
       "    );\n",
       "\n",
       "    rubberband_canvas.addEventListener(\n",
       "        'mouseenter',\n",
       "        on_mouse_event_closure('figure_enter')\n",
       "    );\n",
       "    rubberband_canvas.addEventListener(\n",
       "        'mouseleave',\n",
       "        on_mouse_event_closure('figure_leave')\n",
       "    );\n",
       "\n",
       "    canvas_div.addEventListener('wheel', function (event) {\n",
       "        if (event.deltaY < 0) {\n",
       "            event.step = 1;\n",
       "        } else {\n",
       "            event.step = -1;\n",
       "        }\n",
       "        on_mouse_event_closure('scroll')(event);\n",
       "    });\n",
       "\n",
       "    canvas_div.appendChild(canvas);\n",
       "    canvas_div.appendChild(rubberband_canvas);\n",
       "\n",
       "    this.rubberband_context = rubberband_canvas.getContext('2d');\n",
       "    this.rubberband_context.strokeStyle = '#000000';\n",
       "\n",
       "    this._resize_canvas = function (width, height, forward) {\n",
       "        if (forward) {\n",
       "            canvas_div.style.width = width + 'px';\n",
       "            canvas_div.style.height = height + 'px';\n",
       "        }\n",
       "    };\n",
       "\n",
       "    // Disable right mouse context menu.\n",
       "    this.rubberband_canvas.addEventListener('contextmenu', function (_e) {\n",
       "        event.preventDefault();\n",
       "        return false;\n",
       "    });\n",
       "\n",
       "    function set_focus() {\n",
       "        canvas.focus();\n",
       "        canvas_div.focus();\n",
       "    }\n",
       "\n",
       "    window.setTimeout(set_focus, 100);\n",
       "};\n",
       "\n",
       "mpl.figure.prototype._init_toolbar = function () {\n",
       "    var fig = this;\n",
       "\n",
       "    var toolbar = document.createElement('div');\n",
       "    toolbar.classList = 'mpl-toolbar';\n",
       "    this.root.appendChild(toolbar);\n",
       "\n",
       "    function on_click_closure(name) {\n",
       "        return function (_event) {\n",
       "            return fig.toolbar_button_onclick(name);\n",
       "        };\n",
       "    }\n",
       "\n",
       "    function on_mouseover_closure(tooltip) {\n",
       "        return function (event) {\n",
       "            if (!event.currentTarget.disabled) {\n",
       "                return fig.toolbar_button_onmouseover(tooltip);\n",
       "            }\n",
       "        };\n",
       "    }\n",
       "\n",
       "    fig.buttons = {};\n",
       "    var buttonGroup = document.createElement('div');\n",
       "    buttonGroup.classList = 'mpl-button-group';\n",
       "    for (var toolbar_ind in mpl.toolbar_items) {\n",
       "        var name = mpl.toolbar_items[toolbar_ind][0];\n",
       "        var tooltip = mpl.toolbar_items[toolbar_ind][1];\n",
       "        var image = mpl.toolbar_items[toolbar_ind][2];\n",
       "        var method_name = mpl.toolbar_items[toolbar_ind][3];\n",
       "\n",
       "        if (!name) {\n",
       "            /* Instead of a spacer, we start a new button group. */\n",
       "            if (buttonGroup.hasChildNodes()) {\n",
       "                toolbar.appendChild(buttonGroup);\n",
       "            }\n",
       "            buttonGroup = document.createElement('div');\n",
       "            buttonGroup.classList = 'mpl-button-group';\n",
       "            continue;\n",
       "        }\n",
       "\n",
       "        var button = (fig.buttons[name] = document.createElement('button'));\n",
       "        button.classList = 'mpl-widget';\n",
       "        button.setAttribute('role', 'button');\n",
       "        button.setAttribute('aria-disabled', 'false');\n",
       "        button.addEventListener('click', on_click_closure(method_name));\n",
       "        button.addEventListener('mouseover', on_mouseover_closure(tooltip));\n",
       "\n",
       "        var icon_img = document.createElement('img');\n",
       "        icon_img.src = '_images/' + image + '.png';\n",
       "        icon_img.srcset = '_images/' + image + '_large.png 2x';\n",
       "        icon_img.alt = tooltip;\n",
       "        button.appendChild(icon_img);\n",
       "\n",
       "        buttonGroup.appendChild(button);\n",
       "    }\n",
       "\n",
       "    if (buttonGroup.hasChildNodes()) {\n",
       "        toolbar.appendChild(buttonGroup);\n",
       "    }\n",
       "\n",
       "    var fmt_picker = document.createElement('select');\n",
       "    fmt_picker.classList = 'mpl-widget';\n",
       "    toolbar.appendChild(fmt_picker);\n",
       "    this.format_dropdown = fmt_picker;\n",
       "\n",
       "    for (var ind in mpl.extensions) {\n",
       "        var fmt = mpl.extensions[ind];\n",
       "        var option = document.createElement('option');\n",
       "        option.selected = fmt === mpl.default_extension;\n",
       "        option.innerHTML = fmt;\n",
       "        fmt_picker.appendChild(option);\n",
       "    }\n",
       "\n",
       "    var status_bar = document.createElement('span');\n",
       "    status_bar.classList = 'mpl-message';\n",
       "    toolbar.appendChild(status_bar);\n",
       "    this.message = status_bar;\n",
       "};\n",
       "\n",
       "mpl.figure.prototype.request_resize = function (x_pixels, y_pixels) {\n",
       "    // Request matplotlib to resize the figure. Matplotlib will then trigger a resize in the client,\n",
       "    // which will in turn request a refresh of the image.\n",
       "    this.send_message('resize', { width: x_pixels, height: y_pixels });\n",
       "};\n",
       "\n",
       "mpl.figure.prototype.send_message = function (type, properties) {\n",
       "    properties['type'] = type;\n",
       "    properties['figure_id'] = this.id;\n",
       "    this.ws.send(JSON.stringify(properties));\n",
       "};\n",
       "\n",
       "mpl.figure.prototype.send_draw_message = function () {\n",
       "    if (!this.waiting) {\n",
       "        this.waiting = true;\n",
       "        this.ws.send(JSON.stringify({ type: 'draw', figure_id: this.id }));\n",
       "    }\n",
       "};\n",
       "\n",
       "mpl.figure.prototype.handle_save = function (fig, _msg) {\n",
       "    var format_dropdown = fig.format_dropdown;\n",
       "    var format = format_dropdown.options[format_dropdown.selectedIndex].value;\n",
       "    fig.ondownload(fig, format);\n",
       "};\n",
       "\n",
       "mpl.figure.prototype.handle_resize = function (fig, msg) {\n",
       "    var size = msg['size'];\n",
       "    if (size[0] !== fig.canvas.width || size[1] !== fig.canvas.height) {\n",
       "        fig._resize_canvas(size[0], size[1], msg['forward']);\n",
       "        fig.send_message('refresh', {});\n",
       "    }\n",
       "};\n",
       "\n",
       "mpl.figure.prototype.handle_rubberband = function (fig, msg) {\n",
       "    var x0 = msg['x0'] / mpl.ratio;\n",
       "    var y0 = (fig.canvas.height - msg['y0']) / mpl.ratio;\n",
       "    var x1 = msg['x1'] / mpl.ratio;\n",
       "    var y1 = (fig.canvas.height - msg['y1']) / mpl.ratio;\n",
       "    x0 = Math.floor(x0) + 0.5;\n",
       "    y0 = Math.floor(y0) + 0.5;\n",
       "    x1 = Math.floor(x1) + 0.5;\n",
       "    y1 = Math.floor(y1) + 0.5;\n",
       "    var min_x = Math.min(x0, x1);\n",
       "    var min_y = Math.min(y0, y1);\n",
       "    var width = Math.abs(x1 - x0);\n",
       "    var height = Math.abs(y1 - y0);\n",
       "\n",
       "    fig.rubberband_context.clearRect(\n",
       "        0,\n",
       "        0,\n",
       "        fig.canvas.width / mpl.ratio,\n",
       "        fig.canvas.height / mpl.ratio\n",
       "    );\n",
       "\n",
       "    fig.rubberband_context.strokeRect(min_x, min_y, width, height);\n",
       "};\n",
       "\n",
       "mpl.figure.prototype.handle_figure_label = function (fig, msg) {\n",
       "    // Updates the figure title.\n",
       "    fig.header.textContent = msg['label'];\n",
       "};\n",
       "\n",
       "mpl.figure.prototype.handle_cursor = function (fig, msg) {\n",
       "    var cursor = msg['cursor'];\n",
       "    switch (cursor) {\n",
       "        case 0:\n",
       "            cursor = 'pointer';\n",
       "            break;\n",
       "        case 1:\n",
       "            cursor = 'default';\n",
       "            break;\n",
       "        case 2:\n",
       "            cursor = 'crosshair';\n",
       "            break;\n",
       "        case 3:\n",
       "            cursor = 'move';\n",
       "            break;\n",
       "    }\n",
       "    fig.rubberband_canvas.style.cursor = cursor;\n",
       "};\n",
       "\n",
       "mpl.figure.prototype.handle_message = function (fig, msg) {\n",
       "    fig.message.textContent = msg['message'];\n",
       "};\n",
       "\n",
       "mpl.figure.prototype.handle_draw = function (fig, _msg) {\n",
       "    // Request the server to send over a new figure.\n",
       "    fig.send_draw_message();\n",
       "};\n",
       "\n",
       "mpl.figure.prototype.handle_image_mode = function (fig, msg) {\n",
       "    fig.image_mode = msg['mode'];\n",
       "};\n",
       "\n",
       "mpl.figure.prototype.handle_history_buttons = function (fig, msg) {\n",
       "    for (var key in msg) {\n",
       "        if (!(key in fig.buttons)) {\n",
       "            continue;\n",
       "        }\n",
       "        fig.buttons[key].disabled = !msg[key];\n",
       "        fig.buttons[key].setAttribute('aria-disabled', !msg[key]);\n",
       "    }\n",
       "};\n",
       "\n",
       "mpl.figure.prototype.handle_navigate_mode = function (fig, msg) {\n",
       "    if (msg['mode'] === 'PAN') {\n",
       "        fig.buttons['Pan'].classList.add('active');\n",
       "        fig.buttons['Zoom'].classList.remove('active');\n",
       "    } else if (msg['mode'] === 'ZOOM') {\n",
       "        fig.buttons['Pan'].classList.remove('active');\n",
       "        fig.buttons['Zoom'].classList.add('active');\n",
       "    } else {\n",
       "        fig.buttons['Pan'].classList.remove('active');\n",
       "        fig.buttons['Zoom'].classList.remove('active');\n",
       "    }\n",
       "};\n",
       "\n",
       "mpl.figure.prototype.updated_canvas_event = function () {\n",
       "    // Called whenever the canvas gets updated.\n",
       "    this.send_message('ack', {});\n",
       "};\n",
       "\n",
       "// A function to construct a web socket function for onmessage handling.\n",
       "// Called in the figure constructor.\n",
       "mpl.figure.prototype._make_on_message_function = function (fig) {\n",
       "    return function socket_on_message(evt) {\n",
       "        if (evt.data instanceof Blob) {\n",
       "            /* FIXME: We get \"Resource interpreted as Image but\n",
       "             * transferred with MIME type text/plain:\" errors on\n",
       "             * Chrome.  But how to set the MIME type?  It doesn't seem\n",
       "             * to be part of the websocket stream */\n",
       "            evt.data.type = 'image/png';\n",
       "\n",
       "            /* Free the memory for the previous frames */\n",
       "            if (fig.imageObj.src) {\n",
       "                (window.URL || window.webkitURL).revokeObjectURL(\n",
       "                    fig.imageObj.src\n",
       "                );\n",
       "            }\n",
       "\n",
       "            fig.imageObj.src = (window.URL || window.webkitURL).createObjectURL(\n",
       "                evt.data\n",
       "            );\n",
       "            fig.updated_canvas_event();\n",
       "            fig.waiting = false;\n",
       "            return;\n",
       "        } else if (\n",
       "            typeof evt.data === 'string' &&\n",
       "            evt.data.slice(0, 21) === 'data:image/png;base64'\n",
       "        ) {\n",
       "            fig.imageObj.src = evt.data;\n",
       "            fig.updated_canvas_event();\n",
       "            fig.waiting = false;\n",
       "            return;\n",
       "        }\n",
       "\n",
       "        var msg = JSON.parse(evt.data);\n",
       "        var msg_type = msg['type'];\n",
       "\n",
       "        // Call the  \"handle_{type}\" callback, which takes\n",
       "        // the figure and JSON message as its only arguments.\n",
       "        try {\n",
       "            var callback = fig['handle_' + msg_type];\n",
       "        } catch (e) {\n",
       "            console.log(\n",
       "                \"No handler for the '\" + msg_type + \"' message type: \",\n",
       "                msg\n",
       "            );\n",
       "            return;\n",
       "        }\n",
       "\n",
       "        if (callback) {\n",
       "            try {\n",
       "                // console.log(\"Handling '\" + msg_type + \"' message: \", msg);\n",
       "                callback(fig, msg);\n",
       "            } catch (e) {\n",
       "                console.log(\n",
       "                    \"Exception inside the 'handler_\" + msg_type + \"' callback:\",\n",
       "                    e,\n",
       "                    e.stack,\n",
       "                    msg\n",
       "                );\n",
       "            }\n",
       "        }\n",
       "    };\n",
       "};\n",
       "\n",
       "// from http://stackoverflow.com/questions/1114465/getting-mouse-location-in-canvas\n",
       "mpl.findpos = function (e) {\n",
       "    //this section is from http://www.quirksmode.org/js/events_properties.html\n",
       "    var targ;\n",
       "    if (!e) {\n",
       "        e = window.event;\n",
       "    }\n",
       "    if (e.target) {\n",
       "        targ = e.target;\n",
       "    } else if (e.srcElement) {\n",
       "        targ = e.srcElement;\n",
       "    }\n",
       "    if (targ.nodeType === 3) {\n",
       "        // defeat Safari bug\n",
       "        targ = targ.parentNode;\n",
       "    }\n",
       "\n",
       "    // pageX,Y are the mouse positions relative to the document\n",
       "    var boundingRect = targ.getBoundingClientRect();\n",
       "    var x = e.pageX - (boundingRect.left + document.body.scrollLeft);\n",
       "    var y = e.pageY - (boundingRect.top + document.body.scrollTop);\n",
       "\n",
       "    return { x: x, y: y };\n",
       "};\n",
       "\n",
       "/*\n",
       " * return a copy of an object with only non-object keys\n",
       " * we need this to avoid circular references\n",
       " * http://stackoverflow.com/a/24161582/3208463\n",
       " */\n",
       "function simpleKeys(original) {\n",
       "    return Object.keys(original).reduce(function (obj, key) {\n",
       "        if (typeof original[key] !== 'object') {\n",
       "            obj[key] = original[key];\n",
       "        }\n",
       "        return obj;\n",
       "    }, {});\n",
       "}\n",
       "\n",
       "mpl.figure.prototype.mouse_event = function (event, name) {\n",
       "    var canvas_pos = mpl.findpos(event);\n",
       "\n",
       "    if (name === 'button_press') {\n",
       "        this.canvas.focus();\n",
       "        this.canvas_div.focus();\n",
       "    }\n",
       "\n",
       "    var x = canvas_pos.x * mpl.ratio;\n",
       "    var y = canvas_pos.y * mpl.ratio;\n",
       "\n",
       "    this.send_message(name, {\n",
       "        x: x,\n",
       "        y: y,\n",
       "        button: event.button,\n",
       "        step: event.step,\n",
       "        guiEvent: simpleKeys(event),\n",
       "    });\n",
       "\n",
       "    /* This prevents the web browser from automatically changing to\n",
       "     * the text insertion cursor when the button is pressed.  We want\n",
       "     * to control all of the cursor setting manually through the\n",
       "     * 'cursor' event from matplotlib */\n",
       "    event.preventDefault();\n",
       "    return false;\n",
       "};\n",
       "\n",
       "mpl.figure.prototype._key_event_extra = function (_event, _name) {\n",
       "    // Handle any extra behaviour associated with a key event\n",
       "};\n",
       "\n",
       "mpl.figure.prototype.key_event = function (event, name) {\n",
       "    // Prevent repeat events\n",
       "    if (name === 'key_press') {\n",
       "        if (event.which === this._key) {\n",
       "            return;\n",
       "        } else {\n",
       "            this._key = event.which;\n",
       "        }\n",
       "    }\n",
       "    if (name === 'key_release') {\n",
       "        this._key = null;\n",
       "    }\n",
       "\n",
       "    var value = '';\n",
       "    if (event.ctrlKey && event.which !== 17) {\n",
       "        value += 'ctrl+';\n",
       "    }\n",
       "    if (event.altKey && event.which !== 18) {\n",
       "        value += 'alt+';\n",
       "    }\n",
       "    if (event.shiftKey && event.which !== 16) {\n",
       "        value += 'shift+';\n",
       "    }\n",
       "\n",
       "    value += 'k';\n",
       "    value += event.which.toString();\n",
       "\n",
       "    this._key_event_extra(event, name);\n",
       "\n",
       "    this.send_message(name, { key: value, guiEvent: simpleKeys(event) });\n",
       "    return false;\n",
       "};\n",
       "\n",
       "mpl.figure.prototype.toolbar_button_onclick = function (name) {\n",
       "    if (name === 'download') {\n",
       "        this.handle_save(this, null);\n",
       "    } else {\n",
       "        this.send_message('toolbar_button', { name: name });\n",
       "    }\n",
       "};\n",
       "\n",
       "mpl.figure.prototype.toolbar_button_onmouseover = function (tooltip) {\n",
       "    this.message.textContent = tooltip;\n",
       "};\n",
       "mpl.toolbar_items = [[\"Home\", \"Reset original view\", \"fa fa-home icon-home\", \"home\"], [\"Back\", \"Back to previous view\", \"fa fa-arrow-left icon-arrow-left\", \"back\"], [\"Forward\", \"Forward to next view\", \"fa fa-arrow-right icon-arrow-right\", \"forward\"], [\"\", \"\", \"\", \"\"], [\"Pan\", \"Left button pans, Right button zooms\\nx/y fixes axis, CTRL fixes aspect\", \"fa fa-arrows icon-move\", \"pan\"], [\"Zoom\", \"Zoom to rectangle\\nx/y fixes axis, CTRL fixes aspect\", \"fa fa-square-o icon-check-empty\", \"zoom\"], [\"\", \"\", \"\", \"\"], [\"Download\", \"Download plot\", \"fa fa-floppy-o icon-save\", \"download\"]];\n",
       "\n",
       "mpl.extensions = [\"eps\", \"jpeg\", \"pdf\", \"png\", \"ps\", \"raw\", \"svg\", \"tif\"];\n",
       "\n",
       "mpl.default_extension = \"png\";/* global mpl */\n",
       "\n",
       "var comm_websocket_adapter = function (comm) {\n",
       "    // Create a \"websocket\"-like object which calls the given IPython comm\n",
       "    // object with the appropriate methods. Currently this is a non binary\n",
       "    // socket, so there is still some room for performance tuning.\n",
       "    var ws = {};\n",
       "\n",
       "    ws.close = function () {\n",
       "        comm.close();\n",
       "    };\n",
       "    ws.send = function (m) {\n",
       "        //console.log('sending', m);\n",
       "        comm.send(m);\n",
       "    };\n",
       "    // Register the callback with on_msg.\n",
       "    comm.on_msg(function (msg) {\n",
       "        //console.log('receiving', msg['content']['data'], msg);\n",
       "        // Pass the mpl event to the overridden (by mpl) onmessage function.\n",
       "        ws.onmessage(msg['content']['data']);\n",
       "    });\n",
       "    return ws;\n",
       "};\n",
       "\n",
       "mpl.mpl_figure_comm = function (comm, msg) {\n",
       "    // This is the function which gets called when the mpl process\n",
       "    // starts-up an IPython Comm through the \"matplotlib\" channel.\n",
       "\n",
       "    var id = msg.content.data.id;\n",
       "    // Get hold of the div created by the display call when the Comm\n",
       "    // socket was opened in Python.\n",
       "    var element = document.getElementById(id);\n",
       "    var ws_proxy = comm_websocket_adapter(comm);\n",
       "\n",
       "    function ondownload(figure, _format) {\n",
       "        window.open(figure.canvas.toDataURL());\n",
       "    }\n",
       "\n",
       "    var fig = new mpl.figure(id, ws_proxy, ondownload, element);\n",
       "\n",
       "    // Call onopen now - mpl needs it, as it is assuming we've passed it a real\n",
       "    // web socket which is closed, not our websocket->open comm proxy.\n",
       "    ws_proxy.onopen();\n",
       "\n",
       "    fig.parent_element = element;\n",
       "    fig.cell_info = mpl.find_output_cell(\"<div id='\" + id + \"'></div>\");\n",
       "    if (!fig.cell_info) {\n",
       "        console.error('Failed to find cell for figure', id, fig);\n",
       "        return;\n",
       "    }\n",
       "};\n",
       "\n",
       "mpl.figure.prototype.handle_close = function (fig, msg) {\n",
       "    var width = fig.canvas.width / mpl.ratio;\n",
       "    fig.root.removeEventListener('remove', this._remove_fig_handler);\n",
       "\n",
       "    // Update the output cell to use the data from the current canvas.\n",
       "    fig.push_to_output();\n",
       "    var dataURL = fig.canvas.toDataURL();\n",
       "    // Re-enable the keyboard manager in IPython - without this line, in FF,\n",
       "    // the notebook keyboard shortcuts fail.\n",
       "    IPython.keyboard_manager.enable();\n",
       "    fig.parent_element.innerHTML =\n",
       "        '<img src=\"' + dataURL + '\" width=\"' + width + '\">';\n",
       "    fig.close_ws(fig, msg);\n",
       "};\n",
       "\n",
       "mpl.figure.prototype.close_ws = function (fig, msg) {\n",
       "    fig.send_message('closing', msg);\n",
       "    // fig.ws.close()\n",
       "};\n",
       "\n",
       "mpl.figure.prototype.push_to_output = function (_remove_interactive) {\n",
       "    // Turn the data on the canvas into data in the output cell.\n",
       "    var width = this.canvas.width / mpl.ratio;\n",
       "    var dataURL = this.canvas.toDataURL();\n",
       "    this.cell_info[1]['text/html'] =\n",
       "        '<img src=\"' + dataURL + '\" width=\"' + width + '\">';\n",
       "};\n",
       "\n",
       "mpl.figure.prototype.updated_canvas_event = function () {\n",
       "    // Tell IPython that the notebook contents must change.\n",
       "    IPython.notebook.set_dirty(true);\n",
       "    this.send_message('ack', {});\n",
       "    var fig = this;\n",
       "    // Wait a second, then push the new image to the DOM so\n",
       "    // that it is saved nicely (might be nice to debounce this).\n",
       "    setTimeout(function () {\n",
       "        fig.push_to_output();\n",
       "    }, 1000);\n",
       "};\n",
       "\n",
       "mpl.figure.prototype._init_toolbar = function () {\n",
       "    var fig = this;\n",
       "\n",
       "    var toolbar = document.createElement('div');\n",
       "    toolbar.classList = 'btn-toolbar';\n",
       "    this.root.appendChild(toolbar);\n",
       "\n",
       "    function on_click_closure(name) {\n",
       "        return function (_event) {\n",
       "            return fig.toolbar_button_onclick(name);\n",
       "        };\n",
       "    }\n",
       "\n",
       "    function on_mouseover_closure(tooltip) {\n",
       "        return function (event) {\n",
       "            if (!event.currentTarget.disabled) {\n",
       "                return fig.toolbar_button_onmouseover(tooltip);\n",
       "            }\n",
       "        };\n",
       "    }\n",
       "\n",
       "    fig.buttons = {};\n",
       "    var buttonGroup = document.createElement('div');\n",
       "    buttonGroup.classList = 'btn-group';\n",
       "    var button;\n",
       "    for (var toolbar_ind in mpl.toolbar_items) {\n",
       "        var name = mpl.toolbar_items[toolbar_ind][0];\n",
       "        var tooltip = mpl.toolbar_items[toolbar_ind][1];\n",
       "        var image = mpl.toolbar_items[toolbar_ind][2];\n",
       "        var method_name = mpl.toolbar_items[toolbar_ind][3];\n",
       "\n",
       "        if (!name) {\n",
       "            /* Instead of a spacer, we start a new button group. */\n",
       "            if (buttonGroup.hasChildNodes()) {\n",
       "                toolbar.appendChild(buttonGroup);\n",
       "            }\n",
       "            buttonGroup = document.createElement('div');\n",
       "            buttonGroup.classList = 'btn-group';\n",
       "            continue;\n",
       "        }\n",
       "\n",
       "        button = fig.buttons[name] = document.createElement('button');\n",
       "        button.classList = 'btn btn-default';\n",
       "        button.href = '#';\n",
       "        button.title = name;\n",
       "        button.innerHTML = '<i class=\"fa ' + image + ' fa-lg\"></i>';\n",
       "        button.addEventListener('click', on_click_closure(method_name));\n",
       "        button.addEventListener('mouseover', on_mouseover_closure(tooltip));\n",
       "        buttonGroup.appendChild(button);\n",
       "    }\n",
       "\n",
       "    if (buttonGroup.hasChildNodes()) {\n",
       "        toolbar.appendChild(buttonGroup);\n",
       "    }\n",
       "\n",
       "    // Add the status bar.\n",
       "    var status_bar = document.createElement('span');\n",
       "    status_bar.classList = 'mpl-message pull-right';\n",
       "    toolbar.appendChild(status_bar);\n",
       "    this.message = status_bar;\n",
       "\n",
       "    // Add the close button to the window.\n",
       "    var buttongrp = document.createElement('div');\n",
       "    buttongrp.classList = 'btn-group inline pull-right';\n",
       "    button = document.createElement('button');\n",
       "    button.classList = 'btn btn-mini btn-primary';\n",
       "    button.href = '#';\n",
       "    button.title = 'Stop Interaction';\n",
       "    button.innerHTML = '<i class=\"fa fa-power-off icon-remove icon-large\"></i>';\n",
       "    button.addEventListener('click', function (_evt) {\n",
       "        fig.handle_close(fig, {});\n",
       "    });\n",
       "    button.addEventListener(\n",
       "        'mouseover',\n",
       "        on_mouseover_closure('Stop Interaction')\n",
       "    );\n",
       "    buttongrp.appendChild(button);\n",
       "    var titlebar = this.root.querySelector('.ui-dialog-titlebar');\n",
       "    titlebar.insertBefore(buttongrp, titlebar.firstChild);\n",
       "};\n",
       "\n",
       "mpl.figure.prototype._remove_fig_handler = function () {\n",
       "    this.close_ws(this, {});\n",
       "};\n",
       "\n",
       "mpl.figure.prototype._root_extra_style = function (el) {\n",
       "    el.style.boxSizing = 'content-box'; // override notebook setting of border-box.\n",
       "    el.addEventListener('remove', this._remove_fig_handler);\n",
       "};\n",
       "\n",
       "mpl.figure.prototype._canvas_extra_style = function (el) {\n",
       "    // this is important to make the div 'focusable\n",
       "    el.setAttribute('tabindex', 0);\n",
       "    // reach out to IPython and tell the keyboard manager to turn it's self\n",
       "    // off when our div gets focus\n",
       "\n",
       "    // location in version 3\n",
       "    if (IPython.notebook.keyboard_manager) {\n",
       "        IPython.notebook.keyboard_manager.register_events(el);\n",
       "    } else {\n",
       "        // location in version 2\n",
       "        IPython.keyboard_manager.register_events(el);\n",
       "    }\n",
       "};\n",
       "\n",
       "mpl.figure.prototype._key_event_extra = function (event, _name) {\n",
       "    var manager = IPython.notebook.keyboard_manager;\n",
       "    if (!manager) {\n",
       "        manager = IPython.keyboard_manager;\n",
       "    }\n",
       "\n",
       "    // Check for shift+enter\n",
       "    if (event.shiftKey && event.which === 13) {\n",
       "        this.canvas_div.blur();\n",
       "        // select the cell after this one\n",
       "        var index = IPython.notebook.find_cell_index(this.cell_info[0]);\n",
       "        IPython.notebook.select(index + 1);\n",
       "    }\n",
       "};\n",
       "\n",
       "mpl.figure.prototype.handle_save = function (fig, _msg) {\n",
       "    fig.ondownload(fig, null);\n",
       "};\n",
       "\n",
       "mpl.find_output_cell = function (html_output) {\n",
       "    // Return the cell and output element which can be found *uniquely* in the notebook.\n",
       "    // Note - this is a bit hacky, but it is done because the \"notebook_saving.Notebook\"\n",
       "    // IPython event is triggered only after the cells have been serialised, which for\n",
       "    // our purposes (turning an active figure into a static one), is too late.\n",
       "    var cells = IPython.notebook.get_cells();\n",
       "    var ncells = cells.length;\n",
       "    for (var i = 0; i < ncells; i++) {\n",
       "        var cell = cells[i];\n",
       "        if (cell.cell_type === 'code') {\n",
       "            for (var j = 0; j < cell.output_area.outputs.length; j++) {\n",
       "                var data = cell.output_area.outputs[j];\n",
       "                if (data.data) {\n",
       "                    // IPython >= 3 moved mimebundle to data attribute of output\n",
       "                    data = data.data;\n",
       "                }\n",
       "                if (data['text/html'] === html_output) {\n",
       "                    return [cell, data, j];\n",
       "                }\n",
       "            }\n",
       "        }\n",
       "    }\n",
       "};\n",
       "\n",
       "// Register the function which deals with the matplotlib target/channel.\n",
       "// The kernel may be null if the page has been refreshed.\n",
       "if (IPython.notebook.kernel !== null) {\n",
       "    IPython.notebook.kernel.comm_manager.register_target(\n",
       "        'matplotlib',\n",
       "        mpl.mpl_figure_comm\n",
       "    );\n",
       "}\n"
      ],
      "text/plain": [
       "<IPython.core.display.Javascript object>"
      ]
     },
     "metadata": {},
     "output_type": "display_data"
    },
    {
     "data": {
      "text/html": [
       "<img src=\"data:image/png;base64,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\" width=\"1000\">"
      ],
      "text/plain": [
       "<IPython.core.display.HTML object>"
      ]
     },
     "metadata": {},
     "output_type": "display_data"
    },
    {
     "data": {
      "text/plain": [
       "<function matplotlib.pyplot.show(block=None)>"
      ]
     },
     "execution_count": 41,
     "metadata": {},
     "output_type": "execute_result"
    }
   ],
   "source": [
    "%matplotlib notebook\n",
    "plt.rcParams['figure.figsize'] = [10, 6]\n",
    "\n",
    "plt.plot(test_dates_list, y_hat)\n",
    "plt.plot(test_dates_list, test_scaled['adj_close'])\n",
    "plt.legend(['pred','true'])\n",
    "plt.show"
   ]
  },
  {
   "cell_type": "code",
   "execution_count": null,
   "id": "leading-minister",
   "metadata": {},
   "outputs": [],
   "source": []
  },
  {
   "cell_type": "code",
   "execution_count": null,
   "id": "dramatic-refund",
   "metadata": {},
   "outputs": [],
   "source": [
    "y_hat = clfrbf.predict(X_train)"
   ]
  },
  {
   "cell_type": "code",
   "execution_count": null,
   "id": "minus-memory",
   "metadata": {},
   "outputs": [],
   "source": [
    "train_scaled['adj_close'] = y_hat\n",
    "\n",
    "inv_scaler = scaler.inverse_transform(train_scaled)\n",
    "\n",
    "y_hat_descaled = pd.DataFrame(inv_scaler, columns = train_scaled.columns)"
   ]
  },
  {
   "cell_type": "code",
   "execution_count": null,
   "id": "exotic-champagne",
   "metadata": {},
   "outputs": [],
   "source": [
    "%matplotlib notebook\n",
    "plt.rcParams['figure.figsize'] = [10, 6]\n",
    "\n",
    "plt.plot(train_dates_list[slow:], y_hat_descaled['adj_close'])\n",
    "plt.plot(train_dates_list[slow:], train_close_vals[slow:])\n",
    "plt.legend(['pred','true'])\n",
    "plt.show"
   ]
  },
  {
   "cell_type": "code",
   "execution_count": null,
   "id": "conceptual-wayne",
   "metadata": {},
   "outputs": [],
   "source": []
  },
  {
   "cell_type": "code",
   "execution_count": null,
   "id": "american-elite",
   "metadata": {},
   "outputs": [],
   "source": []
  }
 ],
 "metadata": {
  "kernelspec": {
   "display_name": "Python 3",
   "language": "python",
   "name": "python3"
  },
  "language_info": {
   "codemirror_mode": {
    "name": "ipython",
    "version": 3
   },
   "file_extension": ".py",
   "mimetype": "text/x-python",
   "name": "python",
   "nbconvert_exporter": "python",
   "pygments_lexer": "ipython3",
   "version": "3.8.5"
  }
 },
 "nbformat": 4,
 "nbformat_minor": 5
}
