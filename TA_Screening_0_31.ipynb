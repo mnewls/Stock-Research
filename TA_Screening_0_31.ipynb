{
 "cells": [
  {
   "cell_type": "code",
   "execution_count": 1,
   "id": "purple-youth",
   "metadata": {},
   "outputs": [],
   "source": [
    "from pandas_datareader import data as pdr\n",
    "from yahoo_fin import stock_info as si\n",
    "import yfinance as yf\n",
    "import pandas as pd\n",
    "import datetime\n",
    "import time\n",
    "import talib\n",
    "from talib import *\n",
    "import matplotlib.pyplot as plt\n",
    "from sklearn.preprocessing import StandardScaler\n",
    "from xgboost import XGBRegressor\n",
    "from xgboost import XGBClassifier\n",
    "import xgboost as xgb\n",
    "import math\n",
    "import numpy as np\n",
    "from sklearn.decomposition import PCA\n",
    "import pickle\n",
    "import os\n",
    "os.environ[\"PATH\"] += os.pathsep + r'C:\\Program Files\\Graphviz\\bin'\n",
    "yf.pdr_override()"
   ]
  },
  {
   "cell_type": "code",
   "execution_count": 2,
   "id": "gentle-anime",
   "metadata": {},
   "outputs": [],
   "source": [
    "from LSSVMRegression import LSSVMRegression"
   ]
  },
  {
   "cell_type": "code",
   "execution_count": null,
   "id": "dense-deadline",
   "metadata": {},
   "outputs": [],
   "source": []
  },
  {
   "cell_type": "code",
   "execution_count": null,
   "id": "moved-verification",
   "metadata": {},
   "outputs": [],
   "source": []
  },
  {
   "cell_type": "code",
   "execution_count": 3,
   "id": "nuclear-diversity",
   "metadata": {},
   "outputs": [],
   "source": [
    "def add_indicators():\n",
    "        \n",
    "    R_S_I = RSI(df['Adj Close'], timeperiod=slow)\n",
    "    E_M_A = EMA(df['Adj Close'], timeperiod=fast)\n",
    "    macd, macdsig, macdhist = MACD(df['Adj Close'], fastperiod=fast, slowperiod=slow, signalperiod=really_fast)\n",
    "    mfi = MFI(df['High'], df['Low'], df['Adj Close'],df['Volume'],timeperiod=fast)\n",
    "    slowk, slowd = STOCH(df['High'], df['Low'], df['Adj Close'], fastk_period=fast, slowk_period=slow, slowk_matype=0, slowd_period=slow, slowd_matype=0)\n",
    "    \n",
    "    #\n",
    "    #\n",
    "    #\n",
    "    \n",
    "    df['ema'] = E_M_A\n",
    "    df['rsi'] = R_S_I\n",
    "    df['macd'] = macd\n",
    "    df['macdsig'] = macdsig\n",
    "    df['macdhist'] = macdhist\n",
    "    df['mfi'] = mfi\n",
    "    df['slowK'] = slowk\n",
    "    df['slowD'] = slowd\n",
    "    \n",
    "    \n",
    "    \n",
    "    ####\n",
    "    \n",
    "    \n",
    "\n",
    "    #76 vars\n",
    "\n",
    "    #are_all_zero = (test_TA == 0).all()\n",
    "    #true if all values are 0\n",
    "    #false if contain a non 0'''\n",
    "\n",
    "    df.drop(['Close'], axis =1, inplace = True)\n",
    "\n",
    "    "
   ]
  },
  {
   "cell_type": "code",
   "execution_count": 4,
   "id": "suspected-conspiracy",
   "metadata": {},
   "outputs": [],
   "source": [
    "def add_lag(num_lag_cols, this_df):\n",
    "    \n",
    "    tic = time.perf_counter()\n",
    "    \n",
    "    '''df['ema'] = E_M_A\n",
    "    df['rsi'] = R_S_I\n",
    "    df['macd'] = macd\n",
    "    df['macdsig'] = macdsig\n",
    "    df['macdhist'] = macdhist\n",
    "    df['mfi'] = mfi\n",
    "    df['slowK'] = slowk\n",
    "    df['slowD'] = slowd'''\n",
    "    \n",
    "    lag_cols = ['open',\n",
    "                 'high',\n",
    "                 'low',\n",
    "                 'adj_close',\n",
    "                 'volume',\n",
    "                 'ema',\n",
    "                 'rsi',\n",
    "                 'macd',\n",
    "                 'macdsig',\n",
    "                 'macdhist',\n",
    "                 'mfi',\n",
    "                 'slowk',\n",
    "                 'slowd']\n",
    "\n",
    "    shift_range = [x+1 for x in range(num_lag_cols)]\n",
    "\n",
    "    for shift in shift_range:\n",
    "        train_shift = this_df[merging_keys + lag_cols].copy()\n",
    "\n",
    "        # E.g. order_day of 0 becomes 1, for shift = 1.\n",
    "        # So when this is merged with order_day of 1 in df, this will represent lag of 1.\n",
    "        train_shift['order_day'] = train_shift['order_day'] + shift\n",
    "\n",
    "        foo = lambda x: '{}_lag_{}'.format(x, shift) if x in lag_cols else x\n",
    "        train_shift = train_shift.rename(columns=foo)\n",
    "\n",
    "        this_df = pd.merge(this_df, train_shift, on=merging_keys, how='left') #.fillna(0)\n",
    "\n",
    "    del train_shift\n",
    "    \n",
    "    toc = time.perf_counter()\n",
    "\n",
    "    tic_toc = (toc - tic) / 60\n",
    "\n",
    "    print(f\"completed lagging in {tic_toc:0.4f} min\")\n",
    "    \n",
    "\n",
    "    return this_df"
   ]
  },
  {
   "cell_type": "code",
   "execution_count": 5,
   "id": "practical-reason",
   "metadata": {},
   "outputs": [],
   "source": [
    "def add_scale(num_interval_lag):\n",
    "\n",
    "    cols_to_scale = ['open',#\n",
    "                     'high',#\n",
    "                     'low',#\n",
    "                     'adj_close',#\n",
    "                     'volume',#\n",
    "                     'ema',#\n",
    "                     'rsi',#\n",
    "                     'macd',#\n",
    "                     'macdsig',#\n",
    "                     'macdhist',#\n",
    "                     'mfi',#\n",
    "                     'slowk',#\n",
    "                     'slowd']#\n",
    "                    \n",
    "\n",
    "    for i in range(1,num_interval_lag+1):\n",
    "        cols_to_scale.append(\"ema_lag_\"+str(i))\n",
    "        cols_to_scale.append(\"slowk_lag_\"+str(i))\n",
    "        cols_to_scale.append(\"slowd_lag_\"+str(i))\n",
    "        cols_to_scale.append(\"rsi_lag_\"+str(i))\n",
    "\n",
    "        cols_to_scale.append(\"volume_lag_\"+str(i))\n",
    "\n",
    "        cols_to_scale.append(\"adj_close_lag_\"+str(i))\n",
    "        \n",
    "        cols_to_scale.append(\"open_lag_\"+str(i))\n",
    "        cols_to_scale.append(\"high_lag_\"+str(i))\n",
    "        cols_to_scale.append(\"low_lag_\"+str(i))\n",
    "\n",
    "        cols_to_scale.append(\"macd_lag_\"+str(i))\n",
    "        cols_to_scale.append(\"macdsig_lag_\"+str(i))\n",
    "        cols_to_scale.append(\"macdhist_lag_\"+str(i))\n",
    "\n",
    "        cols_to_scale.append(\"mfi_lag_\"+str(i))\n",
    "      \n",
    "    return cols_to_scale"
   ]
  },
  {
   "cell_type": "code",
   "execution_count": 6,
   "id": "improving-development",
   "metadata": {},
   "outputs": [
    {
     "name": "stdout",
     "output_type": "stream",
     "text": [
      "[*********************100%***********************]  1 of 1 completed\n"
     ]
    }
   ],
   "source": [
    "stock = 'AAPL'\n",
    "\n",
    "start_date = datetime.datetime.now() - datetime.timedelta(days=59)\n",
    "\n",
    "end_date = datetime.datetime.now()\n",
    "\n",
    "df = pdr.get_data_yahoo(stock, start=start_date, end=end_date, interval = \"2m\", prepost = True)\n",
    "\n",
    "#df = pdr.get_data_yahoo(stock, period = \"max\", interval = \"1d\", prepost = True)\n",
    "\n",
    "#df.index = df.index.tz_localize(None)\n",
    "\n",
    "'''#2 min ticker\n",
    "# 30 intervals = 1 hour << OLD\n",
    "# 195 intervals = trading day'''\n",
    "                                            # there are more intervals that we can use / change\n",
    "really_fast = 30\n",
    "fast = 60\n",
    "slow = 90\n",
    "\n",
    "add_indicators()\n",
    "\n",
    "# Convert Date column to datetime\n",
    "df.reset_index(level=0, inplace=True)\n",
    "\n",
    "# Change all column headings to be lower case, and remove spacing\n",
    "df.columns = [str(x).lower().replace(' ', '_') for x in df.columns]\n",
    "\n",
    "df['order_day'] = [x for x in list(range(len(df)))]\n",
    "# merging_keys\n",
    "\n",
    "\n",
    "# Get difference between high and low of each day"
   ]
  },
  {
   "cell_type": "code",
   "execution_count": 7,
   "id": "level-armor",
   "metadata": {},
   "outputs": [],
   "source": [
    "col_list = df.columns.to_list()\n",
    "col_list.remove('datetime')"
   ]
  },
  {
   "cell_type": "code",
   "execution_count": 8,
   "id": "later-homework",
   "metadata": {},
   "outputs": [
    {
     "data": {
      "text/plain": [
       "['open',\n",
       " 'high',\n",
       " 'low',\n",
       " 'adj_close',\n",
       " 'volume',\n",
       " 'ema',\n",
       " 'rsi',\n",
       " 'macd',\n",
       " 'macdsig',\n",
       " 'macdhist',\n",
       " 'mfi',\n",
       " 'slowk',\n",
       " 'slowd',\n",
       " 'order_day']"
      ]
     },
     "execution_count": 8,
     "metadata": {},
     "output_type": "execute_result"
    }
   ],
   "source": [
    "col_list"
   ]
  },
  {
   "cell_type": "code",
   "execution_count": null,
   "id": "residential-sheet",
   "metadata": {},
   "outputs": [],
   "source": []
  },
  {
   "cell_type": "code",
   "execution_count": 9,
   "id": "legitimate-orleans",
   "metadata": {},
   "outputs": [
    {
     "name": "stdout",
     "output_type": "stream",
     "text": [
      "completed lagging in 0.0338 min\n"
     ]
    }
   ],
   "source": [
    "merging_keys = ['order_day']\n",
    "\n",
    "num_interval_lag = 30\n",
    "\n",
    "df = add_lag(num_interval_lag, df)\n",
    "\n",
    "#df['adj_close'] = df['adj_close'].shift(30)"
   ]
  },
  {
   "cell_type": "code",
   "execution_count": 10,
   "id": "permanent-turtle",
   "metadata": {},
   "outputs": [
    {
     "name": "stdout",
     "output_type": "stream",
     "text": [
      "(15206, 405)\n"
     ]
    }
   ],
   "source": [
    "print(df.shape)"
   ]
  },
  {
   "cell_type": "code",
   "execution_count": 11,
   "id": "quick-delight",
   "metadata": {},
   "outputs": [
    {
     "name": "stdout",
     "output_type": "stream",
     "text": [
      "                    datetime    open    high     low  adj_close  volume  ema  \\\n",
      "0  2021-01-13 19:00:00-05:00  131.00  131.03  130.95     131.03       0  NaN   \n",
      "1  2021-01-13 19:02:00-05:00  131.00  131.03  131.00     131.03       0  NaN   \n",
      "2  2021-01-13 19:04:00-05:00  131.03  131.07  131.00     131.00       0  NaN   \n",
      "3  2021-01-13 19:06:00-05:00  131.00  131.07  131.00     131.05       0  NaN   \n",
      "4  2021-01-13 19:08:00-05:00  131.05  131.06  131.00     131.02       0  NaN   \n",
      "5  2021-01-13 19:10:00-05:00  131.06  131.06  131.01     131.02       0  NaN   \n",
      "6  2021-01-13 19:12:00-05:00  131.02  131.06  131.01     131.05       0  NaN   \n",
      "7  2021-01-13 19:14:00-05:00  131.02  131.07  131.01     131.07       0  NaN   \n",
      "8  2021-01-13 19:16:00-05:00  131.06  131.08  131.05     131.08       0  NaN   \n",
      "9  2021-01-13 19:18:00-05:00  131.08  131.10  131.05     131.10       0  NaN   \n",
      "10 2021-01-13 19:20:00-05:00  131.10  131.10  131.05     131.07       0  NaN   \n",
      "11 2021-01-13 19:22:00-05:00  131.08  131.09  131.05     131.09       0  NaN   \n",
      "12 2021-01-13 19:24:00-05:00  131.09  131.10  131.07     131.10       0  NaN   \n",
      "13 2021-01-13 19:26:00-05:00  131.10  131.19  131.06     131.16       0  NaN   \n",
      "14 2021-01-13 19:28:00-05:00  131.16  131.20  131.10     131.10       0  NaN   \n",
      "15 2021-01-13 19:30:00-05:00  131.14  131.18  131.05     131.11       0  NaN   \n",
      "16 2021-01-13 19:32:00-05:00  131.11  131.17  131.11     131.15       0  NaN   \n",
      "17 2021-01-13 19:34:00-05:00  131.16  131.16  131.13     131.16       0  NaN   \n",
      "18 2021-01-13 19:36:00-05:00  131.15  131.17  131.12     131.17       0  NaN   \n",
      "19 2021-01-13 19:38:00-05:00  131.17  131.18  131.13     131.16       0  NaN   \n",
      "20 2021-01-13 19:40:00-05:00  131.13  131.20  131.05     131.10       0  NaN   \n",
      "21 2021-01-13 19:42:00-05:00  131.17  131.22  131.10     131.22       0  NaN   \n",
      "22 2021-01-13 19:44:00-05:00  131.16  131.25  131.16     131.20       0  NaN   \n",
      "23 2021-01-13 19:46:00-05:00  131.23  131.26  131.23     131.23       0  NaN   \n",
      "24 2021-01-13 19:48:00-05:00  131.24  131.25  131.18     131.22       0  NaN   \n",
      "25 2021-01-13 19:50:00-05:00  131.18  131.22  131.15     131.16       0  NaN   \n",
      "26 2021-01-13 19:52:00-05:00  131.16  131.25  131.16     131.20       0  NaN   \n",
      "27 2021-01-13 19:54:00-05:00  131.20  131.25  131.20     131.22       0  NaN   \n",
      "28 2021-01-13 19:56:00-05:00  131.22  131.28  131.21     131.22       0  NaN   \n",
      "29 2021-01-13 19:58:00-05:00  131.21  131.28  131.20     131.27       0  NaN   \n",
      "30 2021-01-14 04:00:00-05:00  131.07  131.13  131.00     131.09       0  NaN   \n",
      "31 2021-01-14 04:02:00-05:00  131.07  131.10  131.00     131.00       0  NaN   \n",
      "32 2021-01-14 04:04:00-05:00  130.91  131.13  130.91     131.00       0  NaN   \n",
      "33 2021-01-14 04:06:00-05:00  131.13  131.15  131.00     131.05       0  NaN   \n",
      "34 2021-01-14 04:08:00-05:00  131.03  131.13  130.69     130.98       0  NaN   \n",
      "35 2021-01-14 04:10:00-05:00  130.82  130.98  130.82     130.98       0  NaN   \n",
      "36 2021-01-14 04:12:00-05:00  130.95  130.95  130.71     130.87       0  NaN   \n",
      "37 2021-01-14 04:14:00-05:00  130.84  130.84  130.71     130.81       0  NaN   \n",
      "38 2021-01-14 04:16:00-05:00  130.83  130.87  130.80     130.83       0  NaN   \n",
      "39 2021-01-14 04:18:00-05:00  130.83  130.86  130.80     130.80       0  NaN   \n",
      "\n",
      "    rsi  macd  macdsig  ...  adj_close_lag_30  volume_lag_30  ema_lag_30  \\\n",
      "0   NaN   NaN      NaN  ...               NaN            NaN         NaN   \n",
      "1   NaN   NaN      NaN  ...               NaN            NaN         NaN   \n",
      "2   NaN   NaN      NaN  ...               NaN            NaN         NaN   \n",
      "3   NaN   NaN      NaN  ...               NaN            NaN         NaN   \n",
      "4   NaN   NaN      NaN  ...               NaN            NaN         NaN   \n",
      "5   NaN   NaN      NaN  ...               NaN            NaN         NaN   \n",
      "6   NaN   NaN      NaN  ...               NaN            NaN         NaN   \n",
      "7   NaN   NaN      NaN  ...               NaN            NaN         NaN   \n",
      "8   NaN   NaN      NaN  ...               NaN            NaN         NaN   \n",
      "9   NaN   NaN      NaN  ...               NaN            NaN         NaN   \n",
      "10  NaN   NaN      NaN  ...               NaN            NaN         NaN   \n",
      "11  NaN   NaN      NaN  ...               NaN            NaN         NaN   \n",
      "12  NaN   NaN      NaN  ...               NaN            NaN         NaN   \n",
      "13  NaN   NaN      NaN  ...               NaN            NaN         NaN   \n",
      "14  NaN   NaN      NaN  ...               NaN            NaN         NaN   \n",
      "15  NaN   NaN      NaN  ...               NaN            NaN         NaN   \n",
      "16  NaN   NaN      NaN  ...               NaN            NaN         NaN   \n",
      "17  NaN   NaN      NaN  ...               NaN            NaN         NaN   \n",
      "18  NaN   NaN      NaN  ...               NaN            NaN         NaN   \n",
      "19  NaN   NaN      NaN  ...               NaN            NaN         NaN   \n",
      "20  NaN   NaN      NaN  ...               NaN            NaN         NaN   \n",
      "21  NaN   NaN      NaN  ...               NaN            NaN         NaN   \n",
      "22  NaN   NaN      NaN  ...               NaN            NaN         NaN   \n",
      "23  NaN   NaN      NaN  ...               NaN            NaN         NaN   \n",
      "24  NaN   NaN      NaN  ...               NaN            NaN         NaN   \n",
      "25  NaN   NaN      NaN  ...               NaN            NaN         NaN   \n",
      "26  NaN   NaN      NaN  ...               NaN            NaN         NaN   \n",
      "27  NaN   NaN      NaN  ...               NaN            NaN         NaN   \n",
      "28  NaN   NaN      NaN  ...               NaN            NaN         NaN   \n",
      "29  NaN   NaN      NaN  ...               NaN            NaN         NaN   \n",
      "30  NaN   NaN      NaN  ...            131.03            0.0         NaN   \n",
      "31  NaN   NaN      NaN  ...            131.03            0.0         NaN   \n",
      "32  NaN   NaN      NaN  ...            131.00            0.0         NaN   \n",
      "33  NaN   NaN      NaN  ...            131.05            0.0         NaN   \n",
      "34  NaN   NaN      NaN  ...            131.02            0.0         NaN   \n",
      "35  NaN   NaN      NaN  ...            131.02            0.0         NaN   \n",
      "36  NaN   NaN      NaN  ...            131.05            0.0         NaN   \n",
      "37  NaN   NaN      NaN  ...            131.07            0.0         NaN   \n",
      "38  NaN   NaN      NaN  ...            131.08            0.0         NaN   \n",
      "39  NaN   NaN      NaN  ...            131.10            0.0         NaN   \n",
      "\n",
      "    rsi_lag_30  macd_lag_30  macdsig_lag_30  macdhist_lag_30  mfi_lag_30  \\\n",
      "0          NaN          NaN             NaN              NaN         NaN   \n",
      "1          NaN          NaN             NaN              NaN         NaN   \n",
      "2          NaN          NaN             NaN              NaN         NaN   \n",
      "3          NaN          NaN             NaN              NaN         NaN   \n",
      "4          NaN          NaN             NaN              NaN         NaN   \n",
      "5          NaN          NaN             NaN              NaN         NaN   \n",
      "6          NaN          NaN             NaN              NaN         NaN   \n",
      "7          NaN          NaN             NaN              NaN         NaN   \n",
      "8          NaN          NaN             NaN              NaN         NaN   \n",
      "9          NaN          NaN             NaN              NaN         NaN   \n",
      "10         NaN          NaN             NaN              NaN         NaN   \n",
      "11         NaN          NaN             NaN              NaN         NaN   \n",
      "12         NaN          NaN             NaN              NaN         NaN   \n",
      "13         NaN          NaN             NaN              NaN         NaN   \n",
      "14         NaN          NaN             NaN              NaN         NaN   \n",
      "15         NaN          NaN             NaN              NaN         NaN   \n",
      "16         NaN          NaN             NaN              NaN         NaN   \n",
      "17         NaN          NaN             NaN              NaN         NaN   \n",
      "18         NaN          NaN             NaN              NaN         NaN   \n",
      "19         NaN          NaN             NaN              NaN         NaN   \n",
      "20         NaN          NaN             NaN              NaN         NaN   \n",
      "21         NaN          NaN             NaN              NaN         NaN   \n",
      "22         NaN          NaN             NaN              NaN         NaN   \n",
      "23         NaN          NaN             NaN              NaN         NaN   \n",
      "24         NaN          NaN             NaN              NaN         NaN   \n",
      "25         NaN          NaN             NaN              NaN         NaN   \n",
      "26         NaN          NaN             NaN              NaN         NaN   \n",
      "27         NaN          NaN             NaN              NaN         NaN   \n",
      "28         NaN          NaN             NaN              NaN         NaN   \n",
      "29         NaN          NaN             NaN              NaN         NaN   \n",
      "30         NaN          NaN             NaN              NaN         NaN   \n",
      "31         NaN          NaN             NaN              NaN         NaN   \n",
      "32         NaN          NaN             NaN              NaN         NaN   \n",
      "33         NaN          NaN             NaN              NaN         NaN   \n",
      "34         NaN          NaN             NaN              NaN         NaN   \n",
      "35         NaN          NaN             NaN              NaN         NaN   \n",
      "36         NaN          NaN             NaN              NaN         NaN   \n",
      "37         NaN          NaN             NaN              NaN         NaN   \n",
      "38         NaN          NaN             NaN              NaN         NaN   \n",
      "39         NaN          NaN             NaN              NaN         NaN   \n",
      "\n",
      "    slowk_lag_30  slowd_lag_30  \n",
      "0            NaN           NaN  \n",
      "1            NaN           NaN  \n",
      "2            NaN           NaN  \n",
      "3            NaN           NaN  \n",
      "4            NaN           NaN  \n",
      "5            NaN           NaN  \n",
      "6            NaN           NaN  \n",
      "7            NaN           NaN  \n",
      "8            NaN           NaN  \n",
      "9            NaN           NaN  \n",
      "10           NaN           NaN  \n",
      "11           NaN           NaN  \n",
      "12           NaN           NaN  \n",
      "13           NaN           NaN  \n",
      "14           NaN           NaN  \n",
      "15           NaN           NaN  \n",
      "16           NaN           NaN  \n",
      "17           NaN           NaN  \n",
      "18           NaN           NaN  \n",
      "19           NaN           NaN  \n",
      "20           NaN           NaN  \n",
      "21           NaN           NaN  \n",
      "22           NaN           NaN  \n",
      "23           NaN           NaN  \n",
      "24           NaN           NaN  \n",
      "25           NaN           NaN  \n",
      "26           NaN           NaN  \n",
      "27           NaN           NaN  \n",
      "28           NaN           NaN  \n",
      "29           NaN           NaN  \n",
      "30           NaN           NaN  \n",
      "31           NaN           NaN  \n",
      "32           NaN           NaN  \n",
      "33           NaN           NaN  \n",
      "34           NaN           NaN  \n",
      "35           NaN           NaN  \n",
      "36           NaN           NaN  \n",
      "37           NaN           NaN  \n",
      "38           NaN           NaN  \n",
      "39           NaN           NaN  \n",
      "\n",
      "[40 rows x 405 columns]\n"
     ]
    }
   ],
   "source": [
    "print(df.head(40))"
   ]
  },
  {
   "cell_type": "code",
   "execution_count": 12,
   "id": "processed-hollywood",
   "metadata": {},
   "outputs": [],
   "source": [
    "window_size = 30\n",
    "\n",
    "df['adj_close'] = df['adj_close'].shift(-window_size)\n",
    "\n"
   ]
  },
  {
   "cell_type": "code",
   "execution_count": 13,
   "id": "running-roommate",
   "metadata": {},
   "outputs": [],
   "source": [
    "cols_to_rem = ['open',\n",
    "                 'high',\n",
    "                 'low',\n",
    "                 'volume',\n",
    "                 'ema',\n",
    "                 'rsi',\n",
    "                 'macd',\n",
    "                 'macdsig',\n",
    "                 'macdhist',\n",
    "                 'mfi',\n",
    "                 'slowk',\n",
    "                 'slowd',\n",
    "                 'order_day']"
   ]
  },
  {
   "cell_type": "code",
   "execution_count": 14,
   "id": "spiritual-comfort",
   "metadata": {},
   "outputs": [],
   "source": [
    "close_vals_list = df['adj_close']"
   ]
  },
  {
   "cell_type": "code",
   "execution_count": null,
   "id": "crucial-volume",
   "metadata": {},
   "outputs": [],
   "source": []
  },
  {
   "cell_type": "code",
   "execution_count": null,
   "id": "limiting-treasure",
   "metadata": {},
   "outputs": [],
   "source": []
  },
  {
   "cell_type": "code",
   "execution_count": 15,
   "id": "velvet-chocolate",
   "metadata": {},
   "outputs": [],
   "source": [
    "df.drop(cols_to_rem, axis = 1, inplace = True)"
   ]
  },
  {
   "cell_type": "code",
   "execution_count": 16,
   "id": "available-departure",
   "metadata": {},
   "outputs": [
    {
     "name": "stdout",
     "output_type": "stream",
     "text": [
      "                       datetime  adj_close  open_lag_1  high_lag_1  low_lag_1  \\\n",
      "15166 2021-03-02 17:44:00-05:00     125.32     125.030      125.08    125.020   \n",
      "15167 2021-03-02 17:46:00-05:00     125.33     125.030      125.07    125.030   \n",
      "15168 2021-03-02 17:48:00-05:00     125.35     125.050      125.08    125.010   \n",
      "15169 2021-03-02 17:50:00-05:00     125.33     125.045      125.07    125.020   \n",
      "15170 2021-03-02 17:52:00-05:00     125.34     125.070      125.08    125.050   \n",
      "15171 2021-03-02 17:54:00-05:00     125.34     125.080      125.08    125.020   \n",
      "15172 2021-03-02 17:56:00-05:00     125.29     125.070      125.08    125.010   \n",
      "15173 2021-03-02 17:58:00-05:00     125.30     125.015      125.02    125.000   \n",
      "15174 2021-03-02 18:00:00-05:00     125.24     125.010      125.05    125.000   \n",
      "15175 2021-03-02 18:02:00-05:00     125.27     125.020      125.20    125.000   \n",
      "15176 2021-03-02 18:04:00-05:00        NaN     125.190      125.23    125.130   \n",
      "15177 2021-03-02 18:06:00-05:00        NaN     125.190      125.19    125.100   \n",
      "15178 2021-03-02 18:08:00-05:00        NaN     125.120      125.19    125.100   \n",
      "15179 2021-03-02 18:10:00-05:00        NaN     125.190      125.24    125.150   \n",
      "15180 2021-03-02 18:12:00-05:00        NaN     125.190      125.22    125.160   \n",
      "15181 2021-03-02 18:14:00-05:00        NaN     125.180      125.23    125.170   \n",
      "15182 2021-03-02 18:16:00-05:00        NaN     125.210      125.22    125.200   \n",
      "15183 2021-03-02 18:18:00-05:00        NaN     125.230      125.24    125.190   \n",
      "15184 2021-03-02 18:20:00-05:00        NaN     125.190      125.20    125.160   \n",
      "15185 2021-03-02 18:22:00-05:00        NaN     125.170      125.19    125.150   \n",
      "15186 2021-03-02 18:24:00-05:00        NaN     125.190      125.21    125.180   \n",
      "15187 2021-03-02 18:26:00-05:00        NaN     125.190      125.23    125.190   \n",
      "15188 2021-03-02 18:28:00-05:00        NaN     125.220      125.23    125.220   \n",
      "15189 2021-03-02 18:30:00-05:00        NaN     125.230      125.23    125.210   \n",
      "15190 2021-03-02 18:32:00-05:00        NaN     125.210      125.29    125.210   \n",
      "15191 2021-03-02 18:34:00-05:00        NaN     125.280      125.29    125.250   \n",
      "15192 2021-03-02 18:36:00-05:00        NaN     125.260      125.30    125.250   \n",
      "15193 2021-03-02 18:38:00-05:00        NaN     125.300      125.30    125.280   \n",
      "15194 2021-03-02 18:40:00-05:00        NaN     125.280      125.29    125.261   \n",
      "15195 2021-03-02 18:42:00-05:00        NaN     125.280      125.31    125.260   \n",
      "15196 2021-03-02 18:44:00-05:00        NaN     125.310      125.31    125.300   \n",
      "15197 2021-03-02 18:46:00-05:00        NaN     125.310      125.33    125.310   \n",
      "15198 2021-03-02 18:48:00-05:00        NaN     125.330      125.34    125.310   \n",
      "15199 2021-03-02 18:50:00-05:00        NaN     125.320      125.35    125.320   \n",
      "15200 2021-03-02 18:52:00-05:00        NaN     125.350      125.35    125.330   \n",
      "15201 2021-03-02 18:54:00-05:00        NaN     125.330      125.35    125.330   \n",
      "15202 2021-03-02 18:56:00-05:00        NaN     125.330      125.35    125.330   \n",
      "15203 2021-03-02 18:58:00-05:00        NaN     125.330      125.33    125.290   \n",
      "15204 2021-03-02 19:00:00-05:00        NaN     125.310      125.35    125.300   \n",
      "15205 2021-03-02 19:02:00-05:00        NaN     125.270      125.32    125.220   \n",
      "\n",
      "       adj_close_lag_1  volume_lag_1   ema_lag_1  rsi_lag_1  macd_lag_1  ...  \\\n",
      "15166         125.0600           0.0  125.203083  44.655245   -0.129366  ...   \n",
      "15167         125.0600           0.0  125.198392  44.655245   -0.128070  ...   \n",
      "15168         125.0700           0.0  125.194182  44.749697   -0.126643  ...   \n",
      "15169         125.0700           0.0  125.190111  44.749697   -0.125202  ...   \n",
      "15170         125.0700           0.0  125.186173  44.749697   -0.123748  ...   \n",
      "15171         125.0800           0.0  125.182692  44.847031   -0.122176  ...   \n",
      "15172         125.0150           0.0  125.177194  44.333664   -0.121304  ...   \n",
      "15173         125.0100           0.0  125.171712  44.294223   -0.120445  ...   \n",
      "15174         125.0300           0.0  125.167065  44.493965   -0.119329  ...   \n",
      "15175         125.2000           0.0  125.168145  46.153542   -0.116351  ...   \n",
      "15176         125.1800           0.0  125.168534  45.989953   -0.113665  ...   \n",
      "15177         125.1200           0.0  125.166943  45.500692   -0.111692  ...   \n",
      "15178         125.1900           0.0  125.167699  46.176232   -0.108988  ...   \n",
      "15179         125.1900           0.0  125.168430  46.176232   -0.106352  ...   \n",
      "15180         125.1900           0.0  125.169137  46.176232   -0.103781  ...   \n",
      "15181         125.2000           0.0  125.170149  46.274610   -0.101166  ...   \n",
      "15182         125.2200           0.0  125.171783  46.472482   -0.098404  ...   \n",
      "15183         125.2000           0.0  125.172709  46.300042   -0.095936  ...   \n",
      "15184         125.1699           0.0  125.172616  46.040045   -0.093858  ...   \n",
      "15185         125.1900           0.0  125.173186  46.243888   -0.091608  ...   \n",
      "15186         125.1900           0.0  125.173738  46.243888   -0.089413  ...   \n",
      "15187         125.2200           0.0  125.175254  46.552055   -0.086947  ...   \n",
      "15188         125.2300           0.0  125.177049  46.655137   -0.084445  ...   \n",
      "15189         125.2200           0.0  125.178458  46.564322   -0.082125  ...   \n",
      "15190         125.2900           0.0  125.182115  47.290588   -0.079114  ...   \n",
      "15191         125.2500           0.0  125.184341  46.922072   -0.076641  ...   \n",
      "15192         125.2800           0.0  125.187477  47.233926   -0.073923  ...   \n",
      "15193         125.2800           0.0  125.190510  47.233926   -0.071298  ...   \n",
      "15194         125.2800           0.0  125.193445  47.233926   -0.068764  ...   \n",
      "15195         125.3100           0.0  125.197266  47.552578   -0.065993  ...   \n",
      "15196         125.3100           0.0  125.200962  47.552578   -0.063324  ...   \n",
      "15197         125.3200           0.0  125.204865  47.660318   -0.060646  ...   \n",
      "15198         125.3300           0.0  125.208968  47.768820   -0.057960  ...   \n",
      "15199         125.3500           0.0  125.213592  47.986892   -0.055162  ...   \n",
      "15200         125.3300           0.0  125.217409  47.785141   -0.052691  ...   \n",
      "15201         125.3400           0.0  125.221428  47.895902   -0.050208  ...   \n",
      "15202         125.3400           0.0  125.225316  47.895902   -0.047823  ...   \n",
      "15203         125.2900           0.0  125.227436  47.381999   -0.046073  ...   \n",
      "15204         125.3000           0.0  125.229815  47.495934   -0.044276  ...   \n",
      "15205         125.2400           0.0  125.230149  46.880026   -0.043193  ...   \n",
      "\n",
      "       adj_close_lag_30  volume_lag_30  ema_lag_30  rsi_lag_30  macd_lag_30  \\\n",
      "15166           125.250            0.0  125.431840   45.490533    -0.143066   \n",
      "15167           125.190            0.0  125.423910   45.132300    -0.142536   \n",
      "15168           125.120            0.0  125.413946   44.716854    -0.142688   \n",
      "15169           125.120            0.0  125.404309   44.716854    -0.142729   \n",
      "15170           125.120            0.0  125.394987   44.716854    -0.142666   \n",
      "15171           125.110            0.0  125.385643   44.656129    -0.142610   \n",
      "15172           125.140            0.0  125.377589   44.883196    -0.142131   \n",
      "15173           125.100            0.0  125.368488   44.636271    -0.142008   \n",
      "15174           125.100            0.0  125.359685   44.636271    -0.141789   \n",
      "15175           125.110            0.0  125.351499   44.714029    -0.141371   \n",
      "15176           125.070            0.0  125.342269   44.461442    -0.141307   \n",
      "15177           125.080            0.0  125.333670   44.540643    -0.141036   \n",
      "15178           125.030            0.0  125.323714   44.221784    -0.141219   \n",
      "15179           125.025            0.0  125.313920   44.189794    -0.141344   \n",
      "15180           125.020            0.0  125.304283   44.157492    -0.141414   \n",
      "15181           125.010            0.0  125.294635   44.092305    -0.141487   \n",
      "15182           125.020            0.0  125.285630   44.175641    -0.141346   \n",
      "15183           125.020            0.0  125.276921   44.175641    -0.141111   \n",
      "15184           125.000            0.0  125.267842   44.041378    -0.141003   \n",
      "15185           125.010            0.0  125.259388   44.127239    -0.140691   \n",
      "15186           125.040            0.0  125.252195   44.386111    -0.139970   \n",
      "15187           125.050            0.0  125.245565   44.472832    -0.139079   \n",
      "15188           125.050            0.0  125.239153   44.472832    -0.138136   \n",
      "15189           125.060            0.0  125.233280   44.561234    -0.137037   \n",
      "15190           125.085            0.0  125.228418   44.783470    -0.135628   \n",
      "15191           125.080            0.0  125.223552   44.747191    -0.134251   \n",
      "15192           125.080            0.0  125.218845   44.747191    -0.132852   \n",
      "15193           125.070            0.0  125.213965   44.673177    -0.131541   \n",
      "15194           125.030            0.0  125.207933   44.376277    -0.130639   \n",
      "15195           125.060            0.0  125.203083   44.655245    -0.129366   \n",
      "15196           125.060            0.0  125.198392   44.655245    -0.128070   \n",
      "15197           125.070            0.0  125.194182   44.749697    -0.126643   \n",
      "15198           125.070            0.0  125.190111   44.749697    -0.125202   \n",
      "15199           125.070            0.0  125.186173   44.749697    -0.123748   \n",
      "15200           125.080            0.0  125.182692   44.847031    -0.122176   \n",
      "15201           125.015            0.0  125.177194   44.333664    -0.121304   \n",
      "15202           125.010            0.0  125.171712   44.294223    -0.120445   \n",
      "15203           125.030            0.0  125.167065   44.493965    -0.119329   \n",
      "15204           125.200            0.0  125.168145   46.153542    -0.116351   \n",
      "15205           125.180            0.0  125.168534   45.989953    -0.113665   \n",
      "\n",
      "       macdsig_lag_30  macdhist_lag_30  mfi_lag_30  slowk_lag_30  slowd_lag_30  \n",
      "15166       -0.127395        -0.015671   58.720448     39.570818     41.969298  \n",
      "15167       -0.128372        -0.014164   58.311112     39.810362     41.948752  \n",
      "15168       -0.129296        -0.013392   57.626026     40.163318     41.928403  \n",
      "15169       -0.130163        -0.012567   57.234163     40.619633     41.909843  \n",
      "15170       -0.130969        -0.011696   56.674364     41.145275     41.894240  \n",
      "15171       -0.131720        -0.010890   56.073580     41.234773     41.876287  \n",
      "15172       -0.132392        -0.009739   55.460140     41.339521     41.856689  \n",
      "15173       -0.133012        -0.008996   56.116674     41.566793     41.837924  \n",
      "15174       -0.133579        -0.008210   55.586106     41.711849     41.817752  \n",
      "15175       -0.134081        -0.007290   55.103295     42.033895     41.800054  \n",
      "15176       -0.134547        -0.006760   54.769273     42.473768     41.788649  \n",
      "15177       -0.134966        -0.006070   54.171952     42.999723     41.785522  \n",
      "15178       -0.135370        -0.005849   53.675812     43.485120     41.790160  \n",
      "15179       -0.135755        -0.005589   52.584316     43.983641     41.801742  \n",
      "15180       -0.136120        -0.005294   53.429124     44.431195     41.819058  \n",
      "15181       -0.136466        -0.005021   54.398621     44.747951     41.838387  \n",
      "15182       -0.136781        -0.004565   55.374687     45.190315     41.862366  \n",
      "15183       -0.137061        -0.004050   56.472490     45.613327     41.889847  \n",
      "15184       -0.137315        -0.003688   57.881718     45.894463     41.917216  \n",
      "15185       -0.137533        -0.003158   60.013570     46.181743     41.945041  \n",
      "15186       -0.137690        -0.002280   59.132108     46.658264     41.977082  \n",
      "15187       -0.137780        -0.001300   60.412095     47.198034     42.015658  \n",
      "15188       -0.137803        -0.000334   59.377148     47.739787     42.061231  \n",
      "15189       -0.137753         0.000716   58.144582     48.221171     42.112826  \n",
      "15190       -0.137616         0.001988   57.168858     48.765978     42.170993  \n",
      "15191       -0.137399         0.003148   55.969705     49.224404     42.234404  \n",
      "15192       -0.137106         0.004253   57.546958     49.657677     42.302070  \n",
      "15193       -0.136747         0.005205   59.511510     49.999100     42.372062  \n",
      "15194       -0.136353         0.005714   62.498992     50.326944     42.442625  \n",
      "15195       -0.135902         0.006535   61.030768     50.730055     42.515792  \n",
      "15196       -0.135397         0.007327   59.555801     51.181671     42.593697  \n",
      "15197       -0.134832         0.008189   57.221021     51.519456     42.672853  \n",
      "15198       -0.134210         0.009009   61.111484     51.793740     42.754263  \n",
      "15199       -0.133536         0.009787   65.596947     51.911158     42.835151  \n",
      "15200       -0.132803         0.010626   70.904847     51.911379     42.912975  \n",
      "15201       -0.132061         0.010757   67.758952     51.875381     42.986614  \n",
      "15202       -0.131311         0.010867   76.340512     51.816477     43.055100  \n",
      "15203       -0.130538         0.011209  100.000000     51.851854     43.120142  \n",
      "15204       -0.129623         0.013272    0.000000     51.828821     43.181101  \n",
      "15205       -0.128593         0.014928    0.000000     51.857013     43.238493  \n",
      "\n",
      "[40 rows x 392 columns]\n"
     ]
    }
   ],
   "source": [
    "print(df.tail(40))"
   ]
  },
  {
   "cell_type": "code",
   "execution_count": 17,
   "id": "governing-heath",
   "metadata": {},
   "outputs": [],
   "source": [
    "\n",
    "\n",
    "#close_vals_list = df['adj_close']\n",
    "\n",
    "df.fillna(0, inplace=True)\n",
    "\n",
    "#df.fillna(0, inplace=True)\n",
    "\n",
    "#BUY => 1, SELL => 0, HOLD => 2\n",
    "\n",
    "num_test = int(.10*len(df))\n",
    "num_train = len(df) - num_test\n",
    "\n",
    "# Split into train, cv, and test\n",
    "train = df[:num_train]\n",
    "test = df[num_train:]\n",
    "\n",
    "#print(test['datetime'].iloc[[-1]])\n",
    "#print(test['test_labels'].iloc[[-1]])\n",
    "\n",
    "train_close_vals = close_vals_list[:num_train]\n",
    "test_close_vals = close_vals_list[num_train:]\n",
    "\n",
    "#test_dates_list = test['date']\n",
    "#BUY => 1, SELL => 0, HOLD => 2"
   ]
  },
  {
   "cell_type": "code",
   "execution_count": 18,
   "id": "removable-amazon",
   "metadata": {},
   "outputs": [],
   "source": [
    "test_dates_list = test['datetime']"
   ]
  },
  {
   "cell_type": "code",
   "execution_count": 19,
   "id": "interior-grocery",
   "metadata": {},
   "outputs": [],
   "source": [
    "train_dates_list = train['datetime']"
   ]
  },
  {
   "cell_type": "code",
   "execution_count": 20,
   "id": "african-limitation",
   "metadata": {},
   "outputs": [],
   "source": [
    "test_adj_close_list = close_vals_list[num_train:]"
   ]
  },
  {
   "cell_type": "code",
   "execution_count": 21,
   "id": "dimensional-search",
   "metadata": {},
   "outputs": [],
   "source": [
    "cols_to_scale = add_scale(num_interval_lag)\n",
    "#cols_to_scale.remove(cols_to_rem)\n",
    "\n",
    "# Do scaling for train set\n",
    "# Here we only scale the train dataset, and not the entire dataset to prevent information leak\n"
   ]
  },
  {
   "cell_type": "code",
   "execution_count": 22,
   "id": "partial-shopper",
   "metadata": {},
   "outputs": [],
   "source": [
    "for element in cols_to_rem:\n",
    "\n",
    "    if element in cols_to_scale:\n",
    "\n",
    "        cols_to_scale.remove(element)"
   ]
  },
  {
   "cell_type": "code",
   "execution_count": 30,
   "id": "plastic-gardening",
   "metadata": {},
   "outputs": [],
   "source": [
    "from sklearn.preprocessing import StandardScaler\n",
    "from sklearn.preprocessing import Normalizer\n",
    "from sklearn.preprocessing import normalize"
   ]
  },
  {
   "cell_type": "code",
   "execution_count": 24,
   "id": "former-crawford",
   "metadata": {},
   "outputs": [],
   "source": [
    "scaler = StandardScaler()\n",
    "\n",
    "scaler.fit(train[cols_to_scale])\n",
    "train_scaled = scaler.transform(train[cols_to_scale])\n",
    "\n",
    "# Convert the numpy array back into pandas dataframe\n",
    "\n",
    "train_scaled = pd.DataFrame(train_scaled, columns=cols_to_scale)"
   ]
  },
  {
   "cell_type": "code",
   "execution_count": 36,
   "id": "bulgarian-ethics",
   "metadata": {},
   "outputs": [],
   "source": [
    "\n",
    "\n",
    "# Convert the numpy array back into pandas dataframe\n",
    "\n",
    "train_scaled_3, norms = normalize(train[cols_to_scale], return_norm=True)"
   ]
  },
  {
   "cell_type": "code",
   "execution_count": 37,
   "id": "offensive-orientation",
   "metadata": {},
   "outputs": [],
   "source": [
    "train_scaled_3 = pd.DataFrame(train_scaled_3, columns=cols_to_scale)\n"
   ]
  },
  {
   "cell_type": "code",
   "execution_count": 25,
   "id": "egyptian-third",
   "metadata": {},
   "outputs": [],
   "source": [
    "scaler_2 = Normalizer()\n",
    "\n",
    "scaler_2.fit(train[cols_to_scale])\n",
    "train_scaled_2 = scaler_2.transform(train[cols_to_scale])\n",
    "\n",
    "# Convert the numpy array back into pandas dataframe\n",
    "\n",
    "train_scaled_2 = pd.DataFrame(train_scaled_2, columns=cols_to_scale)"
   ]
  },
  {
   "cell_type": "code",
   "execution_count": 28,
   "id": "known-elite",
   "metadata": {},
   "outputs": [
    {
     "data": {
      "text/plain": [
       "0       -25.156084\n",
       "1        -0.490500\n",
       "2        -0.490500\n",
       "3        -0.484852\n",
       "4        -0.490500\n",
       "           ...    \n",
       "13681    -2.316883\n",
       "13682    -2.322533\n",
       "13683    -2.373369\n",
       "13684    -2.330063\n",
       "13685    -2.335712\n",
       "Name: open_lag_1, Length: 13686, dtype: float64"
      ]
     },
     "execution_count": 28,
     "metadata": {},
     "output_type": "execute_result"
    }
   ],
   "source": [
    "train_scaled['open_lag_1']"
   ]
  },
  {
   "cell_type": "code",
   "execution_count": 29,
   "id": "worse-sigma",
   "metadata": {},
   "outputs": [
    {
     "data": {
      "text/plain": [
       "0        0.000000\n",
       "1        0.447207\n",
       "2        0.333314\n",
       "3        0.277378\n",
       "4        0.242506\n",
       "           ...   \n",
       "13681    0.000023\n",
       "13682    0.000020\n",
       "13683    0.000013\n",
       "13684    0.000013\n",
       "13685    0.000013\n",
       "Name: open_lag_1, Length: 13686, dtype: float64"
      ]
     },
     "execution_count": 29,
     "metadata": {},
     "output_type": "execute_result"
    }
   ],
   "source": [
    "train_scaled_2['open_lag_1']"
   ]
  },
  {
   "cell_type": "code",
   "execution_count": 38,
   "id": "painted-canon",
   "metadata": {},
   "outputs": [
    {
     "data": {
      "text/plain": [
       "0        0.000000\n",
       "1        0.447207\n",
       "2        0.333314\n",
       "3        0.277378\n",
       "4        0.242506\n",
       "           ...   \n",
       "13681    0.000023\n",
       "13682    0.000020\n",
       "13683    0.000013\n",
       "13684    0.000013\n",
       "13685    0.000013\n",
       "Name: open_lag_1, Length: 13686, dtype: float64"
      ]
     },
     "execution_count": 38,
     "metadata": {},
     "output_type": "execute_result"
    }
   ],
   "source": [
    "train_scaled_3['open_lag_1']"
   ]
  },
  {
   "cell_type": "code",
   "execution_count": 43,
   "id": "alpha-excerpt",
   "metadata": {},
   "outputs": [],
   "source": [
    "de_normed = train_scaled_3['open_lag_1'] * norms"
   ]
  },
  {
   "cell_type": "code",
   "execution_count": 44,
   "id": "forward-stomach",
   "metadata": {},
   "outputs": [
    {
     "data": {
      "text/plain": [
       "0          0.000000\n",
       "1        131.000000\n",
       "2        131.000000\n",
       "3        131.030000\n",
       "4        131.000000\n",
       "            ...    \n",
       "13681    121.300003\n",
       "13682    121.269997\n",
       "13683    121.000000\n",
       "13684    121.230000\n",
       "13685    121.200000\n",
       "Name: open_lag_1, Length: 13686, dtype: float64"
      ]
     },
     "execution_count": 44,
     "metadata": {},
     "output_type": "execute_result"
    }
   ],
   "source": [
    "de_normed"
   ]
  },
  {
   "cell_type": "code",
   "execution_count": 45,
   "id": "cosmetic-school",
   "metadata": {},
   "outputs": [
    {
     "data": {
      "text/plain": [
       "0          0.000000\n",
       "1        131.000000\n",
       "2        131.000000\n",
       "3        131.030000\n",
       "4        131.000000\n",
       "            ...    \n",
       "13681    121.300003\n",
       "13682    121.269997\n",
       "13683    121.000000\n",
       "13684    121.230000\n",
       "13685    121.200000\n",
       "Name: open_lag_1, Length: 13686, dtype: float64"
      ]
     },
     "execution_count": 45,
     "metadata": {},
     "output_type": "execute_result"
    }
   ],
   "source": [
    "train['open_lag_1']"
   ]
  },
  {
   "cell_type": "code",
   "execution_count": null,
   "id": "funky-guitar",
   "metadata": {},
   "outputs": [],
   "source": []
  },
  {
   "cell_type": "code",
   "execution_count": null,
   "id": "different-superior",
   "metadata": {},
   "outputs": [],
   "source": []
  },
  {
   "cell_type": "code",
   "execution_count": null,
   "id": "fuzzy-prefix",
   "metadata": {},
   "outputs": [],
   "source": [
    "#scaler = StandardScaler()\n",
    "\n",
    "scaler = StandardScaler()\n",
    "\n",
    "scaler.fit(train[cols_to_scale])\n",
    "train_scaled = scaler.transform(train[cols_to_scale])\n",
    "\n",
    "# Convert the numpy array back into pandas dataframe\n",
    "\n",
    "train_scaled = pd.DataFrame(train_scaled, columns=cols_to_scale)\n",
    "\n",
    "train_scaled = train_scaled[slow:]\n",
    "train = train[slow:]\n",
    "\n",
    "#scaling test dataset\n",
    "\n",
    "#scaler_2 = StandardScaler()\n",
    "\n",
    "#scaler_2  = MinMaxScaler(feature_range=(-1,1))\n",
    "#scaler.fit(test[cols_to_scale])\n",
    "test_scaled = scaler.transform(test[cols_to_scale])\n",
    "\n",
    "# Convert the numpy array back into pandas dataframe\n",
    "\n",
    "test_scaled = pd.DataFrame(test_scaled, columns=cols_to_scale)\n",
    "\n",
    "features = cols_to_scale"
   ]
  },
  {
   "cell_type": "code",
   "execution_count": null,
   "id": "saving-large",
   "metadata": {},
   "outputs": [],
   "source": [
    "features"
   ]
  },
  {
   "cell_type": "code",
   "execution_count": null,
   "id": "arbitrary-small",
   "metadata": {},
   "outputs": [],
   "source": []
  },
  {
   "cell_type": "code",
   "execution_count": null,
   "id": "nearby-omega",
   "metadata": {},
   "outputs": [],
   "source": [
    "features.remove('adj_close')"
   ]
  },
  {
   "cell_type": "code",
   "execution_count": null,
   "id": "optimum-collector",
   "metadata": {},
   "outputs": [],
   "source": [
    "print('adj_close' in features)"
   ]
  },
  {
   "cell_type": "code",
   "execution_count": null,
   "id": "enhanced-maximum",
   "metadata": {},
   "outputs": [],
   "source": [
    "print('adj_close' in train_scaled.columns)"
   ]
  },
  {
   "cell_type": "code",
   "execution_count": null,
   "id": "romance-eclipse",
   "metadata": {},
   "outputs": [],
   "source": [
    "#features.remove(target)\n",
    "\n",
    "# Split into X and y\n",
    "'''X_train_scaled = train_scaled[features]\n",
    "y_train_scaled = train['labels']\n",
    "\n",
    "X_test_scaled = test_scaled[features]\n",
    "y_test_scaled = test['labels']'''\n",
    "\n",
    "X_train = train_scaled[features]\n",
    "y_train = train_scaled['adj_close']\n",
    "\n",
    "X_test = test_scaled[features]\n",
    "y_test = test_scaled['adj_close']"
   ]
  },
  {
   "cell_type": "code",
   "execution_count": null,
   "id": "liberal-conditioning",
   "metadata": {},
   "outputs": [],
   "source": []
  },
  {
   "cell_type": "code",
   "execution_count": null,
   "id": "posted-stopping",
   "metadata": {},
   "outputs": [],
   "source": [
    "import pyswarms as ps\n",
    "\n",
    "from sklearn.metrics import mean_squared_error"
   ]
  },
  {
   "cell_type": "code",
   "execution_count": null,
   "id": "antique-theorem",
   "metadata": {},
   "outputs": [],
   "source": []
  },
  {
   "cell_type": "code",
   "execution_count": null,
   "id": "unauthorized-kitchen",
   "metadata": {},
   "outputs": [],
   "source": []
  },
  {
   "cell_type": "code",
   "execution_count": null,
   "id": "going-toner",
   "metadata": {},
   "outputs": [],
   "source": []
  },
  {
   "cell_type": "code",
   "execution_count": null,
   "id": "still-richards",
   "metadata": {},
   "outputs": [],
   "source": [
    "def fitness_function(position):\n",
    "    \n",
    "    #print(position)\n",
    "    \n",
    "    #svrRegressor = SVR(kernel='rbf', gamma = position[0].all(), C = position[1].all() )\n",
    "    \n",
    "    clfrbf=LSSVMRegression(\n",
    "        gamma=position[0].all(),       #set the gamma-hyper parameter equal to 1\n",
    "        kernel='rbf', #use the linear kernel\n",
    "        sigma=position[1].all(),\n",
    "            )\n",
    "    \n",
    "    clfrbf.fit(X_train, y_train)\n",
    "    \n",
    "    y_train_pred = clfrbf.predict(X_train)\n",
    "    \n",
    "    y_test_pred = clfrbf.predict(X_test)\n",
    "    \n",
    "    mse_test =mean_squared_error(y_test, y_test_pred)\n",
    "    \n",
    "    rmse_test = math.sqrt(mse_test)\n",
    "    \n",
    "    print('Optimizing the Parameters ..... C = {c}, Gamma={gamma}'.format(c=position[1], gamma=position[0]))\n",
    "    \n",
    "    mse_train = mean_squared_error(y_train, y_train_pred)\n",
    "    \n",
    "    rmse_train = math.sqrt(mse_train)\n",
    "    \n",
    "    #list(range(mse_f_train,rmse_f_train))\n",
    "    retVal= rmse_test #Return a vector instead of single value. you can use the rmse_test and ignore rmse_train\n",
    "    \n",
    "    return retVal"
   ]
  },
  {
   "cell_type": "code",
   "execution_count": null,
   "id": "consolidated-encyclopedia",
   "metadata": {},
   "outputs": [],
   "source": []
  },
  {
   "cell_type": "code",
   "execution_count": null,
   "id": "adapted-anime",
   "metadata": {},
   "outputs": [],
   "source": [
    "lb = [10, 0.0001]\n",
    "ub = [1000,0.1]\n",
    "#mb = [100, 0.001]\n",
    "bounds = (lb,ub)\n",
    "\n",
    "options = {'c1': 0.5, 'c2': 0.3, 'w':0.9}\n",
    "optimizer = ps.single.GlobalBestPSO(n_particles=20, dimensions=2,options=options, bounds = bounds)\n",
    "gamma_opt, C_opt = optimizer.optimize(fitness_function, iters=50)"
   ]
  },
  {
   "cell_type": "code",
   "execution_count": null,
   "id": "complete-underwear",
   "metadata": {
    "scrolled": true
   },
   "outputs": [],
   "source": [
    "print(gamma_opt)\n",
    "print(C_opt)"
   ]
  },
  {
   "cell_type": "code",
   "execution_count": null,
   "id": "interested-finance",
   "metadata": {},
   "outputs": [],
   "source": []
  },
  {
   "cell_type": "code",
   "execution_count": null,
   "id": "under-plenty",
   "metadata": {},
   "outputs": [],
   "source": []
  },
  {
   "cell_type": "code",
   "execution_count": null,
   "id": "indonesian-nudist",
   "metadata": {},
   "outputs": [],
   "source": []
  },
  {
   "cell_type": "code",
   "execution_count": null,
   "id": "mediterranean-cream",
   "metadata": {},
   "outputs": [],
   "source": [
    "clfrbf=LSSVMRegression(\n",
    "        gamma=C_opt[0],       #set the gamma-hyper parameter equal to 1\n",
    "        kernel='rbf', #use the linear kernel\n",
    "        sigma=C_opt[1]\n",
    "            )"
   ]
  },
  {
   "cell_type": "code",
   "execution_count": null,
   "id": "little-donor",
   "metadata": {},
   "outputs": [],
   "source": [
    "clfrbf.fit(X_train, y_train)"
   ]
  },
  {
   "cell_type": "code",
   "execution_count": null,
   "id": "compound-smooth",
   "metadata": {},
   "outputs": [],
   "source": [
    "y_hat = clfrbf.predict(X_test)"
   ]
  },
  {
   "cell_type": "code",
   "execution_count": null,
   "id": "reliable-bread",
   "metadata": {},
   "outputs": [],
   "source": [
    "y_hat_train = clfrbf.predict(X_train)"
   ]
  },
  {
   "cell_type": "code",
   "execution_count": null,
   "id": "isolated-hypothetical",
   "metadata": {},
   "outputs": [],
   "source": [
    "test_scaled['adj_close'] = y_hat\n",
    "\n",
    "inv_scaler = scaler.inverse_transform(test_scaled)\n",
    "\n",
    "y_hat_descaled = pd.DataFrame(inv_scaler, columns = test_scaled.columns)"
   ]
  },
  {
   "cell_type": "code",
   "execution_count": null,
   "id": "immune-yahoo",
   "metadata": {},
   "outputs": [],
   "source": []
  },
  {
   "cell_type": "code",
   "execution_count": null,
   "id": "prospective-mambo",
   "metadata": {},
   "outputs": [],
   "source": []
  },
  {
   "cell_type": "code",
   "execution_count": null,
   "id": "auburn-empire",
   "metadata": {},
   "outputs": [],
   "source": [
    "these_params = clfrbf.get_params()"
   ]
  },
  {
   "cell_type": "code",
   "execution_count": null,
   "id": "standard-basketball",
   "metadata": {},
   "outputs": [],
   "source": [
    "print(these_params)"
   ]
  },
  {
   "cell_type": "code",
   "execution_count": null,
   "id": "opposite-spending",
   "metadata": {},
   "outputs": [],
   "source": []
  },
  {
   "cell_type": "code",
   "execution_count": null,
   "id": "immediate-significance",
   "metadata": {},
   "outputs": [],
   "source": []
  },
  {
   "cell_type": "code",
   "execution_count": null,
   "id": "illegal-tampa",
   "metadata": {},
   "outputs": [],
   "source": []
  },
  {
   "cell_type": "code",
   "execution_count": null,
   "id": "supported-problem",
   "metadata": {},
   "outputs": [],
   "source": []
  },
  {
   "cell_type": "code",
   "execution_count": null,
   "id": "julian-guard",
   "metadata": {},
   "outputs": [],
   "source": [
    "import pickle\n",
    "# this methodology works for saving a trained model\n",
    "pickle.dump(clfrbf, open(\"test.model\", \"wb\"))"
   ]
  },
  {
   "cell_type": "code",
   "execution_count": null,
   "id": "under-location",
   "metadata": {},
   "outputs": [],
   "source": [
    "import joblib as joblib\n",
    "from joblib import dump\n",
    "filename = \"test.joblib\"\n",
    "joblib.dump(clfrbf, filename)"
   ]
  },
  {
   "cell_type": "code",
   "execution_count": null,
   "id": "brown-clark",
   "metadata": {},
   "outputs": [],
   "source": []
  },
  {
   "cell_type": "code",
   "execution_count": null,
   "id": "falling-nevada",
   "metadata": {},
   "outputs": [],
   "source": [
    "import dill\n",
    "\n",
    "with open(\"test\", \"wb\") as dill_file:\n",
    "    dill.dump(clfrbf, dill_file)"
   ]
  },
  {
   "cell_type": "code",
   "execution_count": null,
   "id": "inappropriate-benjamin",
   "metadata": {},
   "outputs": [],
   "source": []
  },
  {
   "cell_type": "code",
   "execution_count": null,
   "id": "hungarian-wheat",
   "metadata": {},
   "outputs": [],
   "source": [
    "this_save = dill.dumps(clfrbf) "
   ]
  },
  {
   "cell_type": "code",
   "execution_count": null,
   "id": "original-barrier",
   "metadata": {},
   "outputs": [],
   "source": []
  },
  {
   "cell_type": "code",
   "execution_count": null,
   "id": "stunning-thread",
   "metadata": {},
   "outputs": [],
   "source": [
    "this_load = pd.read_pickle(r'test.model')"
   ]
  },
  {
   "cell_type": "code",
   "execution_count": null,
   "id": "designing-strand",
   "metadata": {},
   "outputs": [],
   "source": [
    "y_hat = this_load.predict(X_test)"
   ]
  },
  {
   "cell_type": "code",
   "execution_count": null,
   "id": "tropical-remove",
   "metadata": {},
   "outputs": [],
   "source": []
  },
  {
   "cell_type": "code",
   "execution_count": null,
   "id": "protective-cancer",
   "metadata": {},
   "outputs": [],
   "source": [
    "with open(\"test.model\", \"wb\") as dill_file:\n",
    "    dill.dump(this_save, dill_file)"
   ]
  },
  {
   "cell_type": "code",
   "execution_count": null,
   "id": "quality-halloween",
   "metadata": {},
   "outputs": [],
   "source": [
    "this_open = dill.load(\"test.model\") "
   ]
  },
  {
   "cell_type": "code",
   "execution_count": null,
   "id": "substantial-reduction",
   "metadata": {},
   "outputs": [],
   "source": [
    "#with open(\"test.model\", \"rb\") as dill_file:\n",
    "    test_clf = dill.load(this_open)"
   ]
  },
  {
   "cell_type": "code",
   "execution_count": null,
   "id": "addressed-impossible",
   "metadata": {},
   "outputs": [],
   "source": []
  },
  {
   "cell_type": "code",
   "execution_count": null,
   "id": "encouraging-rating",
   "metadata": {},
   "outputs": [],
   "source": []
  },
  {
   "cell_type": "code",
   "execution_count": null,
   "id": "indonesian-accreditation",
   "metadata": {},
   "outputs": [],
   "source": []
  },
  {
   "cell_type": "code",
   "execution_count": null,
   "id": "interested-african",
   "metadata": {},
   "outputs": [],
   "source": [
    "y_hat_descaled['adj_close']"
   ]
  },
  {
   "cell_type": "code",
   "execution_count": null,
   "id": "authentic-science",
   "metadata": {},
   "outputs": [],
   "source": [
    "%matplotlib notebook\n",
    "plt.rcParams['figure.figsize'] = [10, 6]\n",
    "\n",
    "plt.plot(test_dates_list, y_hat_descaled['adj_close'])\n",
    "plt.plot(test_dates_list, test_close_vals)\n",
    "plt.legend(['pred','true'])\n",
    "plt.show"
   ]
  },
  {
   "cell_type": "code",
   "execution_count": null,
   "id": "leading-minister",
   "metadata": {},
   "outputs": [],
   "source": []
  },
  {
   "cell_type": "code",
   "execution_count": null,
   "id": "dramatic-refund",
   "metadata": {},
   "outputs": [],
   "source": [
    "y_hat = clfrbf.predict(X_train)"
   ]
  },
  {
   "cell_type": "code",
   "execution_count": null,
   "id": "minus-memory",
   "metadata": {},
   "outputs": [],
   "source": [
    "train_scaled['adj_close'] = y_hat\n",
    "\n",
    "inv_scaler = scaler.inverse_transform(train_scaled)\n",
    "\n",
    "y_hat_descaled = pd.DataFrame(inv_scaler, columns = train_scaled.columns)"
   ]
  },
  {
   "cell_type": "code",
   "execution_count": null,
   "id": "exotic-champagne",
   "metadata": {},
   "outputs": [],
   "source": [
    "%matplotlib notebook\n",
    "plt.rcParams['figure.figsize'] = [10, 6]\n",
    "\n",
    "plt.plot(train_dates_list[slow:], y_hat_descaled['adj_close'])\n",
    "plt.plot(train_dates_list[slow:], train_close_vals[slow:])\n",
    "plt.legend(['pred','true'])\n",
    "plt.show"
   ]
  },
  {
   "cell_type": "code",
   "execution_count": null,
   "id": "conceptual-wayne",
   "metadata": {},
   "outputs": [],
   "source": []
  },
  {
   "cell_type": "code",
   "execution_count": null,
   "id": "american-elite",
   "metadata": {},
   "outputs": [],
   "source": []
  }
 ],
 "metadata": {
  "kernelspec": {
   "display_name": "Python 3",
   "language": "python",
   "name": "python3"
  },
  "language_info": {
   "codemirror_mode": {
    "name": "ipython",
    "version": 3
   },
   "file_extension": ".py",
   "mimetype": "text/x-python",
   "name": "python",
   "nbconvert_exporter": "python",
   "pygments_lexer": "ipython3",
   "version": "3.8.5"
  }
 },
 "nbformat": 4,
 "nbformat_minor": 5
}
